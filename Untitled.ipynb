{
 "cells": [
  {
   "cell_type": "markdown",
   "metadata": {},
   "source": [
    "### iv. [5 pts] Build a directed graph relating Lego Sets and Lego Parts by implementing the `build_graph()` method. \n",
    "\n",
    "You will modify the `self.adjacency_list` instance variable by adding nodes and edges.  You must use the methods `get_sets()` and `get_top_parts()` within this method to retrieve the graph data. \n",
    "\n",
    "This is a directed graph: you will only represent the directed edge from the Lego Set as a source and the Lego Part as the target. The sample adjacency list you loaded earlier from \"sample_graph.pickle\" was an example of a directed graph representation.  \n",
    " \n",
    "\n",
    "The following steps demonstrate an example of how you might construct your graph in the `build_graph()` method.\n",
    "\n",
    "**FUNCTION** build graph \n",
    "> \n",
    "> Lego Sets = **CALL** get sets \n",
    "> \n",
    "> **FOR EACH** Lego Set in Lego Sets:\n",
    "> > \n",
    "> > **IF** the Lego Set is not in the adjacency list **THEN**:\n",
    "> > \n",
    "> > > add the Lego Set as a node \n",
    "> > >\n",
    "> > **ENDIF**\n",
    "> > \n",
    "> > Lego Parts = **CALL** get top parts\n",
    "> > \n",
    "> > **FOR EACH** Lego Part in Lego Parts:\t\n",
    "> > \n",
    "> > > **IF** the Lego Part is not in the adjacency list **THEN**:\n",
    "> > >\n",
    "> > > > add the Lego Part as a node\n",
    "> > > > \n",
    "> > > **ENDIF**\n",
    "> > > \n",
    "> > > add edge from the Lego Set to the Lego Part\n",
    "> >\n",
    "> > **ENDFOR** \n",
    "> \n",
    "> **ENDFOR**\n",
    ">\n",
    "**ENDFUNCTION**"
   ]
  },
  {
   "cell_type": "markdown",
   "metadata": {},
   "source": [
    "nodes: 19\n",
    "edges: 21\n",
    "------------------ADJACENCY--LIST---------------------\n",
    "75192-1: {'3023', '15712', '6558', '3021', '2780'}\n",
    "2780: set()\n",
    "3023: set()\n",
    "6558: set()\n",
    "15712: set()\n",
    "3021: set()\n",
    "71043-1: {'54200', '15573', '2420', '3005', '2412b'}\n",
    "54200: set()\n",
    "15573: set()\n",
    "3005: set()\n",
    "2412b: set()\n",
    "2420: set()\n",
    "10256-1: {'3005', '3024', '3062b', '2877'}\n",
    "3024: set()\n",
    "3062b: set()\n",
    "2877: set()\n",
    "10189-1: {'3005', '3024', '3062b', '2877'}\n",
    "SWMP-1: {'3710', '3024', '3023'}\n",
    "3710: set()"
   ]
  },
  {
   "cell_type": "code",
   "execution_count": null,
   "metadata": {},
   "outputs": [],
   "source": []
  },
  {
   "cell_type": "markdown",
   "metadata": {},
   "source": [
    "### iii. [5 pts] Get the Lego Parts with the highest quantities in a given Lego Set inventory.  \n",
    "\n",
    "In the Rebrickable API documentation, locate the call that will **get a list of all Inventory Parts for a Set**\n",
    " \n",
    "Implement the method `get_top_parts()` in the `Graph` class to download this data.  Each part returned will contain a `quantity` value specifying how many parts are present in the set. You will be required to handle pagination within the API calls to return all of the data.  To minimize the number of pages, we recommend that you set the API `page_size` parameter to the maximum allowable value.\n",
    "\n",
    "You **must** filter and sort this data to meet the following requirements:\n",
    "\n",
    "1. Discard any part that has a value of `'is_spare' : true`. (This removes most of the duplicate `part_num`s)    \n",
    "After removing the top_parts where is_spare = True, **you may still be left with some duplicate part_nums to handle**.  In this case, sum the quantity of any duplicate part_nums.\n",
    "\n",
    "    e.g., Here is a list of parts with some duplicates:\n",
    "\n",
    "    `{part_num: ‘p2335’, quantity: 17},`\n",
    "\n",
    "    `{part_num: ‘p2335’, quantity: 5},`\n",
    "\n",
    "    `{part_num: ‘p55’: quantity: 4}`\n",
    "\n",
    "    In this case, sum the quantity of the part with `part_num 'p2335'` and ensure that the final list has unique part_nums:\n",
    "\n",
    "    List of parts duplicates merged:\n",
    "\n",
    "    `{part_num: ‘p2335’, quantity: 22},`\n",
    "\n",
    "    `{part_num: ‘p55’: quantity: 4}`\n",
    "    \n",
    "\n",
    "2. Sort the data to return the parts with the highest quantity value.\n",
    "    \n",
    "    e.g., Here are some sample parts data for a Lego Set that has the following 3 parts. \n",
    "\n",
    "    `{'part_num': '222', 'quantity': 25, 'is_spare': false},`\n",
    "\n",
    "    `{'part_num': '333', 'quantity': 22, 'is_spare': false},`\n",
    "\n",
    "    `{'part_num': '444', 'quantity': 21, 'is_spare': false}`  \n",
    "\n",
    "    Suppose that we have passed `max_top_parts` = 2.  In this case, return the 2 parts, i.e., `part_num` '222' and '333' becuase they have the highest quantities for the set.   \n",
    "\n",
    "\n",
    "The method signature **must** accept the arguments `set_num` and `max_top_parts` where:\n",
    "- `set_num` is a string representing a valid `set_num` in the Rebrickable database. \n",
    "- `max_top_parts` is a positive integer specifying how many of the top parts must be retrieved for the `set_num`\n",
    "\n",
    "Within the returned data, note that a Lego Part Number is given by the string `part_num`. The `get_top_parts()` **must** returns a list of `part_num`[s] of length specified by `max_top_parts`."
   ]
  },
  {
   "cell_type": "code",
   "execution_count": 2,
   "metadata": {},
   "outputs": [
    {
     "ename": "TypeError",
     "evalue": "unhashable type: 'slice'",
     "output_type": "error",
     "traceback": [
      "\u001b[0;31m---------------------------------------------------------------------------\u001b[0m",
      "\u001b[0;31mTypeError\u001b[0m                                 Traceback (most recent call last)",
      "\u001b[0;32m<ipython-input-2-d9ffb60303f6>\u001b[0m in \u001b[0;36m<module>\u001b[0;34m\u001b[0m\n\u001b[1;32m      1\u001b[0m \u001b[0ma\u001b[0m \u001b[0;34m=\u001b[0m \u001b[0;34m{\u001b[0m\u001b[0;34m}\u001b[0m\u001b[0;34m\u001b[0m\u001b[0;34m\u001b[0m\u001b[0m\n\u001b[0;32m----> 2\u001b[0;31m \u001b[0ma\u001b[0m\u001b[0;34m[\u001b[0m\u001b[0;34m'a'\u001b[0m\u001b[0;34m:\u001b[0m\u001b[0;34m'b'\u001b[0m\u001b[0;34m]\u001b[0m\u001b[0;34m\u001b[0m\u001b[0;34m\u001b[0m\u001b[0m\n\u001b[0m",
      "\u001b[0;31mTypeError\u001b[0m: unhashable type: 'slice'"
     ]
    }
   ],
   "source": [
    "a = {}\n",
    "a['a':'b']"
   ]
  },
  {
   "cell_type": "code",
   "execution_count": 20,
   "metadata": {},
   "outputs": [],
   "source": [
    "x ={'BIGBOX-1': set(), '3023': set(), '2780': set(), '6141': set(), '3020': set(), '98138': set(), '75192-1': set(), '2412b': set(), '3021': set(), '15712': set()}"
   ]
  },
  {
   "cell_type": "code",
   "execution_count": 21,
   "metadata": {},
   "outputs": [
    {
     "data": {
      "text/plain": [
       "{'BIGBOX-1': set(),\n",
       " '3023': set(),\n",
       " '2780': set(),\n",
       " '6141': set(),\n",
       " '3020': set(),\n",
       " '98138': set(),\n",
       " '75192-1': set(),\n",
       " '2412b': set(),\n",
       " '3021': set(),\n",
       " '15712': set()}"
      ]
     },
     "execution_count": 21,
     "metadata": {},
     "output_type": "execute_result"
    }
   ],
   "source": [
    "x"
   ]
  },
  {
   "cell_type": "code",
   "execution_count": 22,
   "metadata": {},
   "outputs": [],
   "source": [
    "x['BIGBOX-1'].add('123')"
   ]
  },
  {
   "cell_type": "code",
   "execution_count": 24,
   "metadata": {},
   "outputs": [],
   "source": [
    "x['BIGBOX-1'].add('345')"
   ]
  },
  {
   "cell_type": "code",
   "execution_count": 25,
   "metadata": {},
   "outputs": [
    {
     "data": {
      "text/plain": [
       "{'BIGBOX-1': {'123', '345'},\n",
       " '3023': set(),\n",
       " '2780': set(),\n",
       " '6141': set(),\n",
       " '3020': set(),\n",
       " '98138': set(),\n",
       " '75192-1': set(),\n",
       " '2412b': set(),\n",
       " '3021': set(),\n",
       " '15712': set()}"
      ]
     },
     "execution_count": 25,
     "metadata": {},
     "output_type": "execute_result"
    }
   ],
   "source": [
    "x"
   ]
  },
  {
   "cell_type": "code",
   "execution_count": 26,
   "metadata": {},
   "outputs": [],
   "source": [
    "y={'BIGBOX-1': {'3023', '98138', '3020', '6141', '2780'}, '3023': set(), '2780': set(), '6141': set(), '3020': set(), '98138': set(), '75192-1': {'3023', '15712', '3021', '2780', '2412b'}, '2412b': set(), '3021': set(), '15712': set()}"
   ]
  },
  {
   "cell_type": "code",
   "execution_count": 27,
   "metadata": {},
   "outputs": [
    {
     "data": {
      "text/plain": [
       "{'BIGBOX-1': {'2780', '3020', '3023', '6141', '98138'},\n",
       " '3023': set(),\n",
       " '2780': set(),\n",
       " '6141': set(),\n",
       " '3020': set(),\n",
       " '98138': set(),\n",
       " '75192-1': {'15712', '2412b', '2780', '3021', '3023'},\n",
       " '2412b': set(),\n",
       " '3021': set(),\n",
       " '15712': set()}"
      ]
     },
     "execution_count": 27,
     "metadata": {},
     "output_type": "execute_result"
    }
   ],
   "source": [
    "y"
   ]
  },
  {
   "cell_type": "markdown",
   "metadata": {},
   "source": [
    "Implement the out_degree_for_node() method. Remember that all Lego Set nodes will have an out-degree > 0. All Lego Parts nodes will have an out-degree = 0.\n",
    "\n",
    "\n",
    "Implement the in_degree_for_node() method. Remember that all Lego Parts will have an in-degree >0. All Lego Sets will have an in-degree = 0."
   ]
  },
  {
   "cell_type": "code",
   "execution_count": 28,
   "metadata": {},
   "outputs": [
    {
     "ename": "NameError",
     "evalue": "name 'Graph' is not defined",
     "output_type": "error",
     "traceback": [
      "\u001b[0;31m---------------------------------------------------------------------------\u001b[0m",
      "\u001b[0;31mNameError\u001b[0m                                 Traceback (most recent call last)",
      "\u001b[0;32m<ipython-input-28-322c4a91e814>\u001b[0m in \u001b[0;36m<module>\u001b[0;34m\u001b[0m\n\u001b[0;32m----> 1\u001b[0;31m \u001b[0mgraph\u001b[0m \u001b[0;34m=\u001b[0m \u001b[0mGraph\u001b[0m\u001b[0;34m(\u001b[0m\u001b[0mwith_file\u001b[0m\u001b[0;34m=\u001b[0m\u001b[0;34m\"sample_graph.pickle\"\u001b[0m\u001b[0;34m)\u001b[0m\u001b[0;34m\u001b[0m\u001b[0;34m\u001b[0m\u001b[0m\n\u001b[0m\u001b[1;32m      2\u001b[0m \u001b[0mprint\u001b[0m\u001b[0;34m(\u001b[0m\u001b[0mgraph\u001b[0m\u001b[0;34m.\u001b[0m\u001b[0mout_degree_for_node\u001b[0m\u001b[0;34m(\u001b[0m\u001b[0;34m\"75192-1\"\u001b[0m\u001b[0;34m)\u001b[0m\u001b[0;34m)\u001b[0m\u001b[0;34m\u001b[0m\u001b[0;34m\u001b[0m\u001b[0m\n\u001b[1;32m      3\u001b[0m \u001b[0mprint\u001b[0m\u001b[0;34m(\u001b[0m\u001b[0mgraph\u001b[0m\u001b[0;34m.\u001b[0m\u001b[0mout_degree_for_node\u001b[0m\u001b[0;34m(\u001b[0m\u001b[0;34m\"3005\"\u001b[0m\u001b[0;34m)\u001b[0m\u001b[0;34m)\u001b[0m\u001b[0;34m\u001b[0m\u001b[0;34m\u001b[0m\u001b[0m\n\u001b[1;32m      4\u001b[0m \u001b[0;34m\u001b[0m\u001b[0m\n\u001b[1;32m      5\u001b[0m \u001b[0;34m\u001b[0m\u001b[0m\n",
      "\u001b[0;31mNameError\u001b[0m: name 'Graph' is not defined"
     ]
    }
   ],
   "source": [
    "graph = Graph(with_file=\"sample_graph.pickle\")\n",
    "print(graph.out_degree_for_node(\"75192-1\"))\n",
    "print(graph.out_degree_for_node(\"3005\"))\n",
    "\n",
    "\n",
    "graph = Graph(with_file=\"sample_graph.pickle\")\n",
    "print(graph.in_degree_for_node(\"3005\"))\n",
    "print(graph.in_degree_for_node(\"75192-1\"))\n"
   ]
  },
  {
   "cell_type": "markdown",
   "metadata": {},
   "source": [
    "v. [4 pts] Graph Filtering\n",
    "Filter out leaf nodes, i.e., nodes with an in-degree = 1. Filtering the nodes is accomplished by deleting the node id from the adjacency list. You should not be filtering out any nodes with an in-degree = 0. Please feel free to discuss the reason why in Piazza.\n",
    "\n",
    "To check your work, consider using some of the graph analytics methods you have implemented to check your graph. For example, consider that the average in-degree of your filtered graph would not be < 2."
   ]
  },
  {
   "cell_type": "code",
   "execution_count": 29,
   "metadata": {},
   "outputs": [
    {
     "ename": "NameError",
     "evalue": "name 'Graph' is not defined",
     "output_type": "error",
     "traceback": [
      "\u001b[0;31m---------------------------------------------------------------------------\u001b[0m",
      "\u001b[0;31mNameError\u001b[0m                                 Traceback (most recent call last)",
      "\u001b[0;32m<ipython-input-29-3beb6434bf7c>\u001b[0m in \u001b[0;36m<module>\u001b[0;34m\u001b[0m\n\u001b[0;32m----> 1\u001b[0;31m \u001b[0mgraph\u001b[0m \u001b[0;34m=\u001b[0m \u001b[0mGraph\u001b[0m\u001b[0;34m(\u001b[0m\u001b[0mwith_file\u001b[0m\u001b[0;34m=\u001b[0m\u001b[0;34m\"sample_graph.pickle\"\u001b[0m\u001b[0;34m)\u001b[0m\u001b[0;34m\u001b[0m\u001b[0;34m\u001b[0m\u001b[0m\n\u001b[0m\u001b[1;32m      2\u001b[0m \u001b[0mprint\u001b[0m\u001b[0;34m(\u001b[0m\u001b[0;34m\"average in-degree: \"\u001b[0m \u001b[0;34m+\u001b[0m \u001b[0mstr\u001b[0m\u001b[0;34m(\u001b[0m\u001b[0mgraph\u001b[0m\u001b[0;34m.\u001b[0m\u001b[0maverage_in_degree\u001b[0m\u001b[0;34m(\u001b[0m\u001b[0;34m)\u001b[0m\u001b[0;34m)\u001b[0m\u001b[0;34m)\u001b[0m\u001b[0;34m\u001b[0m\u001b[0;34m\u001b[0m\u001b[0m\n",
      "\u001b[0;31mNameError\u001b[0m: name 'Graph' is not defined"
     ]
    }
   ],
   "source": [
    "graph = Graph(with_file=\"sample_graph.pickle\")\n",
    "graph.filter_graph_min_in_degree(2)\n",
    "graph.show_graph_info()"
   ]
  },
  {
   "cell_type": "code",
   "execution_count": 30,
   "metadata": {},
   "outputs": [
    {
     "data": {
      "text/plain": [
       "{'75192-1': {'15712', '2780', '3021', '3023', '6558'},\n",
       " '2780': set(),\n",
       " '3023': set(),\n",
       " '6558': set(),\n",
       " '15712': set(),\n",
       " '3021': set(),\n",
       " '71043-1': {'15573', '2412b', '2420', '3005', '54200'},\n",
       " '54200': set(),\n",
       " '15573': set(),\n",
       " '3005': set(),\n",
       " '2412b': set(),\n",
       " '2420': set(),\n",
       " '10256-1': {'2877', '3005', '3024', '3062b'},\n",
       " '3024': set(),\n",
       " '3062b': set(),\n",
       " '2877': set(),\n",
       " '10189-1': {'2877', '3005', '3024', '3062b'},\n",
       " 'SWMP-1': {'3023', '3024', '3710'},\n",
       " '3710': set()}"
      ]
     },
     "execution_count": 30,
     "metadata": {},
     "output_type": "execute_result"
    }
   ],
   "source": [
    "{'75192-1': {'3023', '15712', '6558', '3021', '2780'}, '2780': set(), '3023': set(), '6558': set(), '15712': set(), '3021': set(), '71043-1': {'54200', '15573', '2420', '3005', '2412b'}, '54200': set(), '15573': set(), '3005': set(), '2412b': set(), '2420': set(), '10256-1': {'3005', '3024', '3062b', '2877'}, '3024': set(), '3062b': set(), '2877': set(), '10189-1': {'3005', '3024', '3062b', '2877'}, 'SWMP-1': {'3710', '3024', '3023'}, '3710': set()}"
   ]
  },
  {
   "cell_type": "code",
   "execution_count": 31,
   "metadata": {},
   "outputs": [
    {
     "name": "stdout",
     "output_type": "stream",
     "text": [
      "False\n"
     ]
    }
   ],
   "source": [
    "a = 3\n",
    "print(a>0 and a<2)"
   ]
  },
  {
   "cell_type": "code",
   "execution_count": 32,
   "metadata": {},
   "outputs": [],
   "source": [
    "b = {'75192-1': {'3023', '15712', '6558', '3021', '2780'}, '3023': set(), '71043-1': {'54200', '15573', '2420', '3005', '2412b'}, '3005': set(), '10256-1': {'3005', '3024', '3062b', '2877'}, '3024': set(), '3062b': set(), '2877': set(), '10189-1': {'3005', '3024', '3062b', '2877'}, 'SWMP-1': {'3710', '3024', '3023'}}"
   ]
  },
  {
   "cell_type": "code",
   "execution_count": 33,
   "metadata": {},
   "outputs": [
    {
     "data": {
      "text/plain": [
       "{'75192-1': {'15712', '2780', '3021', '3023', '6558'},\n",
       " '3023': set(),\n",
       " '71043-1': {'15573', '2412b', '2420', '3005', '54200'},\n",
       " '3005': set(),\n",
       " '10256-1': {'2877', '3005', '3024', '3062b'},\n",
       " '3024': set(),\n",
       " '3062b': set(),\n",
       " '2877': set(),\n",
       " '10189-1': {'2877', '3005', '3024', '3062b'},\n",
       " 'SWMP-1': {'3023', '3024', '3710'}}"
      ]
     },
     "execution_count": 33,
     "metadata": {},
     "output_type": "execute_result"
    }
   ],
   "source": [
    "b"
   ]
  },
  {
   "cell_type": "code",
   "execution_count": null,
   "metadata": {},
   "outputs": [],
   "source": []
  }
 ],
 "metadata": {
  "kernelspec": {
   "display_name": "Python 3",
   "language": "python",
   "name": "python3"
  },
  "language_info": {
   "codemirror_mode": {
    "name": "ipython",
    "version": 3
   },
   "file_extension": ".py",
   "mimetype": "text/x-python",
   "name": "python",
   "nbconvert_exporter": "python",
   "pygments_lexer": "ipython3",
   "version": "3.7.4"
  }
 },
 "nbformat": 4,
 "nbformat_minor": 2
}
