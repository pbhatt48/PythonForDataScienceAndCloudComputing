{
 "cells": [
  {
   "cell_type": "code",
   "execution_count": null,
   "metadata": {},
   "outputs": [],
   "source": [
    "import numpy as np\n",
    "import pandas as pd\n"
   ]
  },
  {
   "cell_type": "code",
   "execution_count": 116,
   "metadata": {},
   "outputs": [
    {
     "data": {
      "text/html": [
       "<div>\n",
       "<style scoped>\n",
       "    .dataframe tbody tr th:only-of-type {\n",
       "        vertical-align: middle;\n",
       "    }\n",
       "\n",
       "    .dataframe tbody tr th {\n",
       "        vertical-align: top;\n",
       "    }\n",
       "\n",
       "    .dataframe thead th {\n",
       "        text-align: right;\n",
       "    }\n",
       "</style>\n",
       "<table border=\"1\" class=\"dataframe\">\n",
       "  <thead>\n",
       "    <tr style=\"text-align: right;\">\n",
       "      <th></th>\n",
       "      <th>car_id</th>\n",
       "      <th>price</th>\n",
       "      <th>Kilometers</th>\n",
       "      <th>hp</th>\n",
       "      <th>Brand</th>\n",
       "      <th>Sport</th>\n",
       "      <th>age</th>\n",
       "      <th>Users</th>\n",
       "      <th>gas</th>\n",
       "      <th>Metalilic</th>\n",
       "      <th>CC</th>\n",
       "      <th>Weight</th>\n",
       "      <th>QuartTax</th>\n",
       "      <th>Automatic</th>\n",
       "      <th>red</th>\n",
       "      <th>Owner_gender</th>\n",
       "      <th>door</th>\n",
       "    </tr>\n",
       "  </thead>\n",
       "  <tbody>\n",
       "    <tr>\n",
       "      <td>0</td>\n",
       "      <td>3548</td>\n",
       "      <td>48750</td>\n",
       "      <td>NaN</td>\n",
       "      <td>110</td>\n",
       "      <td>6</td>\n",
       "      <td>YES</td>\n",
       "      <td>7</td>\n",
       "      <td>1</td>\n",
       "      <td>590.0</td>\n",
       "      <td>NO</td>\n",
       "      <td>1800</td>\n",
       "      <td>1170.0</td>\n",
       "      <td>100</td>\n",
       "      <td>YES</td>\n",
       "      <td>NO</td>\n",
       "      <td>M</td>\n",
       "      <td>4</td>\n",
       "    </tr>\n",
       "    <tr>\n",
       "      <td>1</td>\n",
       "      <td>903</td>\n",
       "      <td>16610</td>\n",
       "      <td>NaN</td>\n",
       "      <td>110</td>\n",
       "      <td>3</td>\n",
       "      <td>NO</td>\n",
       "      <td>8</td>\n",
       "      <td>1</td>\n",
       "      <td>391.0</td>\n",
       "      <td>YES</td>\n",
       "      <td>2200</td>\n",
       "      <td>1250.0</td>\n",
       "      <td>270</td>\n",
       "      <td>YES</td>\n",
       "      <td>NO</td>\n",
       "      <td>F</td>\n",
       "      <td>4</td>\n",
       "    </tr>\n",
       "    <tr>\n",
       "      <td>2</td>\n",
       "      <td>3903</td>\n",
       "      <td>27100</td>\n",
       "      <td>3040.0</td>\n",
       "      <td>110</td>\n",
       "      <td>2</td>\n",
       "      <td>YES</td>\n",
       "      <td>8</td>\n",
       "      <td>1</td>\n",
       "      <td>478.0</td>\n",
       "      <td>NO</td>\n",
       "      <td>1900</td>\n",
       "      <td>1186.0</td>\n",
       "      <td>120</td>\n",
       "      <td>YES</td>\n",
       "      <td>YES</td>\n",
       "      <td>M</td>\n",
       "      <td>4</td>\n",
       "    </tr>\n",
       "    <tr>\n",
       "      <td>3</td>\n",
       "      <td>5098</td>\n",
       "      <td>24240</td>\n",
       "      <td>4690.0</td>\n",
       "      <td>110</td>\n",
       "      <td>5</td>\n",
       "      <td>NO</td>\n",
       "      <td>8</td>\n",
       "      <td>1</td>\n",
       "      <td>NaN</td>\n",
       "      <td>NO</td>\n",
       "      <td>1800</td>\n",
       "      <td>1170.0</td>\n",
       "      <td>100</td>\n",
       "      <td>YES</td>\n",
       "      <td>NO</td>\n",
       "      <td>M</td>\n",
       "      <td>4</td>\n",
       "    </tr>\n",
       "    <tr>\n",
       "      <td>4</td>\n",
       "      <td>3364</td>\n",
       "      <td>13030</td>\n",
       "      <td>5820.0</td>\n",
       "      <td>110</td>\n",
       "      <td>5</td>\n",
       "      <td>NO</td>\n",
       "      <td>9</td>\n",
       "      <td>1</td>\n",
       "      <td>NaN</td>\n",
       "      <td>YES</td>\n",
       "      <td>2200</td>\n",
       "      <td>1250.0</td>\n",
       "      <td>80</td>\n",
       "      <td>NO</td>\n",
       "      <td>NO</td>\n",
       "      <td>F</td>\n",
       "      <td>4</td>\n",
       "    </tr>\n",
       "    <tr>\n",
       "      <td>...</td>\n",
       "      <td>...</td>\n",
       "      <td>...</td>\n",
       "      <td>...</td>\n",
       "      <td>...</td>\n",
       "      <td>...</td>\n",
       "      <td>...</td>\n",
       "      <td>...</td>\n",
       "      <td>...</td>\n",
       "      <td>...</td>\n",
       "      <td>...</td>\n",
       "      <td>...</td>\n",
       "      <td>...</td>\n",
       "      <td>...</td>\n",
       "      <td>...</td>\n",
       "      <td>...</td>\n",
       "      <td>...</td>\n",
       "      <td>...</td>\n",
       "    </tr>\n",
       "    <tr>\n",
       "      <td>5234</td>\n",
       "      <td>2639</td>\n",
       "      <td>12370</td>\n",
       "      <td>201740.0</td>\n",
       "      <td>110</td>\n",
       "      <td>2</td>\n",
       "      <td>NO</td>\n",
       "      <td>48</td>\n",
       "      <td>1</td>\n",
       "      <td>369.0</td>\n",
       "      <td>NO</td>\n",
       "      <td>1900</td>\n",
       "      <td>1186.0</td>\n",
       "      <td>160</td>\n",
       "      <td>YES</td>\n",
       "      <td>NO</td>\n",
       "      <td>M</td>\n",
       "      <td>4</td>\n",
       "    </tr>\n",
       "    <tr>\n",
       "      <td>5235</td>\n",
       "      <td>459</td>\n",
       "      <td>6660</td>\n",
       "      <td>219720.0</td>\n",
       "      <td>192</td>\n",
       "      <td>1</td>\n",
       "      <td>NO</td>\n",
       "      <td>48</td>\n",
       "      <td>1</td>\n",
       "      <td>366.0</td>\n",
       "      <td>NO</td>\n",
       "      <td>1900</td>\n",
       "      <td>1186.0</td>\n",
       "      <td>120</td>\n",
       "      <td>NO</td>\n",
       "      <td>NO</td>\n",
       "      <td>M</td>\n",
       "      <td>4</td>\n",
       "    </tr>\n",
       "    <tr>\n",
       "      <td>5236</td>\n",
       "      <td>1545</td>\n",
       "      <td>12660</td>\n",
       "      <td>247010.0</td>\n",
       "      <td>110</td>\n",
       "      <td>3</td>\n",
       "      <td>NO</td>\n",
       "      <td>48</td>\n",
       "      <td>1</td>\n",
       "      <td>342.0</td>\n",
       "      <td>NO</td>\n",
       "      <td>1800</td>\n",
       "      <td>1170.0</td>\n",
       "      <td>120</td>\n",
       "      <td>YES</td>\n",
       "      <td>NO</td>\n",
       "      <td>F</td>\n",
       "      <td>4</td>\n",
       "    </tr>\n",
       "    <tr>\n",
       "      <td>5237</td>\n",
       "      <td>3125</td>\n",
       "      <td>11930</td>\n",
       "      <td>213740.0</td>\n",
       "      <td>70</td>\n",
       "      <td>2</td>\n",
       "      <td>NO</td>\n",
       "      <td>51</td>\n",
       "      <td>1</td>\n",
       "      <td>297.0</td>\n",
       "      <td>NO</td>\n",
       "      <td>1900</td>\n",
       "      <td>1186.0</td>\n",
       "      <td>120</td>\n",
       "      <td>YES</td>\n",
       "      <td>NO</td>\n",
       "      <td>M</td>\n",
       "      <td>4</td>\n",
       "    </tr>\n",
       "    <tr>\n",
       "      <td>5238</td>\n",
       "      <td>3124</td>\n",
       "      <td>5670</td>\n",
       "      <td>198110.0</td>\n",
       "      <td>192</td>\n",
       "      <td>1</td>\n",
       "      <td>NO</td>\n",
       "      <td>52</td>\n",
       "      <td>3</td>\n",
       "      <td>360.0</td>\n",
       "      <td>NO</td>\n",
       "      <td>1600</td>\n",
       "      <td>1165.0</td>\n",
       "      <td>100</td>\n",
       "      <td>NO</td>\n",
       "      <td>NO</td>\n",
       "      <td>F</td>\n",
       "      <td>2</td>\n",
       "    </tr>\n",
       "  </tbody>\n",
       "</table>\n",
       "<p>5239 rows × 17 columns</p>\n",
       "</div>"
      ],
      "text/plain": [
       "      car_id  price  Kilometers   hp  Brand Sport  age  Users    gas  \\\n",
       "0       3548  48750         NaN  110      6   YES    7      1  590.0   \n",
       "1        903  16610         NaN  110      3    NO    8      1  391.0   \n",
       "2       3903  27100      3040.0  110      2   YES    8      1  478.0   \n",
       "3       5098  24240      4690.0  110      5    NO    8      1    NaN   \n",
       "4       3364  13030      5820.0  110      5    NO    9      1    NaN   \n",
       "...      ...    ...         ...  ...    ...   ...  ...    ...    ...   \n",
       "5234    2639  12370    201740.0  110      2    NO   48      1  369.0   \n",
       "5235     459   6660    219720.0  192      1    NO   48      1  366.0   \n",
       "5236    1545  12660    247010.0  110      3    NO   48      1  342.0   \n",
       "5237    3125  11930    213740.0   70      2    NO   51      1  297.0   \n",
       "5238    3124   5670    198110.0  192      1    NO   52      3  360.0   \n",
       "\n",
       "     Metalilic    CC  Weight  QuartTax Automatic  red Owner_gender  door  \n",
       "0           NO  1800  1170.0       100       YES   NO            M     4  \n",
       "1          YES  2200  1250.0       270       YES   NO            F     4  \n",
       "2           NO  1900  1186.0       120       YES  YES            M     4  \n",
       "3           NO  1800  1170.0       100       YES   NO            M     4  \n",
       "4          YES  2200  1250.0        80        NO   NO            F     4  \n",
       "...        ...   ...     ...       ...       ...  ...          ...   ...  \n",
       "5234        NO  1900  1186.0       160       YES   NO            M     4  \n",
       "5235        NO  1900  1186.0       120        NO   NO            M     4  \n",
       "5236        NO  1800  1170.0       120       YES   NO            F     4  \n",
       "5237        NO  1900  1186.0       120       YES   NO            M     4  \n",
       "5238        NO  1600  1165.0       100        NO   NO            F     2  \n",
       "\n",
       "[5239 rows x 17 columns]"
      ]
     },
     "execution_count": 116,
     "metadata": {},
     "output_type": "execute_result"
    }
   ],
   "source": [
    "df = pd.read_csv(\"carprice.csv\", na_values=\"NA\")\n",
    "df"
   ]
  },
  {
   "cell_type": "code",
   "execution_count": 124,
   "metadata": {},
   "outputs": [
    {
     "data": {
      "text/html": [
       "<div>\n",
       "<style scoped>\n",
       "    .dataframe tbody tr th:only-of-type {\n",
       "        vertical-align: middle;\n",
       "    }\n",
       "\n",
       "    .dataframe tbody tr th {\n",
       "        vertical-align: top;\n",
       "    }\n",
       "\n",
       "    .dataframe thead th {\n",
       "        text-align: right;\n",
       "    }\n",
       "</style>\n",
       "<table border=\"1\" class=\"dataframe\">\n",
       "  <thead>\n",
       "    <tr style=\"text-align: right;\">\n",
       "      <th></th>\n",
       "      <th>car_id</th>\n",
       "      <th>price</th>\n",
       "      <th>Kilometers</th>\n",
       "      <th>hp</th>\n",
       "      <th>Brand</th>\n",
       "      <th>Sport</th>\n",
       "      <th>age</th>\n",
       "      <th>Users</th>\n",
       "      <th>gas</th>\n",
       "      <th>Metalilic</th>\n",
       "      <th>CC</th>\n",
       "      <th>Weight</th>\n",
       "      <th>QuartTax</th>\n",
       "      <th>Automatic</th>\n",
       "      <th>red</th>\n",
       "      <th>Owner_gender</th>\n",
       "      <th>door</th>\n",
       "    </tr>\n",
       "  </thead>\n",
       "  <tbody>\n",
       "    <tr>\n",
       "      <td>32</td>\n",
       "      <td>4355</td>\n",
       "      <td>52440</td>\n",
       "      <td>23580.0</td>\n",
       "      <td>192</td>\n",
       "      <td>3</td>\n",
       "      <td>YES</td>\n",
       "      <td>13</td>\n",
       "      <td>1</td>\n",
       "      <td>516.0</td>\n",
       "      <td>YES</td>\n",
       "      <td>2200</td>\n",
       "      <td>1250.0</td>\n",
       "      <td>80</td>\n",
       "      <td>YES</td>\n",
       "      <td>YES</td>\n",
       "      <td>M</td>\n",
       "      <td>4</td>\n",
       "    </tr>\n",
       "    <tr>\n",
       "      <td>33</td>\n",
       "      <td>2352</td>\n",
       "      <td>59730</td>\n",
       "      <td>26090.0</td>\n",
       "      <td>192</td>\n",
       "      <td>4</td>\n",
       "      <td>YES</td>\n",
       "      <td>13</td>\n",
       "      <td>1</td>\n",
       "      <td>464.0</td>\n",
       "      <td>YES</td>\n",
       "      <td>2200</td>\n",
       "      <td>1250.0</td>\n",
       "      <td>80</td>\n",
       "      <td>YES</td>\n",
       "      <td>YES</td>\n",
       "      <td>M</td>\n",
       "      <td>4</td>\n",
       "    </tr>\n",
       "    <tr>\n",
       "      <td>161</td>\n",
       "      <td>1085</td>\n",
       "      <td>23320</td>\n",
       "      <td>42910.0</td>\n",
       "      <td>110</td>\n",
       "      <td>6</td>\n",
       "      <td>YES</td>\n",
       "      <td>16</td>\n",
       "      <td>1</td>\n",
       "      <td>479.0</td>\n",
       "      <td>YES</td>\n",
       "      <td>2200</td>\n",
       "      <td>1250.0</td>\n",
       "      <td>80</td>\n",
       "      <td>YES</td>\n",
       "      <td>YES</td>\n",
       "      <td>M</td>\n",
       "      <td>4</td>\n",
       "    </tr>\n",
       "    <tr>\n",
       "      <td>314</td>\n",
       "      <td>8</td>\n",
       "      <td>18880</td>\n",
       "      <td>68390.0</td>\n",
       "      <td>90</td>\n",
       "      <td>5</td>\n",
       "      <td>YES</td>\n",
       "      <td>18</td>\n",
       "      <td>1</td>\n",
       "      <td>588.0</td>\n",
       "      <td>YES</td>\n",
       "      <td>2200</td>\n",
       "      <td>NaN</td>\n",
       "      <td>210</td>\n",
       "      <td>YES</td>\n",
       "      <td>YES</td>\n",
       "      <td>M</td>\n",
       "      <td>4</td>\n",
       "    </tr>\n",
       "    <tr>\n",
       "      <td>361</td>\n",
       "      <td>509</td>\n",
       "      <td>22480</td>\n",
       "      <td>125480.0</td>\n",
       "      <td>110</td>\n",
       "      <td>4</td>\n",
       "      <td>YES</td>\n",
       "      <td>18</td>\n",
       "      <td>1</td>\n",
       "      <td>478.0</td>\n",
       "      <td>YES</td>\n",
       "      <td>2200</td>\n",
       "      <td>1250.0</td>\n",
       "      <td>270</td>\n",
       "      <td>YES</td>\n",
       "      <td>YES</td>\n",
       "      <td>M</td>\n",
       "      <td>4</td>\n",
       "    </tr>\n",
       "    <tr>\n",
       "      <td>...</td>\n",
       "      <td>...</td>\n",
       "      <td>...</td>\n",
       "      <td>...</td>\n",
       "      <td>...</td>\n",
       "      <td>...</td>\n",
       "      <td>...</td>\n",
       "      <td>...</td>\n",
       "      <td>...</td>\n",
       "      <td>...</td>\n",
       "      <td>...</td>\n",
       "      <td>...</td>\n",
       "      <td>...</td>\n",
       "      <td>...</td>\n",
       "      <td>...</td>\n",
       "      <td>...</td>\n",
       "      <td>...</td>\n",
       "      <td>...</td>\n",
       "    </tr>\n",
       "    <tr>\n",
       "      <td>5021</td>\n",
       "      <td>1166</td>\n",
       "      <td>15550</td>\n",
       "      <td>174080.0</td>\n",
       "      <td>192</td>\n",
       "      <td>1</td>\n",
       "      <td>YES</td>\n",
       "      <td>37</td>\n",
       "      <td>2</td>\n",
       "      <td>390.0</td>\n",
       "      <td>YES</td>\n",
       "      <td>2200</td>\n",
       "      <td>1250.0</td>\n",
       "      <td>80</td>\n",
       "      <td>YES</td>\n",
       "      <td>YES</td>\n",
       "      <td>M</td>\n",
       "      <td>4</td>\n",
       "    </tr>\n",
       "    <tr>\n",
       "      <td>5051</td>\n",
       "      <td>633</td>\n",
       "      <td>15220</td>\n",
       "      <td>204330.0</td>\n",
       "      <td>192</td>\n",
       "      <td>3</td>\n",
       "      <td>YES</td>\n",
       "      <td>39</td>\n",
       "      <td>2</td>\n",
       "      <td>544.0</td>\n",
       "      <td>YES</td>\n",
       "      <td>2200</td>\n",
       "      <td>1250.0</td>\n",
       "      <td>210</td>\n",
       "      <td>YES</td>\n",
       "      <td>YES</td>\n",
       "      <td>M</td>\n",
       "      <td>4</td>\n",
       "    </tr>\n",
       "    <tr>\n",
       "      <td>5108</td>\n",
       "      <td>2427</td>\n",
       "      <td>15270</td>\n",
       "      <td>209210.0</td>\n",
       "      <td>110</td>\n",
       "      <td>4</td>\n",
       "      <td>YES</td>\n",
       "      <td>40</td>\n",
       "      <td>2</td>\n",
       "      <td>507.0</td>\n",
       "      <td>YES</td>\n",
       "      <td>2200</td>\n",
       "      <td>1250.0</td>\n",
       "      <td>210</td>\n",
       "      <td>YES</td>\n",
       "      <td>YES</td>\n",
       "      <td>M</td>\n",
       "      <td>4</td>\n",
       "    </tr>\n",
       "    <tr>\n",
       "      <td>5115</td>\n",
       "      <td>1857</td>\n",
       "      <td>14970</td>\n",
       "      <td>190620.0</td>\n",
       "      <td>90</td>\n",
       "      <td>5</td>\n",
       "      <td>YES</td>\n",
       "      <td>40</td>\n",
       "      <td>2</td>\n",
       "      <td>591.0</td>\n",
       "      <td>YES</td>\n",
       "      <td>2200</td>\n",
       "      <td>1250.0</td>\n",
       "      <td>80</td>\n",
       "      <td>YES</td>\n",
       "      <td>YES</td>\n",
       "      <td>M</td>\n",
       "      <td>4</td>\n",
       "    </tr>\n",
       "    <tr>\n",
       "      <td>5148</td>\n",
       "      <td>4922</td>\n",
       "      <td>13510</td>\n",
       "      <td>192090.0</td>\n",
       "      <td>70</td>\n",
       "      <td>3</td>\n",
       "      <td>YES</td>\n",
       "      <td>39</td>\n",
       "      <td>2</td>\n",
       "      <td>472.0</td>\n",
       "      <td>YES</td>\n",
       "      <td>2200</td>\n",
       "      <td>1195.0</td>\n",
       "      <td>210</td>\n",
       "      <td>YES</td>\n",
       "      <td>YES</td>\n",
       "      <td>M</td>\n",
       "      <td>4</td>\n",
       "    </tr>\n",
       "  </tbody>\n",
       "</table>\n",
       "<p>61 rows × 17 columns</p>\n",
       "</div>"
      ],
      "text/plain": [
       "      car_id  price  Kilometers   hp  Brand Sport  age  Users    gas  \\\n",
       "32      4355  52440     23580.0  192      3   YES   13      1  516.0   \n",
       "33      2352  59730     26090.0  192      4   YES   13      1  464.0   \n",
       "161     1085  23320     42910.0  110      6   YES   16      1  479.0   \n",
       "314        8  18880     68390.0   90      5   YES   18      1  588.0   \n",
       "361      509  22480    125480.0  110      4   YES   18      1  478.0   \n",
       "...      ...    ...         ...  ...    ...   ...  ...    ...    ...   \n",
       "5021    1166  15550    174080.0  192      1   YES   37      2  390.0   \n",
       "5051     633  15220    204330.0  192      3   YES   39      2  544.0   \n",
       "5108    2427  15270    209210.0  110      4   YES   40      2  507.0   \n",
       "5115    1857  14970    190620.0   90      5   YES   40      2  591.0   \n",
       "5148    4922  13510    192090.0   70      3   YES   39      2  472.0   \n",
       "\n",
       "     Metalilic    CC  Weight  QuartTax Automatic  red Owner_gender  door  \n",
       "32         YES  2200  1250.0        80       YES  YES            M     4  \n",
       "33         YES  2200  1250.0        80       YES  YES            M     4  \n",
       "161        YES  2200  1250.0        80       YES  YES            M     4  \n",
       "314        YES  2200     NaN       210       YES  YES            M     4  \n",
       "361        YES  2200  1250.0       270       YES  YES            M     4  \n",
       "...        ...   ...     ...       ...       ...  ...          ...   ...  \n",
       "5021       YES  2200  1250.0        80       YES  YES            M     4  \n",
       "5051       YES  2200  1250.0       210       YES  YES            M     4  \n",
       "5108       YES  2200  1250.0       210       YES  YES            M     4  \n",
       "5115       YES  2200  1250.0        80       YES  YES            M     4  \n",
       "5148       YES  2200  1195.0       210       YES  YES            M     4  \n",
       "\n",
       "[61 rows x 17 columns]"
      ]
     },
     "execution_count": 124,
     "metadata": {},
     "output_type": "execute_result"
    }
   ],
   "source": [
    "df[(df['Metalilic'] == \"YES\") & (df['Sport'] == \"YES\") & (df.Automatic == \"YES\") & (df.red == \"YES\")]\n"
   ]
  },
  {
   "cell_type": "code",
   "execution_count": null,
   "metadata": {},
   "outputs": [],
   "source": []
  },
  {
   "cell_type": "code",
   "execution_count": null,
   "metadata": {},
   "outputs": [],
   "source": []
  },
  {
   "cell_type": "code",
   "execution_count": null,
   "metadata": {},
   "outputs": [],
   "source": []
  },
  {
   "cell_type": "code",
   "execution_count": null,
   "metadata": {},
   "outputs": [],
   "source": []
  },
  {
   "cell_type": "code",
   "execution_count": null,
   "metadata": {},
   "outputs": [],
   "source": []
  },
  {
   "cell_type": "code",
   "execution_count": null,
   "metadata": {},
   "outputs": [],
   "source": []
  },
  {
   "cell_type": "code",
   "execution_count": null,
   "metadata": {},
   "outputs": [],
   "source": []
  },
  {
   "cell_type": "code",
   "execution_count": null,
   "metadata": {},
   "outputs": [],
   "source": []
  },
  {
   "cell_type": "code",
   "execution_count": null,
   "metadata": {},
   "outputs": [],
   "source": []
  },
  {
   "cell_type": "code",
   "execution_count": null,
   "metadata": {},
   "outputs": [],
   "source": []
  },
  {
   "cell_type": "code",
   "execution_count": null,
   "metadata": {},
   "outputs": [],
   "source": []
  },
  {
   "cell_type": "code",
   "execution_count": null,
   "metadata": {},
   "outputs": [],
   "source": []
  },
  {
   "cell_type": "code",
   "execution_count": null,
   "metadata": {},
   "outputs": [],
   "source": []
  },
  {
   "cell_type": "code",
   "execution_count": null,
   "metadata": {},
   "outputs": [],
   "source": []
  },
  {
   "cell_type": "code",
   "execution_count": 90,
   "metadata": {},
   "outputs": [],
   "source": [
    "import pandas as pd \n",
    "import numpy as np\n"
   ]
  },
  {
   "cell_type": "code",
   "execution_count": 91,
   "metadata": {},
   "outputs": [
    {
     "name": "stdout",
     "output_type": "stream",
     "text": [
      "64\n"
     ]
    }
   ],
   "source": [
    "dk =  pd.read_csv('khanchidata.csv', na_values='')\n",
    "dk\n",
    "dk_len = len(dk)\n",
    "print(dk_len)"
   ]
  },
  {
   "cell_type": "code",
   "execution_count": 92,
   "metadata": {},
   "outputs": [
    {
     "name": "stdout",
     "output_type": "stream",
     "text": [
      "0\n"
     ]
    }
   ],
   "source": [
    "dk_all_none = dk[(dk['Environmental'].str.lower() != 'y') & (dk['Food'].str.lower()!='y') & (dk['Drug'].str.lower()!='y')]\n",
    "dk_all_none\n",
    "dk_all_none_len = len(dk_all_none)\n",
    "print(dk_all_none_len)"
   ]
  },
  {
   "cell_type": "code",
   "execution_count": 93,
   "metadata": {},
   "outputs": [
    {
     "name": "stdout",
     "output_type": "stream",
     "text": [
      "1\n"
     ]
    }
   ],
   "source": [
    "dk_all_y = dk[(dk['Environmental'].str.lower() == 'y') & (dk['Food'].str.lower()=='y') & (dk['Drug'].str.lower()=='y')]\n",
    "dk_all_y\n",
    "dk_all_y_len = len(dk_all_y)\n",
    "print(dk_all_y_len)"
   ]
  },
  {
   "cell_type": "code",
   "execution_count": 94,
   "metadata": {},
   "outputs": [
    {
     "name": "stdout",
     "output_type": "stream",
     "text": [
      "2\n"
     ]
    }
   ],
   "source": [
    "dk_env_int_food =dk[(dk['Environmental'].str.lower() == 'y') & (dk['Food'].str.lower()=='y')]\n",
    "dk_env_int_food\n",
    "dk_env_int_food_len = len(dk_env_int_food)\n",
    "print(dk_env_int_food_len)"
   ]
  },
  {
   "cell_type": "code",
   "execution_count": 95,
   "metadata": {},
   "outputs": [
    {
     "name": "stdout",
     "output_type": "stream",
     "text": [
      "12\n"
     ]
    }
   ],
   "source": [
    "dk_env_int_drug =dk[(dk['Environmental'].str.lower() == 'y') & (dk['Drug'].str.lower()=='y')]\n",
    "dk_env_int_drug\n",
    "print(len(dk_env_int_drug))\n",
    "dk_env_int_drug_len = len(dk_env_int_drug)"
   ]
  },
  {
   "cell_type": "code",
   "execution_count": 96,
   "metadata": {},
   "outputs": [
    {
     "name": "stdout",
     "output_type": "stream",
     "text": [
      "4\n"
     ]
    }
   ],
   "source": [
    "dk_food_int_drug =dk[(dk['Food'].str.lower() == 'y') & (dk['Drug'].str.lower()=='y')]\n",
    "dk_food_int_drug\n",
    "print(len(dk_food_int_drug))\n",
    "dk_food_int_drug_len = len(dk_food_int_drug)"
   ]
  },
  {
   "cell_type": "code",
   "execution_count": 97,
   "metadata": {},
   "outputs": [
    {
     "name": "stdout",
     "output_type": "stream",
     "text": [
      "6\n"
     ]
    }
   ],
   "source": [
    "dk_food =dk[(dk['Food'].str.lower() == 'y') ]\n",
    "dk_food_len = len(dk_food)\n",
    "print(dk_food_len)"
   ]
  },
  {
   "cell_type": "code",
   "execution_count": 87,
   "metadata": {},
   "outputs": [
    {
     "name": "stdout",
     "output_type": "stream",
     "text": [
      "36\n"
     ]
    }
   ],
   "source": [
    "dk_drug =dk[(dk['Drug'].str.lower() == 'y') ]\n",
    "dk_drug_len = len(dk_drug)\n",
    "\n",
    "print(dk_drug_len)"
   ]
  },
  {
   "cell_type": "code",
   "execution_count": 98,
   "metadata": {},
   "outputs": [
    {
     "name": "stdout",
     "output_type": "stream",
     "text": [
      "39\n"
     ]
    }
   ],
   "source": [
    "dk_env =dk[(dk['Environmental'].str.lower() == 'y') ]\n",
    "dk_env_len = len(dk_env)\n",
    "\n",
    "print(dk_env_len)"
   ]
  },
  {
   "cell_type": "code",
   "execution_count": 111,
   "metadata": {},
   "outputs": [
    {
     "data": {
      "text/plain": [
       "79"
      ]
     },
     "execution_count": 111,
     "metadata": {},
     "output_type": "execute_result"
    }
   ],
   "source": [
    "correction = dk_env_len - dk_env_int_drug_len - dk_env_int_food_len - dk_all_y_len + dk_env_int_drug_len + dk_env_int_food_len\\\n",
    "+ dk_food_len - dk_food_int_drug_len - dk_env_int_food_len - dk_all_y_len + dk_food_int_drug_len + dk_env_int_food_len\\\n",
    "+ dk_drug_len - dk_food_int_drug_len - dk_env_int_drug_len - dk_all_y_len + dk_food_int_drug_len + dk_env_int_drug_len + dk_all_y_len\n",
    "correction\n",
    "\n",
    "\n",
    "\n",
    "\n"
   ]
  },
  {
   "cell_type": "code",
   "execution_count": 112,
   "metadata": {},
   "outputs": [
    {
     "data": {
      "text/plain": [
       "(39, 12, 2, 1)"
      ]
     },
     "execution_count": 112,
     "metadata": {},
     "output_type": "execute_result"
    }
   ],
   "source": [
    "dk_env_len, dk_env_int_drug_len, dk_env_int_food_len, dk_all_y_len"
   ]
  },
  {
   "cell_type": "code",
   "execution_count": 113,
   "metadata": {},
   "outputs": [
    {
     "data": {
      "text/plain": [
       "(6, 4, 2, 1)"
      ]
     },
     "execution_count": 113,
     "metadata": {},
     "output_type": "execute_result"
    }
   ],
   "source": [
    "dk_food_len, dk_food_int_drug_len, dk_env_int_food_len, dk_all_y_len"
   ]
  },
  {
   "cell_type": "code",
   "execution_count": 114,
   "metadata": {},
   "outputs": [
    {
     "data": {
      "text/plain": [
       "(36, 4, 12, 1)"
      ]
     },
     "execution_count": 114,
     "metadata": {},
     "output_type": "execute_result"
    }
   ],
   "source": [
    "dk_drug_len, dk_food_int_drug_len, dk_env_int_drug_len, dk_all_y_len"
   ]
  },
  {
   "cell_type": "code",
   "execution_count": 115,
   "metadata": {},
   "outputs": [
    {
     "data": {
      "text/plain": [
       "111"
      ]
     },
     "execution_count": 115,
     "metadata": {},
     "output_type": "execute_result"
    }
   ],
   "source": [
    "dk_env_len + dk_env_int_drug_len + dk_env_int_food_len - dk_all_y_len*2 + dk_food_len + dk_food_int_drug_len + dk_env_int_food_len - 2* dk_all_y_len + dk_drug_len + dk_food_int_drug_len + dk_env_int_drug_len -2* dk_all_y_len"
   ]
  },
  {
   "cell_type": "code",
   "execution_count": null,
   "metadata": {},
   "outputs": [],
   "source": []
  },
  {
   "cell_type": "code",
   "execution_count": null,
   "metadata": {},
   "outputs": [],
   "source": []
  },
  {
   "cell_type": "code",
   "execution_count": null,
   "metadata": {},
   "outputs": [],
   "source": []
  },
  {
   "cell_type": "code",
   "execution_count": null,
   "metadata": {},
   "outputs": [],
   "source": []
  },
  {
   "cell_type": "code",
   "execution_count": null,
   "metadata": {},
   "outputs": [],
   "source": []
  },
  {
   "cell_type": "code",
   "execution_count": null,
   "metadata": {},
   "outputs": [],
   "source": []
  },
  {
   "cell_type": "code",
   "execution_count": null,
   "metadata": {},
   "outputs": [],
   "source": []
  }
 ],
 "metadata": {
  "kernelspec": {
   "display_name": "Python 3",
   "language": "python",
   "name": "python3"
  },
  "language_info": {
   "codemirror_mode": {
    "name": "ipython",
    "version": 3
   },
   "file_extension": ".py",
   "mimetype": "text/x-python",
   "name": "python",
   "nbconvert_exporter": "python",
   "pygments_lexer": "ipython3",
   "version": "3.7.4"
  }
 },
 "nbformat": 4,
 "nbformat_minor": 2
}
