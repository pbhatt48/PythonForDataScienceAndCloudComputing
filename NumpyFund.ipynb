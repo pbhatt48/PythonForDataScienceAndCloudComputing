{
 "cells": [
  {
   "cell_type": "code",
   "execution_count": 1,
   "metadata": {},
   "outputs": [],
   "source": [
    "import numpy as np\n"
   ]
  },
  {
   "cell_type": "code",
   "execution_count": 3,
   "metadata": {},
   "outputs": [
    {
     "data": {
      "text/plain": [
       "array([[1, 2, 3, 4],\n",
       "       [2, 3, 4, 0],\n",
       "       [2, 3, 4, 5]])"
      ]
     },
     "execution_count": 3,
     "metadata": {},
     "output_type": "execute_result"
    }
   ],
   "source": [
    "Y=np.array([range(1,5), (2,3,4,0), range(2,6)])\n",
    "Y"
   ]
  },
  {
   "cell_type": "code",
   "execution_count": 4,
   "metadata": {},
   "outputs": [
    {
     "name": "stdout",
     "output_type": "stream",
     "text": [
      "Y: [[1 2 3 4]\n",
      " [2 3 4 0]\n",
      " [2 3 4 5]]\n",
      "A: [[1 2 3 4]\n",
      " [2 3 4 0]]\n",
      "B: [[1 2]\n",
      " [2 3]]\n",
      "C: [[1 2 3]\n",
      " [2 3 4]\n",
      " [2 3 4]]\n"
     ]
    }
   ],
   "source": [
    "A=Y[0:2,:]\n",
    "\n",
    "B=Y[0:2,0:2]\n",
    "\n",
    "C=Y[:,0:3]\n",
    "print('Y:' , Y)\n",
    "print ('A:' , A)\n",
    "print ('B:' , B)\n",
    "print ('C:' , C)"
   ]
  },
  {
   "cell_type": "code",
   "execution_count": 16,
   "metadata": {},
   "outputs": [
    {
     "name": "stdout",
     "output_type": "stream",
     "text": [
      "[[ 1  2  3  4  5  6  7  8  9 10]]\n",
      "A ==  [[False False False False  True  True  True  True  True  True]]\n",
      "B ==  [[ True  True  True  True  True  True  True  True  True  True]]\n"
     ]
    }
   ],
   "source": [
    "X = np.array([range(1,11)])\n",
    "print(X)\n",
    "A = (X>4)\n",
    "print(\"A == \", A)\n",
    "B = (X>4) | (X<9)\n",
    "print(\"B == \", B)\n"
   ]
  },
  {
   "cell_type": "code",
   "execution_count": 22,
   "metadata": {},
   "outputs": [
    {
     "name": "stdout",
     "output_type": "stream",
     "text": [
      "X ==  [[ 1  4  9 16 25 36]]\n",
      "Y ==  [[ 7  8  9 10 11 12]]\n",
      "A ===  [[False False False  True  True  True]]  X[A] ==  [16 25 36]\n",
      "B ==  [[False False  True False False False]]  X[B] ==  [9]\n"
     ]
    }
   ],
   "source": [
    "X = np.array([range(1,7)]) ** 2\n",
    "Y = np.array([range(7,13)])\n",
    "A = (X>Y)\n",
    "B = (X==Y)\n",
    "print(\"X == \", X)\n",
    "print(\"Y == \", Y)\n",
    "print(\"A === \", A, \" X[A] == \", X[A])\n",
    "print(\"B == \", B, \" X[B] == \", X[B])\n"
   ]
  },
  {
   "cell_type": "code",
   "execution_count": 33,
   "metadata": {},
   "outputs": [
    {
     "name": "stdout",
     "output_type": "stream",
     "text": [
      "[ 1  2  3  4  5  6  7  8  9 10 11 12 13 14 15 16 17 18 19 20 21 22 23 24]\n",
      "Y ==  [ 2  4  1 13]\n",
      "[[ 1  2  3  4]\n",
      " [ 5  6  7  8]\n",
      " [ 9 10 11 12]\n",
      " [13 14 15 16]\n",
      " [17 18 19 20]\n",
      " [21 22 23 24]]\n"
     ]
    },
    {
     "data": {
      "text/plain": [
       "array([9, 8, 2])"
      ]
     },
     "execution_count": 33,
     "metadata": {},
     "output_type": "execute_result"
    }
   ],
   "source": [
    "X = np.array(range(1,25))\n",
    "Y = X[[1,3,0,12]]\n",
    "print(X)\n",
    "print(\"Y == \", Y)\n",
    "X.resize(6,4)\n",
    "print(X)\n",
    "Y = X[[2,1,0],[0,3,1]]\n",
    "Y"
   ]
  },
  {
   "cell_type": "code",
   "execution_count": 35,
   "metadata": {},
   "outputs": [
    {
     "name": "stdout",
     "output_type": "stream",
     "text": [
      "[[ 1  2  3  4]\n",
      " [ 5  6  7  8]\n",
      " [ 9 10 11 12]\n",
      " [13 14 15 16]]\n"
     ]
    }
   ],
   "source": [
    "X = np.array(range(1,17)).reshape((4, 4))\n",
    "\n",
    "print (X)"
   ]
  },
  {
   "cell_type": "code",
   "execution_count": 39,
   "metadata": {},
   "outputs": [
    {
     "data": {
      "text/plain": [
       "array([[ 5,  6,  7,  8],\n",
       "       [ 9, 10, 11, 12],\n",
       "       [ 1,  2,  3,  4],\n",
       "       [13, 14, 15, 16]])"
      ]
     },
     "execution_count": 39,
     "metadata": {},
     "output_type": "execute_result"
    }
   ],
   "source": [
    "X[[1,2,0,3],:]"
   ]
  },
  {
   "cell_type": "code",
   "execution_count": 42,
   "metadata": {},
   "outputs": [
    {
     "name": "stdout",
     "output_type": "stream",
     "text": [
      "[[ 9 10 11 12]]\n"
     ]
    }
   ],
   "source": [
    "print(X[[1,2,0,3],:][[1]])"
   ]
  },
  {
   "cell_type": "code",
   "execution_count": 43,
   "metadata": {},
   "outputs": [
    {
     "name": "stdout",
     "output_type": "stream",
     "text": [
      "[[ 9 10 11 12]]\n"
     ]
    }
   ],
   "source": [
    "print (X[[1, 2, 0, 3]][[1],:])"
   ]
  },
  {
   "cell_type": "code",
   "execution_count": 44,
   "metadata": {},
   "outputs": [
    {
     "name": "stdout",
     "output_type": "stream",
     "text": [
      "[[ 6  7]\n",
      " [10 11]\n",
      " [ 2  3]\n",
      " [14 15]]\n"
     ]
    }
   ],
   "source": [
    "print (X[[1, 2, 0, 3]][:,[1,2]])"
   ]
  },
  {
   "cell_type": "code",
   "execution_count": 45,
   "metadata": {},
   "outputs": [
    {
     "name": "stdout",
     "output_type": "stream",
     "text": [
      "[[13 14 15 16]\n",
      " [ 5  6  7  8]]\n"
     ]
    }
   ],
   "source": [
    "print (X[[0, 3, 1, 1]][[1, 2]])"
   ]
  },
  {
   "cell_type": "code",
   "execution_count": null,
   "metadata": {},
   "outputs": [],
   "source": []
  },
  {
   "cell_type": "code",
   "execution_count": 34,
   "metadata": {},
   "outputs": [
    {
     "name": "stdout",
     "output_type": "stream",
     "text": [
      "[[ 1  2  3  4]\n",
      " [ 5  6  7  8]\n",
      " [ 9 10 11 12]\n",
      " [13 14 15 16]]\n",
      "--------------------------------------------------\n",
      "[[ 9 10 11 12]]\n",
      "--------------------------------------------------\n",
      "[[ 9 10 11 12]]\n",
      "--------------------------------------------------\n",
      "[[ 2  3]\n",
      " [ 6  7]\n",
      " [10 11]\n",
      " [14 15]]\n",
      "--------------------------------------------------\n",
      "[[13 14 15 16]\n",
      " [ 5  6  7  8]]\n"
     ]
    }
   ],
   "source": [
    "# fancy index examples:\n",
    "\n",
    "X = np.array(range(1,17)).reshape((4, 4))\n",
    "\n",
    "print (X)\n",
    "\n",
    "print ('--------------------------------------------------')\n",
    "\n",
    "print (X[[1, 2, 0, 3],:][[1]])\n",
    "\n",
    "print ('--------------------------------------------------')\n",
    "\n",
    "print (X[[1, 2, 0, 3]][[1],:])\n",
    "\n",
    "print ('--------------------------------------------------')\n",
    "\n",
    "print (X[[0, 1, 2, 3]][:,[1, 2]])\n",
    "\n",
    "print ('--------------------------------------------------')\n",
    "\n",
    "print (X[[0, 3, 1, 1]][[1, 2]])"
   ]
  },
  {
   "cell_type": "code",
   "execution_count": null,
   "metadata": {},
   "outputs": [],
   "source": []
  }
 ],
 "metadata": {
  "kernelspec": {
   "display_name": "Python 3",
   "language": "python",
   "name": "python3"
  },
  "language_info": {
   "codemirror_mode": {
    "name": "ipython",
    "version": 3
   },
   "file_extension": ".py",
   "mimetype": "text/x-python",
   "name": "python",
   "nbconvert_exporter": "python",
   "pygments_lexer": "ipython3",
   "version": "3.7.1"
  }
 },
 "nbformat": 4,
 "nbformat_minor": 2
}
