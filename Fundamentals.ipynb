{
 "cells": [
  {
   "cell_type": "markdown",
   "metadata": {},
   "source": [
    "Q2) List the Collection Data Types in Python. Write Python code to solve the\n",
    "following questions:"
   ]
  },
  {
   "cell_type": "markdown",
   "metadata": {},
   "source": [
    "a) Place the numbers 79, 88, 99, ‘John’, ’Mary’, ’David’ into a tuple – ‘T’ and list – ‘L’ respectively, and print the contents and data type of two objects. In addition, state the difference (by usage) between tuple and list."
   ]
  },
  {
   "cell_type": "code",
   "execution_count": 4,
   "metadata": {},
   "outputs": [
    {
     "name": "stdout",
     "output_type": "stream",
     "text": [
      "T ==  (79, 88, 99, 'John', 'Mary', 'David') and its data type ==  <class 'tuple'>\n",
      "L ==  [79, 88, 99, 'John', 'Mary', 'David'] and its data type ==  <class 'list'>\n"
     ]
    }
   ],
   "source": [
    "T = (79, 88, 99, 'John', 'Mary', 'David')\n",
    "L = list(T)\n",
    "print(\"T == \", T , \"and its data type == \", type(T))\n",
    "print(\"L == \", L , \"and its data type == \", type(L))"
   ]
  },
  {
   "cell_type": "markdown",
   "metadata": {},
   "source": [
    "b) Return the length of the list ‘L’ and print the result. What does L[1:3] stand for?"
   ]
  },
  {
   "cell_type": "code",
   "execution_count": 5,
   "metadata": {},
   "outputs": [
    {
     "name": "stdout",
     "output_type": "stream",
     "text": [
      "6\n",
      "[88, 99]\n"
     ]
    }
   ],
   "source": [
    "print(len(T))\n",
    "print(L[1:3]) #should print  88 and 99"
   ]
  },
  {
   "cell_type": "markdown",
   "metadata": {},
   "source": [
    "c) Create a sub-list ‘SL’ containing only numeric elements from the tuple ‘T, and\n",
    "calculate and print the maximum value of those numbers."
   ]
  },
  {
   "cell_type": "code",
   "execution_count": 19,
   "metadata": {},
   "outputs": [
    {
     "data": {
      "text/plain": [
       "[79, 88, 99]"
      ]
     },
     "execution_count": 19,
     "metadata": {},
     "output_type": "execute_result"
    }
   ],
   "source": [
    "SL = [i for i in T if isinstance(i,(int,float))]\n",
    "SL"
   ]
  },
  {
   "cell_type": "code",
   "execution_count": 20,
   "metadata": {},
   "outputs": [
    {
     "name": "stdout",
     "output_type": "stream",
     "text": [
      "99\n"
     ]
    }
   ],
   "source": [
    "print(max(SL))"
   ]
  },
  {
   "cell_type": "markdown",
   "metadata": {},
   "source": [
    "d) Create a list ‘SLS’ by sorting (descending order) the elements in the list ‘SL’."
   ]
  },
  {
   "cell_type": "code",
   "execution_count": 21,
   "metadata": {},
   "outputs": [
    {
     "data": {
      "text/plain": [
       "[99, 88, 79]"
      ]
     },
     "execution_count": 21,
     "metadata": {},
     "output_type": "execute_result"
    }
   ],
   "source": [
    "SLS = sorted(SL, reverse=True)\n",
    "SLS"
   ]
  },
  {
   "cell_type": "markdown",
   "metadata": {},
   "source": [
    "e) Write Python codes to create the following list\n",
    "[“John’s mark is 79”, “David’s mark is 99”, “Mary’s mark is 88”]"
   ]
  },
  {
   "cell_type": "code",
   "execution_count": 53,
   "metadata": {},
   "outputs": [
    {
     "data": {
      "text/plain": [
       "[\"John's mark is 79\", \"David's mark is 99\", \"Mary's mark is 88\"]"
      ]
     },
     "execution_count": 53,
     "metadata": {},
     "output_type": "execute_result"
    }
   ],
   "source": [
    "L = [ \"John's mark is 79\", \"David's mark is 99\", \"Mary's mark is 88\"]\n",
    "L"
   ]
  },
  {
   "cell_type": "markdown",
   "metadata": {},
   "source": [
    "f) Perform the following operations on the list object ‘L’\n",
    "(1) Change the value from 99 to 90 and from ‘David’ to ‘Minko’."
   ]
  },
  {
   "cell_type": "code",
   "execution_count": 54,
   "metadata": {},
   "outputs": [
    {
     "data": {
      "text/plain": [
       "[\"John's mark is 79\", \"Minko's mark is 90\", \"Mary's mark is 88\"]"
      ]
     },
     "execution_count": 54,
     "metadata": {},
     "output_type": "execute_result"
    }
   ],
   "source": [
    "L[1] = L[1].replace('David', 'Minko')\n",
    "L[1] = L[1].replace('99', '90')\n",
    "L"
   ]
  },
  {
   "cell_type": "markdown",
   "metadata": {},
   "source": [
    "(2) Delete the element 79 and ‘John’.\n"
   ]
  },
  {
   "cell_type": "code",
   "execution_count": 55,
   "metadata": {},
   "outputs": [
    {
     "data": {
      "text/plain": [
       "[\"'s mark is \", \"Minko's mark is 90\", \"Mary's mark is 88\"]"
      ]
     },
     "execution_count": 55,
     "metadata": {},
     "output_type": "execute_result"
    }
   ],
   "source": [
    "L[0] = L[0].replace('79', '')\n",
    "L[0] = L[0].replace('John', '')\n",
    "L"
   ]
  },
  {
   "cell_type": "markdown",
   "metadata": {},
   "source": [
    "\n",
    "(3) Insert a new element 92 at the first position and ‘Lucy’ at the fourth position in\n",
    "the list after the operation in (2).\n"
   ]
  },
  {
   "cell_type": "code",
   "execution_count": 56,
   "metadata": {},
   "outputs": [
    {
     "data": {
      "text/plain": [
       "['92', \"'s mark is \", \"Minko's mark is 90\", \"Mary's mark is 88\", 'Lucy']"
      ]
     },
     "execution_count": 56,
     "metadata": {},
     "output_type": "execute_result"
    }
   ],
   "source": [
    "L.insert(0,'92')\n",
    "L.append('Lucy')\n",
    "L"
   ]
  },
  {
   "cell_type": "markdown",
   "metadata": {},
   "source": [
    "(4) Show (print and state) the difference between L.insert (2, [77, 78]) and\n",
    "L.extend(2, [77, 78])."
   ]
  },
  {
   "cell_type": "code",
   "execution_count": 59,
   "metadata": {},
   "outputs": [
    {
     "name": "stdout",
     "output_type": "stream",
     "text": [
      "['92', \"'s mark is \", [77, 78], \"Minko's mark is 90\", \"Mary's mark is 88\", 'Lucy']\n"
     ]
    }
   ],
   "source": [
    "L_insert = L[:]\n",
    "L_insert.insert(2, [77, 78])\n",
    "print(L_insert)"
   ]
  },
  {
   "cell_type": "code",
   "execution_count": 61,
   "metadata": {},
   "outputs": [
    {
     "data": {
      "text/plain": [
       "['92',\n",
       " \"'s mark is \",\n",
       " \"Minko's mark is 90\",\n",
       " \"Mary's mark is 88\",\n",
       " 'Lucy',\n",
       " 2,\n",
       " [77, 78]]"
      ]
     },
     "execution_count": 61,
     "metadata": {},
     "output_type": "execute_result"
    }
   ],
   "source": [
    "L_extend = L[:]\n",
    "L_extend.extend((2, [77, 78]))\n",
    "L_extend"
   ]
  },
  {
   "cell_type": "markdown",
   "metadata": {},
   "source": [
    "(5) Can we perform the same operations on the tuple ‘T’? Why?\n",
    "Ans --> No becasue tuple are immutable"
   ]
  },
  {
   "cell_type": "markdown",
   "metadata": {},
   "source": [
    "g) What is the difference (in usage) between Y=L.copy() and Z=L? Please counter\n",
    "an example.\n",
    "Ans --> Copies the list with copy function, Z=L copies the refrences"
   ]
  },
  {
   "cell_type": "code",
   "execution_count": 2,
   "metadata": {},
   "outputs": [
    {
     "name": "stdout",
     "output_type": "stream",
     "text": [
      "\n"
     ]
    }
   ],
   "source": [
    "print()"
   ]
  },
  {
   "cell_type": "code",
   "execution_count": 1,
   "metadata": {},
   "outputs": [
    {
     "name": "stdout",
     "output_type": "stream",
     "text": [
      "\n"
     ]
    }
   ],
   "source": [
    "print()"
   ]
  },
  {
   "cell_type": "code",
   "execution_count": null,
   "metadata": {},
   "outputs": [],
   "source": []
  }
 ],
 "metadata": {
  "kernelspec": {
   "display_name": "Python 3",
   "language": "python",
   "name": "python3"
  },
  "language_info": {
   "codemirror_mode": {
    "name": "ipython",
    "version": 3
   },
   "file_extension": ".py",
   "mimetype": "text/x-python",
   "name": "python",
   "nbconvert_exporter": "python",
   "pygments_lexer": "ipython3",
   "version": "3.7.1"
  }
 },
 "nbformat": 4,
 "nbformat_minor": 2
}
