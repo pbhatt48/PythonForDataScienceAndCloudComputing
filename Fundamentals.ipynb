{
 "cells": [
  {
   "cell_type": "markdown",
   "metadata": {},
   "source": [
    "Q2) List the Collection Data Types in Python. Write Python code to solve the\n",
    "following questions:"
   ]
  },
  {
   "cell_type": "markdown",
   "metadata": {},
   "source": [
    "a) Place the numbers 79, 88, 99, ‘John’, ’Mary’, ’David’ into a tuple – ‘T’ and list – ‘L’ respectively, and print the contents and data type of two objects. In addition, state the difference (by usage) between tuple and list."
   ]
  },
  {
   "cell_type": "code",
   "execution_count": 4,
   "metadata": {},
   "outputs": [
    {
     "name": "stdout",
     "output_type": "stream",
     "text": [
      "T ==  (79, 88, 99, 'John', 'Mary', 'David') and its data type ==  <class 'tuple'>\n",
      "L ==  [79, 88, 99, 'John', 'Mary', 'David'] and its data type ==  <class 'list'>\n"
     ]
    }
   ],
   "source": [
    "T = (79, 88, 99, 'John', 'Mary', 'David')\n",
    "L = list(T)\n",
    "print(\"T == \", T , \"and its data type == \", type(T))\n",
    "print(\"L == \", L , \"and its data type == \", type(L))"
   ]
  },
  {
   "cell_type": "markdown",
   "metadata": {},
   "source": [
    "b) Return the length of the list ‘L’ and print the result. What does L[1:3] stand for?"
   ]
  },
  {
   "cell_type": "code",
   "execution_count": 5,
   "metadata": {},
   "outputs": [
    {
     "name": "stdout",
     "output_type": "stream",
     "text": [
      "6\n",
      "[88, 99]\n"
     ]
    }
   ],
   "source": [
    "print(len(T))\n",
    "print(L[1:3]) #should print  88 and 99"
   ]
  },
  {
   "cell_type": "markdown",
   "metadata": {},
   "source": [
    "c) Create a sub-list ‘SL’ containing only numeric elements from the tuple ‘T, and\n",
    "calculate and print the maximum value of those numbers."
   ]
  },
  {
   "cell_type": "code",
   "execution_count": 19,
   "metadata": {},
   "outputs": [
    {
     "data": {
      "text/plain": [
       "[79, 88, 99]"
      ]
     },
     "execution_count": 19,
     "metadata": {},
     "output_type": "execute_result"
    }
   ],
   "source": [
    "SL = [i for i in T if isinstance(i,(int,float))]\n",
    "SL"
   ]
  },
  {
   "cell_type": "code",
   "execution_count": 20,
   "metadata": {},
   "outputs": [
    {
     "name": "stdout",
     "output_type": "stream",
     "text": [
      "99\n"
     ]
    }
   ],
   "source": [
    "print(max(SL))"
   ]
  },
  {
   "cell_type": "markdown",
   "metadata": {},
   "source": [
    "d) Create a list ‘SLS’ by sorting (descending order) the elements in the list ‘SL’."
   ]
  },
  {
   "cell_type": "code",
   "execution_count": 21,
   "metadata": {},
   "outputs": [
    {
     "data": {
      "text/plain": [
       "[99, 88, 79]"
      ]
     },
     "execution_count": 21,
     "metadata": {},
     "output_type": "execute_result"
    }
   ],
   "source": [
    "SLS = sorted(SL, reverse=True)\n",
    "SLS"
   ]
  },
  {
   "cell_type": "markdown",
   "metadata": {},
   "source": [
    "e) Write Python codes to create the following list\n",
    "[“John’s mark is 79”, “David’s mark is 99”, “Mary’s mark is 88”]"
   ]
  },
  {
   "cell_type": "code",
   "execution_count": 53,
   "metadata": {},
   "outputs": [
    {
     "data": {
      "text/plain": [
       "[\"John's mark is 79\", \"David's mark is 99\", \"Mary's mark is 88\"]"
      ]
     },
     "execution_count": 53,
     "metadata": {},
     "output_type": "execute_result"
    }
   ],
   "source": [
    "L = [ \"John's mark is 79\", \"David's mark is 99\", \"Mary's mark is 88\"]\n",
    "L"
   ]
  },
  {
   "cell_type": "markdown",
   "metadata": {},
   "source": [
    "f) Perform the following operations on the list object ‘L’\n",
    "(1) Change the value from 99 to 90 and from ‘David’ to ‘Minko’."
   ]
  },
  {
   "cell_type": "code",
   "execution_count": 54,
   "metadata": {},
   "outputs": [
    {
     "data": {
      "text/plain": [
       "[\"John's mark is 79\", \"Minko's mark is 90\", \"Mary's mark is 88\"]"
      ]
     },
     "execution_count": 54,
     "metadata": {},
     "output_type": "execute_result"
    }
   ],
   "source": [
    "L[1] = L[1].replace('David', 'Minko')\n",
    "L[1] = L[1].replace('99', '90')\n",
    "L"
   ]
  },
  {
   "cell_type": "markdown",
   "metadata": {},
   "source": [
    "(2) Delete the element 79 and ‘John’.\n"
   ]
  },
  {
   "cell_type": "code",
   "execution_count": 55,
   "metadata": {},
   "outputs": [
    {
     "data": {
      "text/plain": [
       "[\"'s mark is \", \"Minko's mark is 90\", \"Mary's mark is 88\"]"
      ]
     },
     "execution_count": 55,
     "metadata": {},
     "output_type": "execute_result"
    }
   ],
   "source": [
    "L[0] = L[0].replace('79', '')\n",
    "L[0] = L[0].replace('John', '')\n",
    "L"
   ]
  },
  {
   "cell_type": "markdown",
   "metadata": {},
   "source": [
    "\n",
    "(3) Insert a new element 92 at the first position and ‘Lucy’ at the fourth position in\n",
    "the list after the operation in (2).\n"
   ]
  },
  {
   "cell_type": "code",
   "execution_count": 56,
   "metadata": {},
   "outputs": [
    {
     "data": {
      "text/plain": [
       "['92', \"'s mark is \", \"Minko's mark is 90\", \"Mary's mark is 88\", 'Lucy']"
      ]
     },
     "execution_count": 56,
     "metadata": {},
     "output_type": "execute_result"
    }
   ],
   "source": [
    "L.insert(0,'92')\n",
    "L.append('Lucy')\n",
    "L"
   ]
  },
  {
   "cell_type": "markdown",
   "metadata": {},
   "source": [
    "(4) Show (print and state) the difference between L.insert (2, [77, 78]) and\n",
    "L.extend(2, [77, 78])."
   ]
  },
  {
   "cell_type": "code",
   "execution_count": 59,
   "metadata": {},
   "outputs": [
    {
     "name": "stdout",
     "output_type": "stream",
     "text": [
      "['92', \"'s mark is \", [77, 78], \"Minko's mark is 90\", \"Mary's mark is 88\", 'Lucy']\n"
     ]
    }
   ],
   "source": [
    "L_insert = L[:]\n",
    "L_insert.insert(2, [77, 78])\n",
    "print(L_insert)"
   ]
  },
  {
   "cell_type": "code",
   "execution_count": 61,
   "metadata": {},
   "outputs": [
    {
     "data": {
      "text/plain": [
       "['92',\n",
       " \"'s mark is \",\n",
       " \"Minko's mark is 90\",\n",
       " \"Mary's mark is 88\",\n",
       " 'Lucy',\n",
       " 2,\n",
       " [77, 78]]"
      ]
     },
     "execution_count": 61,
     "metadata": {},
     "output_type": "execute_result"
    }
   ],
   "source": [
    "L_extend = L[:]\n",
    "L_extend.extend((2, [77, 78]))\n",
    "L_extend"
   ]
  },
  {
   "cell_type": "markdown",
   "metadata": {},
   "source": [
    "(5) Can we perform the same operations on the tuple ‘T’? Why?\n",
    "Ans --> No becasue tuple are immutable"
   ]
  },
  {
   "cell_type": "markdown",
   "metadata": {},
   "source": [
    "g) What is the difference (in usage) between Y=L.copy() and Z=L? Please counter\n",
    "an example.\n",
    "Ans --> Copies the list with copy function, Z=L copies the refrences"
   ]
  },
  {
   "cell_type": "code",
   "execution_count": 2,
   "metadata": {},
   "outputs": [
    {
     "name": "stdout",
     "output_type": "stream",
     "text": [
      "\n"
     ]
    }
   ],
   "source": [
    "print()"
   ]
  },
  {
   "cell_type": "markdown",
   "metadata": {},
   "source": [
    "Q3) Create a list ‘X’ including the following numbers 1, 2, 3, .., 10\n",
    "a) Using Python code to calculate the ‘sum’ of these sequential numbers in ‘X’. "
   ]
  },
  {
   "cell_type": "code",
   "execution_count": 2,
   "metadata": {},
   "outputs": [
    {
     "name": "stdout",
     "output_type": "stream",
     "text": [
      "55\n"
     ]
    }
   ],
   "source": [
    "X = [i for i in range(1,11)]\n",
    "print(sum(X))"
   ]
  },
  {
   "cell_type": "markdown",
   "metadata": {},
   "source": [
    "b) Convert the tuple in a) to a string object by CHAR-concatenating of all numeric\n",
    "elements."
   ]
  },
  {
   "cell_type": "code",
   "execution_count": 7,
   "metadata": {},
   "outputs": [
    {
     "data": {
      "text/plain": [
       "'12345678910'"
      ]
     },
     "execution_count": 7,
     "metadata": {},
     "output_type": "execute_result"
    }
   ],
   "source": [
    "s =\"\"\n",
    "concat = [str(i) for i in range(1,11)]\n",
    "y = s.join(concat)\n",
    "y"
   ]
  },
  {
   "cell_type": "markdown",
   "metadata": {},
   "source": [
    "c) Use the List function ‘zip()’ to pair list, i.e. create a new list object ‘P’ in the\n",
    "following form"
   ]
  },
  {
   "cell_type": "code",
   "execution_count": 15,
   "metadata": {},
   "outputs": [
    {
     "name": "stdout",
     "output_type": "stream",
     "text": [
      "[('a', 1), ('b', 2), ('c', 3), ('d', 4), ('e', 5), ('f', 6), ('g', 7), ('h', 8), ('i', 9), ('j', 10)]\n"
     ]
    }
   ],
   "source": [
    "abc = \"abcdefghij\"\n",
    "str_list = [i for i in abc]\n",
    "str_list\n",
    "P = list(zip(str_list, X))\n",
    "print(P)"
   ]
  },
  {
   "cell_type": "markdown",
   "metadata": {},
   "source": [
    "d) Use List Comprehension method to create a list Y= (10, 20,…, 100). Then pair X\n",
    "and Y to create a new list ‘Z’. "
   ]
  },
  {
   "cell_type": "code",
   "execution_count": 20,
   "metadata": {},
   "outputs": [
    {
     "data": {
      "text/plain": [
       "[(1, 10),\n",
       " (2, 20),\n",
       " (3, 30),\n",
       " (4, 40),\n",
       " (5, 50),\n",
       " (6, 60),\n",
       " (7, 70),\n",
       " (8, 80),\n",
       " (9, 90),\n",
       " (10, 100)]"
      ]
     },
     "execution_count": 20,
     "metadata": {},
     "output_type": "execute_result"
    }
   ],
   "source": [
    "Y = [i for i in range(10,101,10)]\n",
    "Z = list(zip(X,Y))\n",
    "Z"
   ]
  },
  {
   "cell_type": "markdown",
   "metadata": {},
   "source": [
    "Q4) Split the following string (separated by the semicolon ‘:’ ) into a new List\n",
    "‘200:is:a:large:number’, then concatenate item in list to a string variable\n",
    "separated by ‘-‘ (using join() function). "
   ]
  },
  {
   "cell_type": "code",
   "execution_count": 26,
   "metadata": {},
   "outputs": [
    {
     "data": {
      "text/plain": [
       "'200-is-a-large-number'"
      ]
     },
     "execution_count": 26,
     "metadata": {},
     "output_type": "execute_result"
    }
   ],
   "source": [
    "s = \"200;is;a;large;number\"\n",
    "s_new = s.replace(\";\",\":\")\n",
    "s_new = s_new.split(\":\")\n",
    "s_new = \"-\".join(s_new)\n",
    "s_new"
   ]
  },
  {
   "cell_type": "markdown",
   "metadata": {},
   "source": [
    "Q5) Create a dictionary object ‘D’ using the key:value -> word:count. It contains\n",
    "the following elements:\n",
    "Word Count\n",
    "Give 3\n",
    "Receive 5\n",
    "Random 2\n",
    "Good 1\n",
    "a) Print the dictionary ‘D’ and its data type."
   ]
  },
  {
   "cell_type": "code",
   "execution_count": 50,
   "metadata": {},
   "outputs": [
    {
     "name": "stdout",
     "output_type": "stream",
     "text": [
      "{'Give': 3, 'Receive': 5, 'Random': 2, 'Good': 1} <class 'dict'>\n"
     ]
    }
   ],
   "source": [
    "D = {'Give':3, 'Receive':5, 'Random':2, 'Good':1}\n",
    "print(D, type(D))"
   ]
  },
  {
   "cell_type": "markdown",
   "metadata": {},
   "source": [
    "b) Change the second item’s value to 5 (from 7).\n"
   ]
  },
  {
   "cell_type": "code",
   "execution_count": 43,
   "metadata": {},
   "outputs": [
    {
     "data": {
      "text/plain": [
       "{'Give': 3, 'Receive': 7, 'Random': 2, 'Good': 1}"
      ]
     },
     "execution_count": 43,
     "metadata": {},
     "output_type": "execute_result"
    }
   ],
   "source": [
    "D['Receive'] = 7\n",
    "D"
   ]
  },
  {
   "cell_type": "markdown",
   "metadata": {},
   "source": [
    "c) Create a list ‘key’ containing the keys of the Dictionary ‘D’, and a list ‘value’\n",
    "containing the values for each key.\n"
   ]
  },
  {
   "cell_type": "code",
   "execution_count": 44,
   "metadata": {},
   "outputs": [
    {
     "name": "stdout",
     "output_type": "stream",
     "text": [
      "['Give', 'Receive', 'Random', 'Good'] [3, 7, 2, 1]\n"
     ]
    }
   ],
   "source": [
    "list_key = list(D.keys())\n",
    "list_value = list(D.values())\n",
    "print(list_key, list_value)"
   ]
  },
  {
   "cell_type": "markdown",
   "metadata": {},
   "source": [
    "d) Copy ‘D’ to get a new dictionary ‘D1’ and delete the third item from ‘D1’. "
   ]
  },
  {
   "cell_type": "code",
   "execution_count": 51,
   "metadata": {},
   "outputs": [
    {
     "data": {
      "text/plain": [
       "{'Give': 3, 'Receive': 5, 'Good': 1}"
      ]
     },
     "execution_count": 51,
     "metadata": {},
     "output_type": "execute_result"
    }
   ],
   "source": [
    "D1 = D.copy()\n",
    "D1.pop('Random')\n",
    "D1"
   ]
  },
  {
   "cell_type": "markdown",
   "metadata": {},
   "source": [
    "Q6) Write Python codes (use Python control flow) to count the frequency of each\n",
    "word in the following string ‘reading is not difficult for you; the difficult part is to\n",
    "understand your reading’. "
   ]
  },
  {
   "cell_type": "code",
   "execution_count": 2,
   "metadata": {},
   "outputs": [
    {
     "data": {
      "text/plain": [
       "[('is', 2),\n",
       " ('difficult', 2),\n",
       " ('the', 1),\n",
       " ('reading', 2),\n",
       " ('for', 1),\n",
       " ('understand', 1),\n",
       " ('you;', 1),\n",
       " ('part', 1),\n",
       " ('your', 1),\n",
       " ('to', 1),\n",
       " ('not', 1)]"
      ]
     },
     "execution_count": 2,
     "metadata": {},
     "output_type": "execute_result"
    }
   ],
   "source": [
    "s = 'reading is not difficult for you; the difficult part is to understand your reading'\n",
    "s_list = s.split(' ')\n",
    "s_unique = set(s_list)\n",
    "#print(s_unique)\n",
    "x = [(i,s_list.count(i)) for i in s_unique]\n",
    "x"
   ]
  },
  {
   "cell_type": "code",
   "execution_count": 3,
   "metadata": {},
   "outputs": [
    {
     "data": {
      "text/plain": [
       "Counter({'reading': 2,\n",
       "         'is': 2,\n",
       "         'not': 1,\n",
       "         'difficult': 2,\n",
       "         'for': 1,\n",
       "         'you;': 1,\n",
       "         'the': 1,\n",
       "         'part': 1,\n",
       "         'to': 1,\n",
       "         'understand': 1,\n",
       "         'your': 1})"
      ]
     },
     "execution_count": 3,
     "metadata": {},
     "output_type": "execute_result"
    }
   ],
   "source": [
    "## easier solution\n",
    "from collections import Counter\n",
    "x = Counter(s_list)\n",
    "x"
   ]
  },
  {
   "cell_type": "markdown",
   "metadata": {},
   "source": [
    "Q7) Write the following Python ‘user defined functions’ (USD)\n",
    "a) Generatenorm (mean, sdev, size) to generate size=1000 normally distributed\n",
    "sample with mean=1 and sdev=0.5. Save the samples in a list called ‘SAMPLES’."
   ]
  },
  {
   "cell_type": "code",
   "execution_count": 23,
   "metadata": {},
   "outputs": [
    {
     "name": "stdout",
     "output_type": "stream",
     "text": [
      "0.986119085860846 0.506736491007928\n"
     ]
    },
    {
     "data": {
      "image/png": "[encoded data removed]",
      "text/plain": [
       "<Figure size 432x288 with 1 Axes>"
      ]
     },
     "metadata": {
      "needs_background": "light"
     },
     "output_type": "display_data"
    }
   ],
   "source": [
    "import numpy as np\n",
    "import matplotlib.pyplot as plt\n",
    "%matplotlib inline \n",
    "def generateNorm(mean=1,sdev=0.5,size=1000):\n",
    "    y = np.random.normal(mean, sdev, size)\n",
    "    SAMPLES = list(y)\n",
    "    print(np.mean(SAMPLES), np.std(SAMPLES))\n",
    "    plt.hist(SAMPLES,bins=100)\n",
    "    plt.show()\n",
    "    return SAMPLES\n",
    "\n",
    "SAMPLES = generateNorm()"
   ]
  },
  {
   "cell_type": "markdown",
   "metadata": {},
   "source": [
    "b) Confidence (samplelist, time) to obtain the 95% confidence interval of the\n",
    "mean value of the elements in ‘SAMPLES’. The specific steps are listed as below\n",
    "Using the ‘LOOP’ to perform the following operations for 100 times: \n",
    "(1) Generate random samples (size=300) from the list ‘SAMPLES’ and save them\n",
    "into a temporary list ‘TEMP’.\n",
    "(2) Calculate the mean of samples in ‘TEMP’."
   ]
  },
  {
   "cell_type": "code",
   "execution_count": 29,
   "metadata": {},
   "outputs": [
    {
     "name": "stdout",
     "output_type": "stream",
     "text": [
      "0.9841235474755763\n"
     ]
    },
    {
     "data": {
      "image/png": "[encoded data removed]",
      "text/plain": [
       "<Figure size 432x288 with 1 Axes>"
      ]
     },
     "metadata": {
      "needs_background": "light"
     },
     "output_type": "display_data"
    }
   ],
   "source": [
    "import random\n",
    "temp= random.sample(SAMPLES,300)\n",
    "print(np.mean(temp))\n",
    "plt.hist(temp, bins=50)\n",
    "plt.show()\n",
    "\n",
    "\n"
   ]
  },
  {
   "cell_type": "code",
   "execution_count": 38,
   "metadata": {},
   "outputs": [
    {
     "name": "stdout",
     "output_type": "stream",
     "text": [
      "[1.0058702817972283, 0.9995063651212661, 1.0024741475407384, 0.9972734001953902, 1.031862836869945, 0.9765534853304341, 0.9805852600998582, 0.9879616704783322, 0.9511799675689141, 1.001743713644503, 1.0176176301917617, 0.9993302411588745, 1.0615766495322405, 1.013871242223301, 0.9640636407129474, 1.0079820975340144, 0.9965486113242842, 0.9688496337887859, 1.0144985131827713, 0.9627425679622543, 0.9992748898255502, 1.0051891539301314, 0.9926297139833391, 0.9954681525848021, 1.018692440790271, 0.9426568659029015, 0.956776042221289, 0.9474570262584996, 0.9136152467964469, 1.0315767251743184, 0.9332734144774097, 1.0056905823395725, 0.9814633079269122, 0.9821242131111868, 0.9579017516808392, 0.9686825199237509, 0.9784155309195675, 0.9347706519877477, 1.0075118490217239, 0.9685876680501356, 0.9813932537431206, 0.9640230994525486, 0.9937468859297565, 1.02021447946885, 1.0017869931534598, 0.9621444691600565, 0.9988448175685568, 0.9550941448082667, 1.0116600997327616, 0.9997808666439039, 0.9910526561491868, 0.9844976487371104, 0.9823373620446114, 1.015243180429689, 0.9795007481619721, 0.9961663906991934, 0.9544512090408894, 0.9676603607385029, 0.9720839120116532, 1.011190611935301, 0.9928446551334424, 0.966863992416227, 0.9947153240108844, 0.9639377874570237, 0.9988028708896487, 0.9746887250797903, 0.9760866319488395, 0.9857348809280893, 0.9802837612373141, 1.010034325326955, 0.9554211480384066, 0.9873315532909961, 0.9694958368854679, 0.9676541290380108, 0.9855296328606435, 0.9388077745946887, 1.0190787658056857, 0.9793101141583097, 1.0338060555397532, 1.0051704062884521, 0.979706052308558, 0.9810751856495491, 1.0075802431211154, 1.03994091462473, 0.9854083330533752, 0.9464735381904753, 0.9797730293504927, 0.9621628613308936, 0.9611213064179719, 0.9614798801312388, 1.0043978926494348, 0.9909850582012955, 1.017968136926125, 1.035074156882221, 0.9714648442210404, 0.9859556970982724, 0.9801336290016222, 0.98675840124984, 1.0056457086530401, 0.9802967585488072] 100\n"
     ]
    }
   ],
   "source": [
    "##Another way\n",
    "TEMP = [random.sample(SAMPLES,300) for i in range(100)]\n",
    "\n"
   ]
  },
  {
   "cell_type": "markdown",
   "metadata": {},
   "source": [
    "Then place all the mean values (those 100 numbers) into a list ‘Q’. Finally follow\n",
    "the following steps to obtain the confidence interval:\n",
    "(4) Sort the list ‘Q’ by ascending order."
   ]
  },
  {
   "cell_type": "code",
   "execution_count": 42,
   "metadata": {},
   "outputs": [
    {
     "name": "stdout",
     "output_type": "stream",
     "text": [
      "100\n"
     ]
    }
   ],
   "source": [
    "Q = [np.mean(i) for i in TEMP]\n",
    "#print(TEMP, len(TEMP))\n",
    "print(len(Q))\n",
    "Q = sorted(Q)\n"
   ]
  },
  {
   "cell_type": "markdown",
   "metadata": {},
   "source": [
    "(5) For the list ‘Q’, select the element at 5-th position as the lower confidence\n",
    "level and the element at 95-th position as the upper level.\n",
    "(6) The function will return a tuple that contains lower and upper levels of the\n",
    "elements in ‘SAMPLES’."
   ]
  },
  {
   "cell_type": "code",
   "execution_count": 48,
   "metadata": {},
   "outputs": [
    {
     "data": {
      "text/plain": [
       "(0.9426568659029015, 1.0315767251743184)"
      ]
     },
     "execution_count": 48,
     "metadata": {},
     "output_type": "execute_result"
    }
   ],
   "source": [
    "conf = Q[4:94]\n",
    "len(conf)\n",
    "conf_tup = tuple((Q[4], Q[94]))\n",
    "conf_tup"
   ]
  },
  {
   "cell_type": "markdown",
   "metadata": {},
   "source": [
    "Q8) Create the following list object:\n",
    "T= [('food', 25), ('clothes', 83), ('food', 30), ('clothes', 29), ('toy', 43)]\n",
    "to represent the transactions. For instance, the (‘clothes’, 83) item stands for the\n",
    "$83 spend on the ‘clothes’ category. Now create a Python package ‘transaction’\n",
    "(matched with one of directories in your computer system) with two modules\n",
    "‘.meanvalue()’ and ‘.numbertran()’ to return the mean values and counts for each\n",
    "category respectively based on the items contained in the list ‘T’. Then you can\n",
    "run the following Python codes\n",
    "import transaction\n",
    "transaction.meanvalue (T)\n",
    "transaction.numbertran (T)"
   ]
  },
  {
   "cell_type": "code",
   "execution_count": 9,
   "metadata": {},
   "outputs": [],
   "source": [
    "import pixiedust"
   ]
  },
  {
   "cell_type": "code",
   "execution_count": 18,
   "metadata": {
    "pixiedust": {
     "displayParams": {}
    }
   },
   "outputs": [
    {
     "name": "stdout",
     "output_type": "stream",
     "text": [
      "[['clothes', 2], ['toy', 1], ['food', 2]]\n",
      "[['clothes', '56.0'], ['food', '27.5'], ['toy', '43.0']]\n"
     ]
    }
   ],
   "source": [
    "#%%pixie_debugger #-b 22\n",
    "from collections import Counter\n",
    "import numpy as np\n",
    "\n",
    "class Trans:\n",
    "\n",
    "    def __init__(self, T):\n",
    "        self.T = T\n",
    "    def numbertran(self):\n",
    "        unique_keys = [i[0] for i in self.T]\n",
    "        entry_val = [(j, unique_keys.count(j)) for j in unique_keys]\n",
    "        entry_val = [list(i) for i in set(entry_val)]\n",
    "        #print(entry_val)\n",
    "        return entry_val\n",
    "    \n",
    "    def meanvalue(self):\n",
    "        \n",
    "        unique_keys = [i[0] for i in self.T]\n",
    "        entry_val = [(j, unique_keys.count(j)) for j in unique_keys]\n",
    "        #print(entry_val[1])\n",
    "        my_lst = []\n",
    "        for i in unique_keys:\n",
    "            #print(i)\n",
    "            sum_val = 0\n",
    "            c = 0\n",
    "            for j in self.T: \n",
    "                if i==j[0]:\n",
    "                    c = c + 1\n",
    "                    sum_val = sum_val + j[1]\n",
    "                    entry_count = c\n",
    "            #print(sum_val/ c)\n",
    "            my_lst.append(([i,sum_val/ c]))\n",
    "        xx = np.unique(my_lst, axis=0)\n",
    "        #print(xx.tolist(), type(xx))\n",
    "        return xx.tolist()\n",
    "        \n",
    "    \n",
    "\n",
    "X= [('food', 25), ('clothes', 83), ('food', 30), ('clothes', 29), ('toy', 43)] \n",
    "myTran = Trans(X)\n",
    "print(myTran.numbertran())\n",
    "print(myTran.meanvalue())\n"
   ]
  },
  {
   "cell_type": "code",
   "execution_count": 10,
   "metadata": {
    "pixiedust": {
     "displayParams": {}
    }
   },
   "outputs": [
    {
     "name": "stdout",
     "output_type": "stream",
     "text": [
      "[['toy', 1], ['food', 2], ['clothes', 2]]\n",
      "[['toy', 43.0], ['food', 27.5], ['clothes', 56.0]]\n"
     ]
    }
   ],
   "source": [
    "from collections import Counter\n",
    "class MyTransac:\n",
    "    def __init__(self, list_vals):\n",
    "        self.list_vals = list_vals\n",
    "        \n",
    "    def numbertran(self):\n",
    "        get_keys = [i[0] for i in self.list_vals]\n",
    "        get_keys_num = [(i[0], get_keys.count(i[0])) for i in self.list_vals]\n",
    "        get_keys_set = [list(i) for i in set(get_keys_num)]\n",
    "        return get_keys_set\n",
    "    \n",
    "    def meanvalue(self):\n",
    "        get_keys_set = self.numbertran()\n",
    "        new_list = []\n",
    "        for i in get_keys_set:\n",
    "            sum_val = 0 \n",
    "            for j in self.list_vals:\n",
    "                if j[0] == i[0]:\n",
    "                    sum_val += j[1]\n",
    "                    #print(sum_val)\n",
    "            new_list.append([i[0], sum_val/i[1]])\n",
    "        return new_list\n",
    "        \n",
    "X= [('food', 25), ('clothes', 83), ('food', 30), ('clothes', 29), ('toy', 43)] \n",
    "myNewTran = MyTransac(X)\n",
    "print(myNewTran.numbertran())\n",
    "print(myNewTran.meanvalue())"
   ]
  },
  {
   "cell_type": "code",
   "execution_count": 4,
   "metadata": {
    "pixiedust": {
     "displayParams": {}
    }
   },
   "outputs": [
    {
     "data": {
      "text/html": [
       "<style type=\"text/css\">.pd_warning{display:none;}</style><div class=\"pd_warning\"><em>Hey, there's something awesome here! To see it, open this notebook outside GitHub, in a viewer like Jupyter</em></div>"
      ],
      "text/plain": [
       "<IPython.core.display.HTML object>"
      ]
     },
     "metadata": {
      "pixieapp_metadata": null
     },
     "output_type": "display_data"
    }
   ],
   "source": [
    "%%pixie_debugger -b 25\n",
    "import numpy as np\n",
    "class Atransobj:\n",
    "    T=[]\n",
    "    \n",
    "    def __init__(self, T):\n",
    "        self.T = T\n",
    "       \n",
    "      \n",
    "    def numbertran (self,T):\n",
    "        lengthbuy = len(T)\n",
    "        items=[T[a][0] for a in range(0,lengthbuy)]\n",
    "        itemset=set([T[a][0] for a in range(0,lengthbuy)])\n",
    "        leng=len(items)\n",
    "        itemcount=[]\n",
    "        for item in itemset:\n",
    "                lists=[item == items[j] for j in range(0,leng)]\n",
    "                tepitemcount=[item, sum(lists)]   \n",
    "                itemcount.append(tepitemcount)\n",
    "        return itemcount   \n",
    "    \n",
    "    def meanvalue (self,T):\n",
    "        lengthbuy = len(T)\n",
    "        values=[T[a][1] for a in range(0,lengthbuy)]\n",
    "        items=[T[a][0] for a in range(0,lengthbuy)]\n",
    "        itemset=set([T[a][0] for a in range(0,lengthbuy)])\n",
    "        itemmean=[]\n",
    "        for item in itemset:\n",
    "            ind=[i for i, x in enumerate(items) if x == item]\n",
    "            lists=[values[j] for j in ind]\n",
    "            m=np.array(lists) \n",
    "            tepitemsum=[item, m.mean()]   \n",
    "            itemmean.append(tepitemsum)\n",
    "        return itemmean\n",
    "    \n",
    "X= [('food', 25), ('clothes', 83), ('food', 30), ('clothes', 29), ('toy', 43)] \n",
    "myNewTran = Atransobj(X)\n",
    "print(myNewTran.numbertran(X))\n",
    "print(myNewTran.meanvalue(X))"
   ]
  },
  {
   "cell_type": "code",
   "execution_count": 1,
   "metadata": {},
   "outputs": [
    {
     "name": "stdout",
     "output_type": "stream",
     "text": [
      "Pixiedust database opened successfully\n"
     ]
    },
    {
     "data": {
      "text/html": [
       "\n",
       "        <div style=\"margin:10px\">\n",
       "            <a href=\"https://github.com/ibm-watson-data-lab/pixiedust\" target=\"_new\">\n",
       "                <img src=\"https://github.com/ibm-watson-data-lab/pixiedust/raw/master/docs/_static/pd_icon32.png\" style=\"float:left;margin-right:10px\"/>\n",
       "            </a>\n",
       "            <span>Pixiedust version 1.1.17</span>\n",
       "        </div>\n",
       "        "
      ],
      "text/plain": [
       "<IPython.core.display.HTML object>"
      ]
     },
     "metadata": {},
     "output_type": "display_data"
    }
   ],
   "source": [
    "import pixiedust"
   ]
  },
  {
   "cell_type": "code",
   "execution_count": 34,
   "metadata": {
    "pixiedust": {
     "displayParams": {}
    }
   },
   "outputs": [
    {
     "name": "stdout",
     "output_type": "stream",
     "text": [
      "[['toy', 1], ['clothes', 2], ['food', 2]]\n",
      "None\n",
      "{'toy', 'clothes', 'food'}\n",
      "IND ==  [4]\n",
      "bool_value ==  43.0\n",
      "IND ==  [1, 3]\n",
      "bool_value ==  56.0\n",
      "IND ==  [0, 2]\n",
      "bool_value ==  27.5\n",
      "[['toy', 43.0], ['clothes', 56.0], ['food', 27.5]]\n"
     ]
    }
   ],
   "source": [
    "#%%pixie_debugger -b 9\n",
    "import numpy as np\n",
    "class AtransobjX:\n",
    "    def __init__(self, T):\n",
    "        self.T = T\n",
    "    def numbertran(self):\n",
    "        T_items = [self.T[i][0] for i in range(len(self.T))]\n",
    "        T_items_set = set(T_items)\n",
    "        T_items_val = []\n",
    "        for item in T_items_set:\n",
    "            T_items_bool = [item == T_items[i] for i in range(len(T_items))]\n",
    "            T_items_val.append([item, sum(T_items_bool)])\n",
    "        print(T_items_val)\n",
    "    \n",
    "    def meanvalue(self):\n",
    "        T_value = [self.T[i][1] for i in range(len(self.T))]\n",
    "        T_items = [self.T[i][0] for i in range(len(self.T))]\n",
    "        T_items_set = set(T_items)\n",
    "        print(T_items_set)\n",
    "        list_item_values = []\n",
    "        for item in T_items_set:\n",
    "            ind = [i for (i,c) in enumerate(T_items) if item == c]\n",
    "            print(\"IND == \", ind)\n",
    "            values_item = [T_value[i] for i in ind]\n",
    "            print(\"bool_value == \", np.mean(values_item))\n",
    "            list_item_values.append([item, np.mean(values_item)])\n",
    "        return list_item_values\n",
    "\n",
    "X= [('food', 25), ('clothes', 83), ('food', 30), ('clothes', 29), ('toy', 43)] \n",
    "myNewTran = AtransobjX(X)\n",
    "print(myNewTran.numbertran())\n",
    "print(myNewTran.meanvalue())"
   ]
  },
  {
   "cell_type": "code",
   "execution_count": 21,
   "metadata": {},
   "outputs": [
    {
     "data": {
      "text/plain": [
       "[3, 4, 5, 6, 7, 8]"
      ]
     },
     "execution_count": 21,
     "metadata": {},
     "output_type": "execute_result"
    }
   ],
   "source": [
    "xl = [1,2,3,4,5,6]\n",
    "m = [i for i,x in enumerate(xl,3)]\n",
    "m"
   ]
  },
  {
   "cell_type": "markdown",
   "metadata": {},
   "source": [
    "Q9): The following questions are designed to practice File I/O:\n",
    "a) Print the current OS path, and reset the current path as the folder containing\n",
    "incomelist.csv\n"
   ]
  },
  {
   "cell_type": "code",
   "execution_count": 40,
   "metadata": {},
   "outputs": [
    {
     "name": "stdout",
     "output_type": "stream",
     "text": [
      "/Users/sadichha\n",
      "\n",
      "/Users/sadichha/UdacityClasses/UdemyClass/CompletePythonForDataScienceAndCloud/myRepo/PythonForDataScienceAndCloudComputing\n",
      "\n"
     ]
    }
   ],
   "source": [
    "import os\n",
    "print(os.getcwd() + \"\\n\")\n",
    "os.chdir(r\"/Users/sadichha/UdacityClasses/UdemyClass/CompletePythonForDataScienceAndCloud/myRepo/PythonForDataScienceAndCloudComputing\")\n",
    "print(os.getcwd() + \"\\n\")"
   ]
  },
  {
   "cell_type": "markdown",
   "metadata": {},
   "source": [
    "b) Use the File I/O read() with the default access mode to read the whole file and\n",
    "print results"
   ]
  },
  {
   "cell_type": "code",
   "execution_count": null,
   "metadata": {},
   "outputs": [],
   "source": []
  },
  {
   "cell_type": "code",
   "execution_count": 51,
   "metadata": {},
   "outputs": [
    {
     "name": "stdout",
     "output_type": "stream",
     "text": [
      "the type is <class 'str'>\n",
      "Read lines: \n",
      "----------------------- \n",
      "ID,title,Income,tax\n",
      "1,manager,70000,1800\n",
      "2,employee,30000,5000\n",
      "3,manager,80000,15000\n",
      "4,employee,3500 \n"
     ]
    }
   ],
   "source": [
    "path = 'incomelist.csv'\n",
    "print(\"the type is \" + str(type(obs)))\n",
    "print(\"Read lines: \\n----------------------- \\n\" + \"%s \" % (obs))\n",
    "f = open(path, \"r+\")\n",
    "obs = f.read(100)\n",
    "#print(obs)\n",
    "f.close()"
   ]
  },
  {
   "cell_type": "markdown",
   "metadata": {},
   "source": [
    "c) Use the File I/O read() with the binary read mode to read the data and only\n",
    "print 3rd record with the decoded bytes data. In addition, please print the file\n",
    "name and access mode with which you are opening"
   ]
  },
  {
   "cell_type": "code",
   "execution_count": 57,
   "metadata": {},
   "outputs": [
    {
     "name": "stdout",
     "output_type": "stream",
     "text": [
      "Line no is 0 - ID,title,Income,tax\r\n",
      "\n",
      "Line no is 1 - 1,manager,70000,1800\r\n",
      "\n",
      "Line no is 2 - 2,employee,30000,5000\r\n",
      "\n",
      "incomelist.csv\n",
      "rb\n"
     ]
    }
   ],
   "source": [
    "path = 'incomelist.csv'\n",
    "f = open(path, 'rb')\n",
    "for i in range(3):\n",
    "    obs = f.__next__()\n",
    "    if i in [0,1,2]:\n",
    "        print(\"Line no is %d - %s\" % (i, obs.decode()))\n",
    "print(f.name)\n",
    "print(f.mode)\n",
    "f.close()"
   ]
  },
  {
   "cell_type": "markdown",
   "metadata": {},
   "source": [
    "d) Use the File I/O readlines() with the access mode r+ to return a list and print\n",
    "each element string with the white space (\\n) stripped from the end of the string.\n",
    "Also, print the list object read by readlines()"
   ]
  },
  {
   "cell_type": "code",
   "execution_count": 17,
   "metadata": {},
   "outputs": [
    {
     "name": "stdout",
     "output_type": "stream",
     "text": [
      "5\n",
      "ID,title,Income,tax\n",
      "1,manager,70000,1800\n",
      "2,employee,30000,5000\n",
      "3,manager,80000,15000\n",
      "4,employee,35000,6000\n",
      "the type is <class 'list'>\n",
      "['ID,title,Income,tax\\n', '1,manager,70000,1800\\n', '2,employee,30000,5000\\n', '3,manager,80000,15000\\n', '4,employee,35000,6000\\n']\n"
     ]
    }
   ],
   "source": [
    "f = open(path, \"r+\")\n",
    "obs = f.readlines(100) \n",
    "print(len(obs))\n",
    "for j in range(len(obs)):\n",
    "    print  (str(obs[j]).rstrip())\n",
    "     \n",
    "print  (\"the type is \"+str(type(obs)))\n",
    "print  (obs)\n",
    "f.close()"
   ]
  },
  {
   "cell_type": "code",
   "execution_count": 25,
   "metadata": {},
   "outputs": [
    {
     "name": "stdout",
     "output_type": "stream",
     "text": [
      "8\n",
      "ID,title,Income,taxAPPLE\n",
      "1,manager,70000,1800APPLE\n",
      "2,employee,30000,5000APPLE\n",
      "3,manager,80000,15000APPLE\n",
      "4,employee,35000,6000APPLE\n",
      "5,employee,13000,2500APPLE\n",
      "6,employee,30000,6000APPLE\n",
      "7,manager,90000,20000APPLE\n",
      "['ID,title,Income,tax\\n', '1,manager,70000,1800\\n', '2,employee,30000,5000\\n', '3,manager,80000,15000\\n', '4,employee,35000,6000\\n', '5,employee,13000,2500\\n', '6,employee,30000,6000\\n', '7,manager,90000,20000\\n'] 8\n"
     ]
    }
   ],
   "source": [
    "path = 'incomelist.csv'\n",
    "f = open(path, 'r+')\n",
    "obs = f.readlines()\n",
    "print(len(obs))\n",
    "for i in range(len(obs)):\n",
    "    line = obs[i]\n",
    "    line = line.strip('\\n')\n",
    "    print(line + \"APPLE\")\n",
    "    \n",
    "print(obs, len(obs))\n",
    "f.close()"
   ]
  },
  {
   "cell_type": "markdown",
   "metadata": {},
   "source": [
    "e) Use the File I/O readline() with the access mode rb+ to return each line and\n",
    "print each string in ACSII format, also, print the position for each line read"
   ]
  },
  {
   "cell_type": "code",
   "execution_count": 2,
   "metadata": {},
   "outputs": [
    {
     "name": "stdout",
     "output_type": "stream",
     "text": [
      "The current position of the line is 21\n",
      "ID,title,Income,tax\r\n",
      "\n",
      "The current position of the line is 43\n",
      "1,manager,70000,1800\r\n",
      "\n",
      "The current position of the line is 66\n",
      "2,employee,30000,5000\r\n",
      "\n",
      "The current position of the line is 89\n",
      "3,manager,80000,15000\r\n",
      "\n",
      "The current position of the line is 112\n",
      "4,employee,35000,6000\r\n",
      "\n",
      "The current position of the line is 135\n",
      "5,employee,13000,2500\r\n",
      "\n",
      "The current position of the line is 158\n",
      "6,employee,30000,6000\r\n",
      "\n",
      "The current position of the line is 181\n",
      "7,manager,90000,20000\r\n",
      "\n"
     ]
    }
   ],
   "source": [
    "path = 'incomelist.csv'\n",
    "f = open(path, 'rb+')\n",
    "#obs = f.readlines()\n",
    "for i in range(8):\n",
    "    obs1 = f.readline()\n",
    "    print(\"The current position of the line is %d\"% (f.tell()))\n",
    "    line = obs[i].decode()\n",
    "    print(line)\n",
    "f.close()"
   ]
  },
  {
   "cell_type": "markdown",
   "metadata": {},
   "source": [
    "f) Read data without header into a list and finish the following calculation:\n",
    "f1) count the number of managers and non-managers (general employees)\n",
    "respectively\n",
    "f2) calculate the average income for different title respectively and print result\n",
    "f3) calculate the tax rate (tax/income) for each record and print result\n",
    "f4) calculate the averaged value of the tax rate based on f3) and print result\n",
    "f5) calculate the total average tax rate based on total(tax)/total(income)\n",
    "f6) Write all the results of f) into a .txt file and specify each result with several\n",
    "words or comments"
   ]
  },
  {
   "cell_type": "code",
   "execution_count": 45,
   "metadata": {},
   "outputs": [
    {
     "name": "stdout",
     "output_type": "stream",
     "text": [
      "7 ['1,manager,70000,1800', '2,employee,30000,5000', '3,manager,80000,15000', '4,employee,35000,6000', '5,employee,13000,2500', '6,employee,30000,6000', '7,manager,90000,20000']\n",
      "The number of manager equals to 3 \n",
      "Average salary of manager =  80000.0\n",
      "The number of employees equals to 4\n",
      "Average salary of employee ==  27000.0\n",
      "Tax rate for each employee ==  [0.025714285714285714, 0.16666666666666666, 0.1875, 0.17142857142857143, 0.19230769230769232, 0.2, 0.2222222222222222]\n",
      "Average value of tax rate ==  0.16654849119134832\n"
     ]
    }
   ],
   "source": [
    "path = 'incomelist.csv'\n",
    "f = open(path, 'r+')\n",
    "obs = f.readlines()[1:]\n",
    "new_doc = []\n",
    "for i in range(len(obs)):\n",
    "    each_strip_line = obs[i].strip(\"\\n\")\n",
    "    new_doc.append(each_strip_line)\n",
    "f.close()\n",
    "print(len(new_doc), new_doc)\n",
    "\n",
    "#count the number of manager\n",
    "num_of_managers = [i for i in new_doc if \"manager\" in i]\n",
    "print(\"The number of manager equals to %i \"% (len(num_of_managers)))\n",
    "income_sum = [i.split(',') for i in num_of_managers]\n",
    "average_s_m = sum([(int(i[2])) for i in income_sum])/ len(income_sum)\n",
    "print(\"Average salary of manager = \" , average_s_m)\n",
    "\n",
    "# count the number of employee \n",
    "num_of_employee = [i for i in new_doc if \"employee\" in i]\n",
    "print(\"The number of employees equals to %d\" % len(num_of_employee))\n",
    "avg_s_emp = sum([int(j[2]) for j in (i.split(',') for i in num_of_employee)])/len(num_of_employee)\n",
    "print(\"Average salary of employee == \", avg_s_emp)\n",
    "\n",
    "# tax rate for each employee\n",
    "t = [(int(j[3])/int(j[2])) for j in (i.split(',') for i in new_doc)]\n",
    "print(\"Tax rate for each employee == \", t)\n",
    "\n",
    "atr = sum(t)/len(t)\n",
    "print(\"Average value of tax rate == \", atr)\n",
    "\n",
    "f2 = open('myresult.txt', \"w+\")\n",
    "info1 = '# of managers: ' + str(len(num_of_managers))\n",
    "info2 = '# of employees: ' +  str(len(num_of_employee))\n",
    "info3 = 'avg income of managers: ' + str(average_s_m)\n",
    "info4 = 'avg income of employees: ' + str(avg_s_emp)\n",
    "info5 = 'tax ratio: ' + str(t)\n",
    "info6 = 'tax_rate_avg -> avg(tax/income): '+ str(atr)\n",
    "info7 = 'THE END!!'\n",
    "\n",
    "writelist = [info1, info2, info3, info4, info5, info6, info7]\n",
    "\n",
    "for k in range(len(writelist)): \n",
    "    f2.write(writelist[k])\n",
    "    f2.write('\\n')\n",
    "f2.close()\n",
    "\n",
    "\n"
   ]
  },
  {
   "cell_type": "markdown",
   "metadata": {},
   "source": [
    "Q10): The following questions are designed to practice iterators and generators:\n",
    "a) We analyze word frequency for the following document (a list of 4 string\n",
    "sentences)\n",
    "doc=['slowly build presence ahead of games', 'we build the signal sequences',\n",
    "'we put showcase focusing on the dangers of games', 'getting such signal ahead\n",
    "of dangers']\n",
    "Please create a generator 'getwordgen(sentence)' that create an iterator. If you\n",
    "use the following codes:\n",
    " g = getwordgen(sentence)\n",
    "for j in range(len(doc)):\n",
    " print (g.__next__())"
   ]
  },
  {
   "cell_type": "code",
   "execution_count": 63,
   "metadata": {},
   "outputs": [
    {
     "name": "stdout",
     "output_type": "stream",
     "text": [
      "['slowly build presence ahead of games', 'we build the signal sequences', 'we put showcase focusing on the dangers of games', 'getting such signal ahead of dangers']\n",
      "Counter({'slowly': 1, 'build': 1, 'presence': 1, 'ahead': 1, 'of': 1, 'games': 1})\n",
      "Counter({'build': 2, 'slowly': 1, 'presence': 1, 'ahead': 1, 'of': 1, 'games': 1, 'we': 1, 'the': 1, 'signal': 1, 'sequences': 1})\n",
      "Counter({'build': 2, 'of': 2, 'games': 2, 'we': 2, 'the': 2, 'slowly': 1, 'presence': 1, 'ahead': 1, 'signal': 1, 'sequences': 1, 'put': 1, 'showcase': 1, 'focusing': 1, 'on': 1, 'dangers': 1})\n",
      "Counter({'of': 3, 'build': 2, 'ahead': 2, 'games': 2, 'we': 2, 'the': 2, 'signal': 2, 'dangers': 2, 'slowly': 1, 'presence': 1, 'sequences': 1, 'put': 1, 'showcase': 1, 'focusing': 1, 'on': 1, 'getting': 1, 'such': 1})\n"
     ]
    }
   ],
   "source": [
    "from collections import Counter\n",
    "sentence=['slowly build presence ahead of games',\n",
    " 'we build the signal sequences',\n",
    " 'we put showcase focusing on the dangers of games',\n",
    "  'getting such signal ahead of dangers']\n",
    "print(doc)\n",
    "def getwordgen(new_doc):\n",
    "    new_doc = [i.split(' ') for i in doc]\n",
    "    z=[]\n",
    "    for i in range(len(new_doc)):\n",
    "        z.extend(new_doc[i])\n",
    "        #print(Counter(z))\n",
    "        yield (Counter(z))\n",
    "    \n",
    "\n",
    "g = getwordgen(sentence)\n",
    "for j in range(len(doc)):\n",
    "    print (g.__next__())\n",
    "    "
   ]
  },
  {
   "cell_type": "markdown",
   "metadata": {},
   "source": [
    "b) This time you will calculate the composite return if you invest some fund (any\n",
    "initial value) with a fixed interest rate. You need to check the total fund over time\n",
    "course (yearly). Using the similar way above, produce a generator 'getreturn'\n",
    "that create an iterator. If you execute the following codes:\n",
    "g = getreturn (base, interest, years)\n",
    "for j in range(year):\n",
    " print (g.__next__())\n",
    "Then the total fund value based on the base (fund) and interest will be printed\n",
    "out. Where the 'base', 'interest', 'year' are parameters of the generator, the\n",
    "'base' is the initial fund value and is 100 by default, 'interest' is the interest rate\n",
    "and 'years' is the number of years for investing fund."
   ]
  },
  {
   "cell_type": "code",
   "execution_count": 64,
   "metadata": {},
   "outputs": [
    {
     "name": "stdout",
     "output_type": "stream",
     "text": [
      "1050.0\n",
      "1102.5\n",
      "1157.625\n",
      "1215.5062500000001\n",
      "1276.2815625000003\n"
     ]
    }
   ],
   "source": [
    "def getreturn(interest, years, base):\n",
    "    total= base\n",
    "    for i in range(years):\n",
    "        total = total*(1.0 + interest)\n",
    "        yield total\n",
    "\n",
    "g = getreturn(0.05 , 10, base = 1000)\n",
    "for j in range(5):\n",
    "    print (g.__next__())"
   ]
  },
  {
   "cell_type": "code",
   "execution_count": 65,
   "metadata": {},
   "outputs": [
    {
     "data": {
      "text/plain": [
       "\"\\nIf you determine to invest a certain amount of fund (e.g.$1000)at the beginning of each year and then draw the total amount (with all returns) at the end of this\\nyear, then you invest the all the fund (i.e. total balance including gain or loss since\\nthe first year's investment)....\\nEach year you split the total fund into two investment portfolios based on a\\nproportion value -- investprop1 (a class variable, which means you choose to\\ninvest amount investprop1*$1000 on the first portfolio and (1-\\ninvestprop1)*$1000 on the second portfolio).\\nIn addition, every year can be 'good' or 'bad' based on the probability value\\n'goodinvest' (such as 30%). If the event is 'good' by a random draw with the\\nprobability 'goodinvest', i.e. if the class variable 'is_loss' is 0, then you will get\\nfund gaining based on the interests rate 'gain_rate1' and 'gain_rate2' for two\\nportfolios respectively, otherwise you will suffer fund loss based on the loss rate\\n'loss_rate1' and 'loss_rate2' for two portfolios respectively.\\nPlease keep writing the Python codes to define the following class methods to\\nrealize the functionalities above:\\ndef lossprob(self): -> to determine 'is_loss' is 0 or 1 and print result\\ndef getyearly(self): -> to determine total fund amount at n-th years' investment\\nn=1,..\\ndef totalfund(self): -> to report total fund after n-th years' investment, n=1,..\\nThen you can try or implement the class by generating several instances (objects)\\nby passing the values of class features such as ‘gain_rate1’, ‘gain_rate2’..., then do\\ninvestment and print total return each year.\\n\""
      ]
     },
     "execution_count": 65,
     "metadata": {},
     "output_type": "execute_result"
    }
   ],
   "source": [
    "\"\"\"\n",
    "If you determine to invest a certain amount of fund (e.g.$1000)at the beginning of each year and then draw the total amount (with all returns) at the end of this\n",
    "year, then you invest the all the fund (i.e. total balance including gain or loss since\n",
    "the first year's investment)....\n",
    "Each year you split the total fund into two investment portfolios based on a\n",
    "proportion value -- investprop1 (a class variable, which means you choose to\n",
    "invest amount investprop1*$1000 on the first portfolio and (1-\n",
    "investprop1)*$1000 on the second portfolio).\n",
    "In addition, every year can be 'good' or 'bad' based on the probability value\n",
    "'goodinvest' (such as 30%). If the event is 'good' by a random draw with the\n",
    "probability 'goodinvest', i.e. if the class variable 'is_loss' is 0, then you will get\n",
    "fund gaining based on the interests rate 'gain_rate1' and 'gain_rate2' for two\n",
    "portfolios respectively, otherwise you will suffer fund loss based on the loss rate\n",
    "'loss_rate1' and 'loss_rate2' for two portfolios respectively.\n",
    "Please keep writing the Python codes to define the following class methods to\n",
    "realize the functionalities above:\n",
    "def lossprob(self): -> to determine 'is_loss' is 0 or 1 and print result\n",
    "def getyearly(self): -> to determine total fund amount at n-th years' investment\n",
    "n=1,..\n",
    "def totalfund(self): -> to report total fund after n-th years' investment, n=1,..\n",
    "Then you can try or implement the class by generating several instances (objects)\n",
    "by passing the values of class features such as ‘gain_rate1’, ‘gain_rate2’..., then do\n",
    "investment and print total return each year.\n",
    "\"\"\""
   ]
  },
  {
   "cell_type": "code",
   "execution_count": 76,
   "metadata": {},
   "outputs": [
    {
     "name": "stdout",
     "output_type": "stream",
     "text": [
      "is loss: False\n",
      "Yearly total: 0.15000000000000002\n",
      "Now total fund is 0.15000000000000002\n",
      "---------------------------------------------------\n",
      "is loss: True\n",
      "Yearly total: -0.242\n",
      "Now total fund is -0.09199999999999997\n"
     ]
    }
   ],
   "source": [
    "import random\n",
    "\n",
    "class invest():    \n",
    "    tot_return = 0.0\n",
    "\n",
    "    def __init__(self, investprop1 = 0.5, goodinvest = 0.65, seed = 7):\n",
    "        self.gain_rate1 = None\n",
    "        self.gain_rate2 = None\n",
    "        self.loss_rate1 = None\n",
    "        self.loss_rate2 = None\n",
    "        self.investprop1 = investprop1\n",
    "        self.goodinvest = goodinvest\n",
    "        self.seed = seed\n",
    "        self.is_loss = None\n",
    "        self.yearly_return = None\n",
    "         \n",
    "    def lossprob(self): \n",
    "            random.seed(self.seed)\n",
    "            r= random.random()\n",
    "            if r > self.goodinvest:  \n",
    "                self.is_loss = 1.0\n",
    "            else:    \n",
    "                self.is_loss = 0.0\n",
    "            print ('is loss: ' + str(self.is_loss == 1.0))    \n",
    "        \n",
    "    def getyearly(self): \n",
    "        gain1 = (self.gain_rate1 * (1.0 - self.is_loss))*self.investprop1 \n",
    "        loss1 = (self.loss_rate1 * self.is_loss)*self.investprop1 \n",
    "        gain2 = (self.gain_rate2 * (1.0 - self.is_loss))*(1 - self.investprop1) \n",
    "        loss2 = (self.loss_rate2 * self.is_loss)*(1 - self.investprop1) \n",
    "        self.yearly_return= gain1 + gain2 - loss1 - loss2\n",
    "        print(\"Yearly total: \" + str(self.yearly_return))\n",
    "        \n",
    "    def totalfund(self): \n",
    "        invest.tot_return += self.yearly_return\n",
    "        print(\"Now total fund is \" + str(invest.tot_return))\n",
    "\n",
    "first_year = invest(investprop1 = 0.5, goodinvest = 0.78, seed = 17)     \n",
    "first_year.gain_rate1, first_year.gain_rate2 = 0.2, 0.1\n",
    "first_year.loss_rate1, first_year.loss_rate2 = 0.32, 0.15\n",
    "first_year.lossprob()\n",
    "first_year.getyearly()\n",
    "first_year.totalfund()\n",
    "\n",
    "print ('---------------------------------------------------')\n",
    "second_year = invest(investprop1 = 0.4, goodinvest = 0.38, seed = 178)     \n",
    "second_year.gain_rate1, second_year.gain_rate2 = 0.22, 0.13\n",
    "second_year.loss_rate1, second_year.loss_rate2 = 0.35, 0.17\n",
    "second_year.lossprob()\n",
    "second_year.getyearly()\n",
    "second_year.totalfund()"
   ]
  }
 ],
 "metadata": {
  "kernelspec": {
   "display_name": "Python 3",
   "language": "python",
   "name": "python3"
  },
  "language_info": {
   "codemirror_mode": {
    "name": "ipython",
    "version": 3
   },
   "file_extension": ".py",
   "mimetype": "text/x-python",
   "name": "python",
   "nbconvert_exporter": "python",
   "pygments_lexer": "ipython3",
   "version": "3.7.1"
  }
 },
 "nbformat": 4,
 "nbformat_minor": 2
}
