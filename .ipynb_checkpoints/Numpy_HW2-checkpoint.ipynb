{
 "cells": [
  {
   "cell_type": "code",
   "execution_count": 5,
   "metadata": {},
   "outputs": [
    {
     "name": "stdout",
     "output_type": "stream",
     "text": [
      "Q1\n"
     ]
    }
   ],
   "source": [
    "'''\n",
    "\n",
    "Q1)  Please create the following NP arrays a, b c, and d;\n",
    "\n",
    "a:\n",
    "[[0 1 2 3]\n",
    " [10 11 12 13]]\n",
    "[10 11 12 13]\n",
    "\n",
    "b:\n",
    "[[1 4 6 6]\n",
    " [8 3 45 2]]\n",
    " \n",
    "c:\n",
    "[[1,4,6,6], [8,3,45,2]]\n",
    "\n",
    "\n",
    "d:\n",
    "[[1 2]\n",
    " [3 4]]\n",
    " \n",
    "\n",
    "\n",
    "'''\n",
    "\n",
    "print('Q1')\n",
    "import numpy as np"
   ]
  },
  {
   "cell_type": "code",
   "execution_count": 13,
   "metadata": {},
   "outputs": [
    {
     "data": {
      "text/plain": [
       "array([[ 0,  1,  2,  3],\n",
       "       [10, 11, 12, 13]])"
      ]
     },
     "execution_count": 13,
     "metadata": {},
     "output_type": "execute_result"
    }
   ],
   "source": [
    "a = np.array([range(4), range(10,14)])\n",
    "a"
   ]
  },
  {
   "cell_type": "code",
   "execution_count": 14,
   "metadata": {},
   "outputs": [
    {
     "data": {
      "text/plain": [
       "array([10, 11, 12, 13])"
      ]
     },
     "execution_count": 14,
     "metadata": {},
     "output_type": "execute_result"
    }
   ],
   "source": [
    "b = np.arange(10,14)\n",
    "b"
   ]
  },
  {
   "cell_type": "code",
   "execution_count": 15,
   "metadata": {},
   "outputs": [
    {
     "data": {
      "text/plain": [
       "array([[ 1,  4,  6,  6],\n",
       "       [ 8,  3, 45,  2]])"
      ]
     },
     "execution_count": 15,
     "metadata": {},
     "output_type": "execute_result"
    }
   ],
   "source": [
    "c = np.array([[1,4,6,6], [8,3,45,2]])\n",
    "c"
   ]
  },
  {
   "cell_type": "code",
   "execution_count": 16,
   "metadata": {},
   "outputs": [
    {
     "data": {
      "text/plain": [
       "array([[1, 2],\n",
       "       [3, 4]])"
      ]
     },
     "execution_count": 16,
     "metadata": {},
     "output_type": "execute_result"
    }
   ],
   "source": [
    "d= np.array([[1,2],[3,4]])\n",
    "d"
   ]
  },
  {
   "cell_type": "code",
   "execution_count": 17,
   "metadata": {},
   "outputs": [
    {
     "data": {
      "text/plain": [
       "array([[ 0,  1,  2,  3],\n",
       "       [10, 11, 12, 13],\n",
       "       [ 1,  4,  6,  6],\n",
       "       [ 8,  3, 45,  2]])"
      ]
     },
     "execution_count": 17,
     "metadata": {},
     "output_type": "execute_result"
    }
   ],
   "source": [
    "'''\n",
    "Then write Python code to print out the following results like followings:\n",
    "\n",
    "Joining arrays: a and c along axis = 0:\n",
    "\n",
    "[[0 1 2 3]\n",
    " [10 11 12 13]\n",
    " [1 4 6 6]\n",
    " [8 3 45 2]]\n",
    " \n",
    "'''\n",
    "\n",
    "np.concatenate((a,c), axis=0)"
   ]
  },
  {
   "cell_type": "code",
   "execution_count": 18,
   "metadata": {},
   "outputs": [
    {
     "data": {
      "text/plain": [
       "array([[ 0,  1,  2,  3,  1,  4,  6,  6],\n",
       "       [10, 11, 12, 13,  8,  3, 45,  2]])"
      ]
     },
     "execution_count": 18,
     "metadata": {},
     "output_type": "execute_result"
    }
   ],
   "source": [
    "'''\n",
    "Joining arrays: a and c along axis =1:\n",
    "[[0 1 2 3 1 4 6 6]\n",
    " [10 11 12 13 8 3 45 2]]\n",
    " \n",
    "'''\n",
    "np.concatenate((a,c), axis=1)"
   ]
  },
  {
   "cell_type": "code",
   "execution_count": 20,
   "metadata": {},
   "outputs": [
    {
     "data": {
      "text/plain": [
       "array([[ 0,  1,  2,  3],\n",
       "       [10, 11, 12, 13],\n",
       "       [10, 11, 12, 13],\n",
       "       [ 1,  4,  6,  6],\n",
       "       [ 8,  3, 45,  2]])"
      ]
     },
     "execution_count": 20,
     "metadata": {},
     "output_type": "execute_result"
    }
   ],
   "source": [
    "'''\n",
    "Stack arrays a, b and c along axis = 0:\n",
    "\n",
    "[[0 1 2 3]\n",
    " [10 11 12 13]\n",
    " [10 11 12 13]\n",
    " [1 4 6 6]\n",
    " [8 3 45 2]]\n",
    "\n",
    "'''\n",
    "np.vstack((a,b,c))"
   ]
  },
  {
   "cell_type": "code",
   "execution_count": 21,
   "metadata": {},
   "outputs": [
    {
     "data": {
      "text/plain": [
       "array([[ 0,  1,  2,  3,  1,  4,  6,  6,  1,  2],\n",
       "       [10, 11, 12, 13,  8,  3, 45,  2,  3,  4]])"
      ]
     },
     "execution_count": 21,
     "metadata": {},
     "output_type": "execute_result"
    }
   ],
   "source": [
    "'''\n",
    " \n",
    "Stack arrays a, c and d along axis = 1:\n",
    "\n",
    "[[ 0  1  2  3  1  4  6  6  1  2]\n",
    " [10 11 12 13 8 3 45 2 3 4]]\n",
    "'''\n",
    "\n",
    "np.hstack((a,c,d))\n"
   ]
  },
  {
   "cell_type": "code",
   "execution_count": null,
   "metadata": {},
   "outputs": [],
   "source": []
  },
  {
   "cell_type": "code",
   "execution_count": null,
   "metadata": {},
   "outputs": [],
   "source": []
  },
  {
   "cell_type": "code",
   "execution_count": 22,
   "metadata": {},
   "outputs": [
    {
     "data": {
      "text/plain": [
       "array([[ 0.,  1.,  2.,  3.,  4.,  5.,  6.,  7.],\n",
       "       [ 5.,  6.,  7.,  8.,  9., 10., 11., 12.],\n",
       "       [ 0.,  0.,  0.,  0.,  0.,  0.,  0.,  0.],\n",
       "       [ 1.,  1.,  1.,  1.,  1.,  1.,  1.,  1.]])"
      ]
     },
     "execution_count": 22,
     "metadata": {},
     "output_type": "execute_result"
    }
   ],
   "source": [
    "'''\n",
    "Q2) You have defined a NP array using the following Python code\n",
    "x = np.array ([range (8), range (5, 13), np.zeros (8), np.ones (8)])\n",
    "In this question you need to practice how to split NP arrays, here you want to generate (print) the\n",
    "following results. Please write Python codes to solve the sub-questions from [q21] to [q26].\n",
    "[q21] Print x like:\n",
    "[[0. 1. 2. 3. 4. 5. 6. 7.]\n",
    "[5. 6. 7. 8. 9. 10. 11. 12.]\n",
    "[0. 0. 0. 0. 0. 0. 0. 0.]\n",
    "[1. 1. 1. 1. 1. 1. 1. 1.]]\n",
    "'''\n",
    "x = np.array([range(8), range(5,13), np.zeros(8), np.ones(8)])\n",
    "x"
   ]
  },
  {
   "cell_type": "code",
   "execution_count": 24,
   "metadata": {},
   "outputs": [
    {
     "data": {
      "text/plain": [
       "((4, 8), array([[ 0.,  5.,  0.,  1.],\n",
       "        [ 1.,  6.,  0.,  1.],\n",
       "        [ 2.,  7.,  0.,  1.],\n",
       "        [ 3.,  8.,  0.,  1.],\n",
       "        [ 4.,  9.,  0.,  1.],\n",
       "        [ 5., 10.,  0.,  1.],\n",
       "        [ 6., 11.,  0.,  1.],\n",
       "        [ 7., 12.,  0.,  1.]]))"
      ]
     },
     "execution_count": 24,
     "metadata": {},
     "output_type": "execute_result"
    }
   ],
   "source": [
    "'''\n",
    "[q22] Just print the shape of x\n",
    "[q23] Get and print transposed x like:\n",
    "[[0. 5. 0. 1.]\n",
    "[1. 6. 0. 1.]\n",
    "[2. 7. 0. 1.]\n",
    "[3. 8. 0. 1.]\n",
    "[4. 9. 0. 1.]\n",
    "[5. 10. 0. 1.]\n",
    "[6. 11. 0. 1.]\n",
    "[7. 12. 0. 1.]]\n",
    "'''\n",
    "x.shape, x.T"
   ]
  },
  {
   "cell_type": "code",
   "execution_count": 30,
   "metadata": {},
   "outputs": [
    {
     "data": {
      "text/plain": [
       "(array([[ 0.,  1.,  2.,  3.,  4.,  5.,  6.,  7.],\n",
       "        [ 5.,  6.,  7.,  8.,  9., 10., 11., 12.]]),\n",
       " array([[0., 0., 0., 0., 0., 0., 0., 0.],\n",
       "        [1., 1., 1., 1., 1., 1., 1., 1.]]))"
      ]
     },
     "execution_count": 30,
     "metadata": {},
     "output_type": "execute_result"
    }
   ],
   "source": [
    "'''\n",
    "\n",
    "[q24] Split the array x with the equal-size in horizontal direction and print the first part of the array like\n",
    "the followings:\n",
    "The first array after equal-sized splitting x in horizontal way:\n",
    "[[0. 1. 2. 3. 4. 5. 6. 7.]\n",
    "[5. 6. 7. 8. 9. 10. 11. 12.]]\n",
    "\n",
    "[q25] Split the array x with the equal-size in horizontal direction and print the second part of the array\n",
    "like:\n",
    "The second array after equal-sized splitting x in horizontal way:\n",
    "[[0. 0. 0. 0. 0. 0. 0. 0.]\n",
    "[1. 1. 1. 1. 1. 1. 1. 1.]]\n",
    "\n",
    "\n",
    "'''\n",
    "Y = np.split(x, 2, axis=0)\n",
    "Y[0], Y[1]\n"
   ]
  },
  {
   "cell_type": "code",
   "execution_count": 31,
   "metadata": {},
   "outputs": [
    {
     "data": {
      "text/plain": [
       "(array([[0., 1., 2., 3.],\n",
       "        [5., 6., 7., 8.],\n",
       "        [0., 0., 0., 0.],\n",
       "        [1., 1., 1., 1.]]), array([[ 4.,  5.,  6.,  7.],\n",
       "        [ 9., 10., 11., 12.],\n",
       "        [ 0.,  0.,  0.,  0.],\n",
       "        [ 1.,  1.,  1.,  1.]]))"
      ]
     },
     "execution_count": 31,
     "metadata": {},
     "output_type": "execute_result"
    }
   ],
   "source": [
    "'''\n",
    "\n",
    "[q26] Split the array x with the equal-size in vertical direction and print two parts of the array like:\n",
    "The first array after equal-sized splitting x in vertical way:\n",
    "[[0. 1. 2. 3.]\n",
    "[5. 6. 7. 8.]\n",
    "[0. 0. 0. 0.]\n",
    "[1. 1. 1. 1.]]\n",
    "The second array after equal-sized splitting x in vertical way:\n",
    "[[4. 5. 6. 7.]\n",
    "[9. 10. 11. 12.]\n",
    "[0. 0. 0. 0.]\n",
    "[1. 1. 1. 1.]]\n",
    "'''\n",
    "Z = np.split(x, 2, axis=1)\n",
    "Z[0], Z[1]"
   ]
  },
  {
   "cell_type": "code",
   "execution_count": null,
   "metadata": {},
   "outputs": [],
   "source": []
  },
  {
   "cell_type": "code",
   "execution_count": null,
   "metadata": {},
   "outputs": [],
   "source": [
    "'''\n",
    "Q3) You have defined a NP array using the following Python code:\n",
    "\n",
    "                                         x = range(25)\n",
    "                                         \n",
    "In this question you need to practice how to resize NP arrays. Here you want to generate (print) the\n",
    "following results. Please write Python codes to solve the sub-questions from [q31] to [q33].\n",
    "\n",
    "[q31] Print the array x like:\n",
    "\n",
    "x is\n",
    " [[0 1 2 3 4]\n",
    " [5 6 7 8 9]\n",
    " [10 11 12 13 14]\n",
    " [15 16 17 18 19]\n",
    " [20 21 22 23 24]]\n",
    "\n",
    "'''"
   ]
  },
  {
   "cell_type": "code",
   "execution_count": null,
   "metadata": {},
   "outputs": [],
   "source": [
    "'''\n",
    "Q3) You have defined a NP array using the following Python code:\n",
    "\n",
    "                                         x = range(25)\n",
    "                                         \n",
    "In this question you need to practice how to resize NP arrays. Here you want to generate (print) the\n",
    "following results. Please write Python codes to solve the sub-questions from [q31] to [q33].\n",
    "\n",
    "[q31] Print the array x like:\n",
    "\n",
    "x is\n",
    " [[0 1 2 3 4]\n",
    " [5 6 7 8 9]\n",
    " [10 11 12 13 14]\n",
    " [15 16 17 18 19]\n",
    " [20 21 22 23 24]]\n",
    " \n",
    "\n",
    " \n",
    "[q32] Resize the array x into two dimensional NP array y with the 5*5 shape and print like:\n",
    "\n",
    "The resized array x by 5*5 is\n",
    " [[0 1 2 3 4]\n",
    " [5 6 7 8 9]\n",
    " [10 11 12 13 14]\n",
    " [15 16 17 18 19]\n",
    " [20 21 22 23 24]]\n",
    "'''"
   ]
  },
  {
   "cell_type": "code",
   "execution_count": 34,
   "metadata": {},
   "outputs": [
    {
     "data": {
      "text/plain": [
       "array([[ 0,  1,  2,  3,  4],\n",
       "       [ 5,  6,  7,  8,  9],\n",
       "       [10, 11, 12, 13, 14],\n",
       "       [15, 16, 17, 18, 19],\n",
       "       [20, 21, 22, 23, 24]])"
      ]
     },
     "execution_count": 34,
     "metadata": {},
     "output_type": "execute_result"
    }
   ],
   "source": [
    "X = np.array([range(25)])\n",
    "X = np.resize(X, (5,5))\n",
    "X"
   ]
  },
  {
   "cell_type": "code",
   "execution_count": 35,
   "metadata": {},
   "outputs": [
    {
     "data": {
      "text/plain": [
       "2"
      ]
     },
     "execution_count": 35,
     "metadata": {},
     "output_type": "execute_result"
    }
   ],
   "source": [
    "X.ndim"
   ]
  },
  {
   "cell_type": "code",
   "execution_count": null,
   "metadata": {},
   "outputs": [],
   "source": [
    "'''\n",
    "[q33] Calculate the sum of the array y based on 1) column-wise 2) row-wise 3) total and print like:\n",
    "\n",
    "Total column-wise sum of array is\n",
    " [10 35 60 85 110]\n",
    "Total row-wise sum of array is\n",
    " [50 55 60 65 70]\n",
    "Total sum \n",
    " 300\n",
    " \n",
    "'''"
   ]
  },
  {
   "cell_type": "code",
   "execution_count": 38,
   "metadata": {},
   "outputs": [
    {
     "name": "stdout",
     "output_type": "stream",
     "text": [
      "Total column-wise sum of array is  [ 10  35  60  85 110]\n"
     ]
    }
   ],
   "source": [
    "column_sum = np.sum(X, axis=1)\n",
    "print(\"Total column-wise sum of array is \", column_sum)\n"
   ]
  },
  {
   "cell_type": "code",
   "execution_count": 39,
   "metadata": {},
   "outputs": [
    {
     "name": "stdout",
     "output_type": "stream",
     "text": [
      "Total row-wise sum of array is  [ 10  35  60  85 110]\n"
     ]
    }
   ],
   "source": [
    "row_sum = np.sum(X, axis=1)\n",
    "print(\"Total row-wise sum of array is \", row_sum)\n"
   ]
  },
  {
   "cell_type": "code",
   "execution_count": 40,
   "metadata": {},
   "outputs": [
    {
     "name": "stdout",
     "output_type": "stream",
     "text": [
      "Total sum  300\n"
     ]
    }
   ],
   "source": [
    "print(\"Total sum \", np.sum(X))"
   ]
  },
  {
   "cell_type": "code",
   "execution_count": null,
   "metadata": {},
   "outputs": [],
   "source": []
  },
  {
   "cell_type": "code",
   "execution_count": 42,
   "metadata": {},
   "outputs": [
    {
     "name": "stdout",
     "output_type": "stream",
     "text": [
      "x is \n",
      " [ 0  1  2  3  4  5  6  7  8  9 10 11 12 13 14 15 16 17 18 19 20 21 22 23\n",
      " 24]\n",
      "y is \n",
      " [[ 2. 34.  6.  7.]\n",
      " [ 1.  1.  1.  1.]]\n"
     ]
    }
   ],
   "source": [
    "'''\n",
    "Q4) You have defined a NP arrays x and y using the following Python code:\n",
    "\n",
    "                                         x = np.arange(25)\n",
    "                                         y = np.array ([[2, 34, 6, 7], np.ones (4)])\n",
    "                                         \n",
    "In this question you need to practice how to resize and delete NP arrays. Here you want to generate (print) \n",
    "the following results. Please write Python codes to solve questions from [q41] to [q44].\n",
    "\n",
    "\n",
    "\n",
    "[q41] Print the arrays x and y:\n",
    "\n",
    "x is \n",
    " [ 0  1  2  3  4  5  6  7  8  9 10 11 12 13 14 15 16 17 18 19 20 21 22 23  24]\n",
    "y is \n",
    " [[2. 34. 6. 7.]\n",
    " [1. 1. 1. 1.]]\n",
    " \n",
    " '''\n",
    "x = np.arange(25)\n",
    "y = np.array ([[2, 34, 6, 7], np.ones (4)])\n",
    "print(\"x is \\n\", x)\n",
    "print(\"y is \\n\", y)"
   ]
  },
  {
   "cell_type": "code",
   "execution_count": 50,
   "metadata": {},
   "outputs": [],
   "source": [
    "x = np.arange(25)"
   ]
  },
  {
   "cell_type": "code",
   "execution_count": 51,
   "metadata": {},
   "outputs": [
    {
     "data": {
      "text/plain": [
       "array([ 0,  1,  2,  3,  4,  6,  7,  8,  9, 10, 11, 12, 13, 14, 15, 16, 17,\n",
       "       18, 19, 20, 21, 22, 23, 24])"
      ]
     },
     "execution_count": 51,
     "metadata": {},
     "output_type": "execute_result"
    }
   ],
   "source": [
    "''' \n",
    "[q42] Apply the method delete() on x at index = 5 without specifying axis option and print the result like:\n",
    "\n",
    "The outcome after flattening (delete without specifying axis option): \n",
    "\n",
    " [0 1 2 3 4 6 7 8 9 10 11 12 13 14 15 16 17 18 19 20 21 22 23 24]\n",
    "\n",
    "'''\n",
    "result = np.delete(x,5)\n",
    "result"
   ]
  },
  {
   "cell_type": "code",
   "execution_count": 56,
   "metadata": {},
   "outputs": [
    {
     "name": "stdout",
     "output_type": "stream",
     "text": [
      "[[ 0  1  2  3  4]\n",
      " [ 5  6  7  8  9]\n",
      " [10 11 12 13 14]\n",
      " [15 16 17 18 19]\n",
      " [20 21 22 23 24]]\n"
     ]
    },
    {
     "data": {
      "text/plain": [
       "array([[ 0,  1,  3,  4],\n",
       "       [ 5,  6,  8,  9],\n",
       "       [10, 11, 13, 14],\n",
       "       [15, 16, 18, 19],\n",
       "       [20, 21, 23, 24]])"
      ]
     },
     "execution_count": 56,
     "metadata": {},
     "output_type": "execute_result"
    }
   ],
   "source": [
    "'''\n",
    "\n",
    " \n",
    "[q42] Apply the method delete() on x at index = 5 without specifying axis option and print the result like:\n",
    "\n",
    "The outcome after flattening (delete without specifying axis option): \n",
    "\n",
    " [0 1 2 3 4 6 7 8 9 10 11 12 13 14 15 16 17 18 19 20 21 22 23 24]\n",
    " \n",
    "[q43] Apply the method np.resize() on x with the 5*5 outcome shape, and delete at column \n",
    "index = 5 (by specifying axis option) and print the result like:\n",
    "\n",
    "The resized array x is: \n",
    " [[0 1 2 3 4]\n",
    " [5 6 7 8 9]\n",
    " [10 11 12 13 14]\n",
    " [15 16 17 18 19]\n",
    " [20 21 22 23 24]]\n",
    "The outcome after the deletion of the third column is: \n",
    " [[0 1 3 4]\n",
    " [5 6 8 9]\n",
    " [10 11 13 14]\n",
    " [15 16 18 19]\n",
    " [20 21 23 24]]\n",
    " \n",
    "'''\n",
    "\n",
    "x = np.resize(x, (5,5))\n",
    "print(x)\n",
    "new = np.delete(x,2,axis=1)\n",
    "new"
   ]
  },
  {
   "cell_type": "code",
   "execution_count": null,
   "metadata": {},
   "outputs": [],
   "source": [
    "'''\n",
    "[q44] Apply the method np.resize() on x with the 5*5 outcome shape, and delete at row \n",
    "index = 3 (by specifying axis option) and print the result like:\n",
    "\n",
    "The outcome after the deletion of the third row is: \n",
    " [[0 1 2 3 4]\n",
    " [5 6 7 8 9]\n",
    " [15 16 17 18 19]\n",
    " [20 21 22 23 24]]\n",
    " '''"
   ]
  },
  {
   "cell_type": "code",
   "execution_count": 58,
   "metadata": {},
   "outputs": [
    {
     "data": {
      "text/plain": [
       "array([[ 0,  1,  2,  3,  4],\n",
       "       [ 5,  6,  7,  8,  9],\n",
       "       [15, 16, 17, 18, 19],\n",
       "       [20, 21, 22, 23, 24]])"
      ]
     },
     "execution_count": 58,
     "metadata": {},
     "output_type": "execute_result"
    }
   ],
   "source": [
    "new = np.delete(x,2, axis=0)\n",
    "new"
   ]
  },
  {
   "cell_type": "code",
   "execution_count": null,
   "metadata": {},
   "outputs": [],
   "source": []
  },
  {
   "cell_type": "code",
   "execution_count": 68,
   "metadata": {},
   "outputs": [
    {
     "data": {
      "text/plain": [
       "array([[ 0,  1,  2,  3,  4,  5,  6,  7,  8,  9, 10, 11],\n",
       "       [12, 13, 14, 15, 16, 17, 18, 19, 20, 21, 22, 23]])"
      ]
     },
     "execution_count": 68,
     "metadata": {},
     "output_type": "execute_result"
    }
   ],
   "source": [
    "'''\n",
    "Q5) You have defined a NP arrays x and y using the following Python code:\n",
    "\n",
    "                                         import numpy as np \n",
    "                                         x= np.arange(24)                         \n",
    "                                         \n",
    "In this question you first resize the array x into a two dimensional array as below:\n",
    "\n",
    "                                      [[ 0  1  2  3  4  5  6  7  8  9 10 11]\n",
    "                                      [12 13 14 15 16 17 18 19 20 21 22 23]]\n",
    "                                      \n",
    "Then you generate (print) the following results. Please write Python codes to solve the questions [q51] to [q53]\n",
    "[q51] Use resize method to transpose x into 2*12 shape (inplace operation) and print:\n",
    "\n",
    "The resized array x is \n",
    "[[ 0  1  2  3  4  5  6  7  8  9 10 11]\n",
    "[12 13 14 15 16 17 18 19 20 21 22 23]]\n",
    "\n",
    "'''\n",
    "x = np.arange(24)\n",
    "x.resize(2,12)\n",
    "x\n",
    "#y = np.resize(x,(2,12))\n",
    "#y\n"
   ]
  },
  {
   "cell_type": "code",
   "execution_count": null,
   "metadata": {},
   "outputs": [],
   "source": [
    "'''\n",
    "\n",
    "[q52] Use reshape method to transpose x into 3*8 new array y and print y (non-inplace operation) and print like:\n",
    "\n",
    "The reshaped array y is \n",
    " [[0 1 2 3 4 5 6 7]\n",
    " [8 9 10 11 12 13 14 15]\n",
    " [16 17 18 19 20 21 22 23]]\n",
    "The array x is \n",
    " [[ 0  1  2  3  4  5  6  7  8  9 10 11]\n",
    " [12 13 14 15 16 17 18 19 20 21 22 23]]\n",
    " \n",
    "[q53] Print the number of dimensions of y using ‘ndim’ property like:\n",
    "\n",
    "The number of dimensions in y is \n",
    " 2\n",
    "\n",
    "\n",
    "'''"
   ]
  },
  {
   "cell_type": "code",
   "execution_count": 67,
   "metadata": {},
   "outputs": [
    {
     "data": {
      "text/plain": [
       "array([[ 0,  1,  2,  3,  4,  5,  6,  7],\n",
       "       [ 8,  9, 10, 11, 12, 13, 14, 15],\n",
       "       [16, 17, 18, 19, 20, 21, 22, 23]])"
      ]
     },
     "execution_count": 67,
     "metadata": {},
     "output_type": "execute_result"
    }
   ],
   "source": [
    "y = np.reshape(x, (3,8))\n",
    "y"
   ]
  },
  {
   "cell_type": "code",
   "execution_count": 66,
   "metadata": {},
   "outputs": [
    {
     "data": {
      "text/plain": [
       "2"
      ]
     },
     "execution_count": 66,
     "metadata": {},
     "output_type": "execute_result"
    }
   ],
   "source": [
    "y.ndim"
   ]
  },
  {
   "cell_type": "code",
   "execution_count": null,
   "metadata": {},
   "outputs": [],
   "source": []
  },
  {
   "cell_type": "code",
   "execution_count": 70,
   "metadata": {},
   "outputs": [
    {
     "data": {
      "text/plain": [
       "'/Users/sadichha/UdacityClasses/UdemyClass/CompletePythonForDataScienceAndCloud/myRepo/PythonForDataScienceAndCloudComputing'"
      ]
     },
     "execution_count": 70,
     "metadata": {},
     "output_type": "execute_result"
    }
   ],
   "source": [
    "'''\n",
    "Q6) Write Python codes to solve the following questions:\n",
    "\n",
    "  [q61] Return and print the default OS directory\n",
    "  [q62] Change (reset) the default OS directory to your own folder (choose your preferred directory)\n",
    "  [q63] Create and print the following NP array ‘x’ using Python codes:\n",
    "  \n",
    "[[5. 2. 7. 4.]\n",
    "[3. 4. 5. 6.]\n",
    "[1. 1. 1. 1.]\n",
    "[0. 0. 0. 0.]]\n",
    "\n",
    "   [q64] Use the indexing method (fancy indexing) to extract diagonal elements from the NP \n",
    "         array ‘x’ and store the results into a new array ‘y’  \n",
    "   [q65] Save the array ‘y’ into an external file under the default OS directory\n",
    "   [q66] Load the external file into a NP array ‘z’ and print ‘z‘\n",
    "\n",
    "'''\n",
    "import os\n",
    "os.getcwd()"
   ]
  },
  {
   "cell_type": "code",
   "execution_count": 71,
   "metadata": {},
   "outputs": [
    {
     "data": {
      "text/plain": [
       "'/Users/sadichha/UdacityClasses/UdemyClass/CompletePythonForDataScienceAndCloud/myRepo'"
      ]
     },
     "execution_count": 71,
     "metadata": {},
     "output_type": "execute_result"
    }
   ],
   "source": [
    "os.chdir(r'/Users/sadichha/UdacityClasses/UdemyClass/CompletePythonForDataScienceAndCloud/myRepo/')\n",
    "os.getcwd()"
   ]
  },
  {
   "cell_type": "code",
   "execution_count": 72,
   "metadata": {},
   "outputs": [
    {
     "data": {
      "text/plain": [
       "'/Users/sadichha/UdacityClasses/UdemyClass/CompletePythonForDataScienceAndCloud/myRepo/PythonForDataScienceAndCloudComputing'"
      ]
     },
     "execution_count": 72,
     "metadata": {},
     "output_type": "execute_result"
    }
   ],
   "source": [
    "os.chdir(r'/Users/sadichha/UdacityClasses/UdemyClass/CompletePythonForDataScienceAndCloud/myRepo/PythonForDataScienceAndCloudComputing')\n",
    "os.getcwd()"
   ]
  },
  {
   "cell_type": "code",
   "execution_count": 74,
   "metadata": {},
   "outputs": [
    {
     "data": {
      "text/plain": [
       "array([[5., 2., 7., 4.],\n",
       "       [3., 4., 5., 6.],\n",
       "       [1., 1., 1., 1.],\n",
       "       [0., 0., 0., 0.]])"
      ]
     },
     "execution_count": 74,
     "metadata": {},
     "output_type": "execute_result"
    }
   ],
   "source": [
    "x = np.array([[5,2,7,4], range(3,7), np.ones(4), np.zeros(4)])\n",
    "x"
   ]
  },
  {
   "cell_type": "code",
   "execution_count": 76,
   "metadata": {},
   "outputs": [
    {
     "data": {
      "text/plain": [
       "array([[0, 1, 2, 3],\n",
       "       [0, 1, 2, 3]])"
      ]
     },
     "execution_count": 76,
     "metadata": {},
     "output_type": "execute_result"
    }
   ],
   "source": [
    "np.array([range(4), range(4)])"
   ]
  },
  {
   "cell_type": "code",
   "execution_count": 75,
   "metadata": {},
   "outputs": [
    {
     "data": {
      "text/plain": [
       "array([5., 4., 1., 0.])"
      ]
     },
     "execution_count": 75,
     "metadata": {},
     "output_type": "execute_result"
    }
   ],
   "source": [
    "y = x[range(4), range(4)]\n",
    "y"
   ]
  },
  {
   "cell_type": "code",
   "execution_count": 77,
   "metadata": {},
   "outputs": [],
   "source": [
    "np.save('savearray',y)"
   ]
  },
  {
   "cell_type": "code",
   "execution_count": 78,
   "metadata": {},
   "outputs": [
    {
     "data": {
      "text/plain": [
       "numpy.ndarray"
      ]
     },
     "execution_count": 78,
     "metadata": {},
     "output_type": "execute_result"
    }
   ],
   "source": [
    "type(y)"
   ]
  },
  {
   "cell_type": "code",
   "execution_count": 79,
   "metadata": {},
   "outputs": [
    {
     "data": {
      "text/plain": [
       "array([5., 4., 1., 0.])"
      ]
     },
     "execution_count": 79,
     "metadata": {},
     "output_type": "execute_result"
    }
   ],
   "source": [
    "z = np.load('savearray.npy')\n",
    "z"
   ]
  },
  {
   "cell_type": "code",
   "execution_count": null,
   "metadata": {},
   "outputs": [],
   "source": []
  },
  {
   "cell_type": "code",
   "execution_count": 81,
   "metadata": {},
   "outputs": [
    {
     "name": "stdout",
     "output_type": "stream",
     "text": [
      "The ranking order of draw is  [16 10  3  7 14 12  5  1  9 18 13  2 17  4  0 15  8  6 19 11]\n",
      "the ranking order for 0.38 in draw is  11\n",
      "[   0   10   20  -50   40   50   60   70   80   90 -120  110  120  130\n",
      "  140  150 -180  170  180  190]\n",
      "63.0\n"
     ]
    }
   ],
   "source": [
    "'''\n",
    "Q7)\n",
    "\n",
    "Q71) Print the ranking order of the items in the array ‘draw’.\n",
    "\n",
    "Q72) Print the ranking order of the constant ‘cut’ in the array ‘draw’ if you place it in this array.\n",
    "\n",
    "Q73) Assuming the array ‘draw’ contains the results for each ‘drawn value’ after you have done\n",
    "20 times drawing experiment. If the ‘drawn value‘ is greater than the value of ‘cut’, then the reward\n",
    "is obtained from the array ‘reward’ at the corresponding time experiment (i.e. based on the same index\n",
    "of the array ‘reward’ as that of ‘draw’), otherwise the penalty is received from the array \n",
    "‘penalty’ at the corresponding experiment (i.e. based on the same index of the array ‘penalty’ as \n",
    "that of ‘draw’). Please calculate the mean value of return after these 20 drawing experiments.\n",
    "'''\n",
    "import numpy as np\n",
    "draw = np.random.ranf(size=20)\n",
    "reward = np.arange(20)*10\n",
    "penalty = -1*np.arange(2, 22)*10\n",
    "cut = 0.38\n",
    "\n",
    "print ('The ranking order of draw is ', np.argsort(draw))\n",
    "print ('the ranking order for ' +str(cut) +\" in draw is \", np.searchsorted(draw, cut))\n",
    "amount = np.where(draw > cut, reward, penalty)\n",
    "print (amount)\n",
    "print (amount.mean())"
   ]
  },
  {
   "cell_type": "code",
   "execution_count": null,
   "metadata": {},
   "outputs": [],
   "source": []
  },
  {
   "cell_type": "code",
   "execution_count": 83,
   "metadata": {},
   "outputs": [
    {
     "data": {
      "text/plain": [
       "array([[ 75., 117.,   0.],\n",
       "       [ 92., 113.,   0.],\n",
       "       [ 94.,  77.,   1.],\n",
       "       ...,\n",
       "       [ 77., 122.,   0.],\n",
       "       [ 78.,  51.,   1.],\n",
       "       [ 79.,  93.,   1.]])"
      ]
     },
     "execution_count": 83,
     "metadata": {},
     "output_type": "execute_result"
    }
   ],
   "source": [
    "'''\n",
    "Q8)\n",
    "\n",
    "Q81) Read the data from the file classification.csv into a Numpy array ‘csvdata’\n",
    "\n",
    "Q82) Create x = np.array ([[90, 96], [70, 130], [130, 80], [103, 73], [82, 135], [100, 100]]), check the shape\n",
    "\n",
    "Q83) Find the mean of the np array ‘csvdata’ \n",
    "\n",
    "Q84) Separate the np array ‘csvdata’ into two np arrays (corresponding to two classes or\n",
    "groups data), one (array calss1) is for the last item in each record being 0 and other (array calss2)\n",
    "is for  the last item in each record being 1. Then calculate the mean for each split array to generate\n",
    "two centers (np array).\n",
    "\n",
    "Q85) Classify the items in the array x into two classes based on its weighted distance to two centers.\n",
    "Note, the weight here is the inversed number of observations in each class (corresponding to the arrays class1 and class2)\n",
    "\n",
    "\n",
    "'''\n",
    "import numpy as np\n",
    "csvdata = np.loadtxt('classification.csv', delimiter=',')\n",
    "csvdata"
   ]
  },
  {
   "cell_type": "code",
   "execution_count": 136,
   "metadata": {},
   "outputs": [
    {
     "data": {
      "text/plain": [
       "(array([[ 90,  96],\n",
       "        [ 70, 130],\n",
       "        [130,  80],\n",
       "        [103,  73],\n",
       "        [ 82, 135],\n",
       "        [100, 100]]), (6, 2))"
      ]
     },
     "execution_count": 136,
     "metadata": {},
     "output_type": "execute_result"
    }
   ],
   "source": [
    "x = np.array([[90, 96], [70, 130], [130, 80], [103, 73], [82, 135], [100, 100]])\n",
    "x, x.shape"
   ]
  },
  {
   "cell_type": "code",
   "execution_count": 137,
   "metadata": {},
   "outputs": [
    {
     "data": {
      "text/plain": [
       "array([ 87.47769231, 100.58769231,   0.38461538])"
      ]
     },
     "execution_count": 137,
     "metadata": {},
     "output_type": "execute_result"
    }
   ],
   "source": [
    "np.mean(csvdata, axis=0)"
   ]
  },
  {
   "cell_type": "code",
   "execution_count": 138,
   "metadata": {},
   "outputs": [
    {
     "data": {
      "text/plain": [
       "array([0., 0., 1., ..., 0., 1., 1.])"
      ]
     },
     "execution_count": 138,
     "metadata": {},
     "output_type": "execute_result"
    }
   ],
   "source": [
    "csvdata[:,-1]"
   ]
  },
  {
   "cell_type": "code",
   "execution_count": 139,
   "metadata": {},
   "outputs": [
    {
     "data": {
      "text/plain": [
       "array([[ 94.,  77.,   1.],\n",
       "       [116.,  40.,   1.],\n",
       "       [106.,  60.,   1.],\n",
       "       ...,\n",
       "       [113.,  74.,   1.],\n",
       "       [ 78.,  51.,   1.],\n",
       "       [ 79.,  93.,   1.]])"
      ]
     },
     "execution_count": 139,
     "metadata": {},
     "output_type": "execute_result"
    }
   ],
   "source": [
    "class1= csvdata[np.where(1 == csvdata[:,-1])]\n",
    "class1"
   ]
  },
  {
   "cell_type": "code",
   "execution_count": 140,
   "metadata": {},
   "outputs": [
    {
     "data": {
      "text/plain": [
       "array([[ 75., 117.,   0.],\n",
       "       [ 92., 113.,   0.],\n",
       "       [ 91., 118.,   0.],\n",
       "       ...,\n",
       "       [ 82., 116.,   0.],\n",
       "       [ 96., 106.,   0.],\n",
       "       [ 77., 122.,   0.]])"
      ]
     },
     "execution_count": 140,
     "metadata": {},
     "output_type": "execute_result"
    }
   ],
   "source": [
    "class2= csvdata[np.where(0 == csvdata[:,-1])]\n",
    "class2"
   ]
  },
  {
   "cell_type": "code",
   "execution_count": 141,
   "metadata": {},
   "outputs": [
    {
     "data": {
      "text/plain": [
       "array([100.286,  69.146,   1.   ])"
      ]
     },
     "execution_count": 141,
     "metadata": {},
     "output_type": "execute_result"
    }
   ],
   "source": [
    "np.mean(class1, axis=0)"
   ]
  },
  {
   "cell_type": "code",
   "execution_count": 142,
   "metadata": {},
   "outputs": [
    {
     "data": {
      "text/plain": [
       "array([ 79.4725 , 120.23875,   0.     ])"
      ]
     },
     "execution_count": 142,
     "metadata": {},
     "output_type": "execute_result"
    }
   ],
   "source": [
    "np.mean(class2, axis=0)"
   ]
  },
  {
   "cell_type": "code",
   "execution_count": 143,
   "metadata": {},
   "outputs": [
    {
     "name": "stdout",
     "output_type": "stream",
     "text": [
      "[90 96] is the class of  class2\n",
      "[ 70 130] is the class of  class2\n",
      "[130  80] is the class of  class1\n",
      "[103  73] is the class of  class1\n",
      "[ 82 135] is the class of  class2\n",
      "[100 100] is the class of  class2\n"
     ]
    }
   ],
   "source": [
    "\n",
    "center1 = class1.mean(axis=0)[0:2]\n",
    "center2 = class2.mean(axis=0)[0:2]\n",
    "num1 = len(class1)\n",
    "num2 = len(class2)\n",
    "\n",
    "def distance(p1, p2):\n",
    "    return (np.sqrt(sum((p1-p2)**2)))\n",
    "\n",
    "def classify(p, center1, center2):\n",
    "    dis1 = distance(p, center1)\n",
    "    dis2 = distance(p, center2)\n",
    "    if dis1 * (1/num1) <= dis2*(1/num2):\n",
    "        return 'class1'\n",
    "    else:\n",
    "        return 'class2'\n",
    "    \n",
    "for j in range(x.shape[0]):\n",
    "    class_type = classify(x[j], center1, center2)\n",
    "    print(x[j], 'is the class of ', class_type)"
   ]
  },
  {
   "cell_type": "code",
   "execution_count": null,
   "metadata": {},
   "outputs": [],
   "source": []
  },
  {
   "cell_type": "code",
   "execution_count": null,
   "metadata": {},
   "outputs": [],
   "source": []
  },
  {
   "cell_type": "code",
   "execution_count": 124,
   "metadata": {},
   "outputs": [
    {
     "name": "stdout",
     "output_type": "stream",
     "text": [
      "[[ 94.  77.   1.]\n",
      " [116.  40.   1.]\n",
      " [106.  60.   1.]\n",
      " ...\n",
      " [113.  74.   1.]\n",
      " [ 78.  51.   1.]\n",
      " [ 79.  93.   1.]]\n",
      "[[ 75. 117.   0.]\n",
      " [ 92. 113.   0.]\n",
      " [ 91. 118.   0.]\n",
      " ...\n",
      " [ 82. 116.   0.]\n",
      " [ 96. 106.   0.]\n",
      " [ 77. 122.   0.]]\n",
      "[100.286  69.146   1.   ]\n",
      "[ 79.4725  120.23875   0.     ]\n"
     ]
    }
   ],
   "source": [
    "calss1 = csvdata[np.where((1 == csvdata[:][:,2]))]\n",
    "calss2 = csvdata[np.where((0 == csvdata[:][:,2]))]\n",
    "print(calss1)\n",
    "print(calss2)\n",
    "print (calss1.mean(axis=0))\n",
    "print (calss2.mean(axis=0))"
   ]
  },
  {
   "cell_type": "code",
   "execution_count": null,
   "metadata": {},
   "outputs": [],
   "source": []
  },
  {
   "cell_type": "code",
   "execution_count": null,
   "metadata": {},
   "outputs": [],
   "source": []
  },
  {
   "cell_type": "code",
   "execution_count": null,
   "metadata": {},
   "outputs": [],
   "source": []
  },
  {
   "cell_type": "code",
   "execution_count": null,
   "metadata": {},
   "outputs": [],
   "source": []
  },
  {
   "cell_type": "code",
   "execution_count": null,
   "metadata": {},
   "outputs": [],
   "source": []
  },
  {
   "cell_type": "code",
   "execution_count": null,
   "metadata": {},
   "outputs": [],
   "source": []
  },
  {
   "cell_type": "code",
   "execution_count": null,
   "metadata": {},
   "outputs": [],
   "source": []
  },
  {
   "cell_type": "code",
   "execution_count": null,
   "metadata": {},
   "outputs": [],
   "source": []
  },
  {
   "cell_type": "code",
   "execution_count": 115,
   "metadata": {},
   "outputs": [
    {
     "name": "stdout",
     "output_type": "stream",
     "text": [
      "[[5. 2. 7. 4.]\n",
      " [3. 4. 5. 6.]\n",
      " [1. 1. 1. 1.]\n",
      " [0. 0. 0. 0.]]\n"
     ]
    },
    {
     "data": {
      "text/plain": [
       "array([[5., 6.],\n",
       "       [1., 1.]])"
      ]
     },
     "execution_count": 115,
     "metadata": {},
     "output_type": "execute_result"
    }
   ],
   "source": [
    "x = np.array([[5,2,7,4], range(3,7), np.ones(4), np.zeros(4)])\n",
    "print(x)\n",
    "x[1:3][:,2:]\n"
   ]
  },
  {
   "cell_type": "code",
   "execution_count": 126,
   "metadata": {},
   "outputs": [
    {
     "data": {
      "text/plain": [
       "array([2.25, 1.75, 3.25, 2.75])"
      ]
     },
     "execution_count": 126,
     "metadata": {},
     "output_type": "execute_result"
    }
   ],
   "source": [
    "np.mean(x, axis=0)"
   ]
  },
  {
   "cell_type": "code",
   "execution_count": 116,
   "metadata": {},
   "outputs": [
    {
     "data": {
      "text/plain": [
       "array([[5., 2., 7.],\n",
       "       [3., 4., 5.],\n",
       "       [1., 1., 1.],\n",
       "       [0., 0., 0.]])"
      ]
     },
     "execution_count": 116,
     "metadata": {},
     "output_type": "execute_result"
    }
   ],
   "source": [
    "x[:,:3]"
   ]
  },
  {
   "cell_type": "code",
   "execution_count": 117,
   "metadata": {},
   "outputs": [
    {
     "data": {
      "text/plain": [
       "array([[2., 7., 4.],\n",
       "       [4., 5., 6.],\n",
       "       [1., 1., 1.],\n",
       "       [0., 0., 0.]])"
      ]
     },
     "execution_count": 117,
     "metadata": {},
     "output_type": "execute_result"
    }
   ],
   "source": [
    "x[:,1:]"
   ]
  },
  {
   "cell_type": "code",
   "execution_count": 118,
   "metadata": {},
   "outputs": [
    {
     "data": {
      "text/plain": [
       "array([5., 3., 1., 0.])"
      ]
     },
     "execution_count": 118,
     "metadata": {},
     "output_type": "execute_result"
    }
   ],
   "source": [
    "x[:,0]"
   ]
  },
  {
   "cell_type": "code",
   "execution_count": 119,
   "metadata": {},
   "outputs": [
    {
     "data": {
      "text/plain": [
       "array([4., 6., 1., 0.])"
      ]
     },
     "execution_count": 119,
     "metadata": {},
     "output_type": "execute_result"
    }
   ],
   "source": [
    "x[:,-1]"
   ]
  },
  {
   "cell_type": "code",
   "execution_count": 120,
   "metadata": {},
   "outputs": [
    {
     "data": {
      "text/plain": [
       "array([[4., 5.],\n",
       "       [1., 1.]])"
      ]
     },
     "execution_count": 120,
     "metadata": {},
     "output_type": "execute_result"
    }
   ],
   "source": [
    "x[1:3,1:3]"
   ]
  },
  {
   "cell_type": "code",
   "execution_count": null,
   "metadata": {},
   "outputs": [],
   "source": []
  }
 ],
 "metadata": {
  "kernelspec": {
   "display_name": "Python 3",
   "language": "python",
   "name": "python3"
  },
  "language_info": {
   "codemirror_mode": {
    "name": "ipython",
    "version": 3
   },
   "file_extension": ".py",
   "mimetype": "text/x-python",
   "name": "python",
   "nbconvert_exporter": "python",
   "pygments_lexer": "ipython3",
   "version": "3.7.1"
  }
 },
 "nbformat": 4,
 "nbformat_minor": 2
}
