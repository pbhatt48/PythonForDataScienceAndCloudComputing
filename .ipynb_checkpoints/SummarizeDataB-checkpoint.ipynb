{
 "cells": [
  {
   "cell_type": "code",
   "execution_count": 1,
   "metadata": {},
   "outputs": [],
   "source": [
    "import pandas as pd\n",
    "import numpy as np"
   ]
  },
  {
   "cell_type": "code",
   "execution_count": 2,
   "metadata": {},
   "outputs": [
    {
     "data": {
      "text/plain": [
       "(20020, 19)"
      ]
     },
     "execution_count": 2,
     "metadata": {},
     "output_type": "execute_result"
    }
   ],
   "source": [
    "df = pd.read_csv('demograhics.csv',  encoding = 'latin1', na_values='NA')\n",
    "df.shape"
   ]
  },
  {
   "cell_type": "code",
   "execution_count": 6,
   "metadata": {},
   "outputs": [
    {
     "data": {
      "text/html": [
       "<div>\n",
       "<style scoped>\n",
       "    .dataframe tbody tr th:only-of-type {\n",
       "        vertical-align: middle;\n",
       "    }\n",
       "\n",
       "    .dataframe tbody tr th {\n",
       "        vertical-align: top;\n",
       "    }\n",
       "\n",
       "    .dataframe thead th {\n",
       "        text-align: right;\n",
       "    }\n",
       "</style>\n",
       "<table border=\"1\" class=\"dataframe\">\n",
       "  <thead>\n",
       "    <tr style=\"text-align: right;\">\n",
       "      <th></th>\n",
       "      <th>Unnamed: 0</th>\n",
       "      <th>Unnamed: 0.1</th>\n",
       "      <th>COUNTYID</th>\n",
       "      <th>state</th>\n",
       "      <th>city</th>\n",
       "      <th>UID</th>\n",
       "      <th>longitude</th>\n",
       "      <th>lng</th>\n",
       "      <th>num_population</th>\n",
       "      <th>male_num</th>\n",
       "      <th>female_num</th>\n",
       "      <th>rent_median</th>\n",
       "      <th>mortgage</th>\n",
       "      <th>debt</th>\n",
       "      <th>married</th>\n",
       "      <th>separated</th>\n",
       "      <th>divorced</th>\n",
       "      <th>age</th>\n",
       "      <th>edu_degree</th>\n",
       "    </tr>\n",
       "  </thead>\n",
       "  <tbody>\n",
       "    <tr>\n",
       "      <th>0</th>\n",
       "      <td>0</td>\n",
       "      <td>25827</td>\n",
       "      <td>81</td>\n",
       "      <td>New York</td>\n",
       "      <td>Elmhurst</td>\n",
       "      <td>269390</td>\n",
       "      <td>40.731128</td>\n",
       "      <td>-73.883353</td>\n",
       "      <td>4980</td>\n",
       "      <td>2575</td>\n",
       "      <td>2405</td>\n",
       "      <td>1498.0</td>\n",
       "      <td>2446.0</td>\n",
       "      <td>0.48038</td>\n",
       "      <td>0.56122</td>\n",
       "      <td>0.01020</td>\n",
       "      <td>0.06173</td>\n",
       "      <td>37.47423</td>\n",
       "      <td>0.74821</td>\n",
       "    </tr>\n",
       "    <tr>\n",
       "      <th>1</th>\n",
       "      <td>1</td>\n",
       "      <td>7304</td>\n",
       "      <td>3</td>\n",
       "      <td>Delaware</td>\n",
       "      <td>Wilmington</td>\n",
       "      <td>234249</td>\n",
       "      <td>39.752706</td>\n",
       "      <td>-75.529007</td>\n",
       "      <td>3076</td>\n",
       "      <td>1494</td>\n",
       "      <td>1582</td>\n",
       "      <td>1076.0</td>\n",
       "      <td>1131.0</td>\n",
       "      <td>0.82879</td>\n",
       "      <td>0.27226</td>\n",
       "      <td>0.01642</td>\n",
       "      <td>0.09594</td>\n",
       "      <td>33.74497</td>\n",
       "      <td>0.83474</td>\n",
       "    </tr>\n",
       "    <tr>\n",
       "      <th>2</th>\n",
       "      <td>2</td>\n",
       "      <td>15008</td>\n",
       "      <td>29</td>\n",
       "      <td>Louisiana</td>\n",
       "      <td>Vidalia</td>\n",
       "      <td>248842</td>\n",
       "      <td>31.572841</td>\n",
       "      <td>-91.435492</td>\n",
       "      <td>4474</td>\n",
       "      <td>2040</td>\n",
       "      <td>2434</td>\n",
       "      <td>543.0</td>\n",
       "      <td>925.0</td>\n",
       "      <td>0.37132</td>\n",
       "      <td>0.57276</td>\n",
       "      <td>0.03358</td>\n",
       "      <td>0.04851</td>\n",
       "      <td>36.56166</td>\n",
       "      <td>0.82226</td>\n",
       "    </tr>\n",
       "    <tr>\n",
       "      <th>3</th>\n",
       "      <td>3</td>\n",
       "      <td>38696</td>\n",
       "      <td>3</td>\n",
       "      <td>West Virginia</td>\n",
       "      <td>Martinsburg</td>\n",
       "      <td>293731</td>\n",
       "      <td>39.451434</td>\n",
       "      <td>-77.978764</td>\n",
       "      <td>5909</td>\n",
       "      <td>2794</td>\n",
       "      <td>3115</td>\n",
       "      <td>766.0</td>\n",
       "      <td>1177.0</td>\n",
       "      <td>0.65087</td>\n",
       "      <td>0.44439</td>\n",
       "      <td>0.06826</td>\n",
       "      <td>0.10883</td>\n",
       "      <td>34.50951</td>\n",
       "      <td>0.79494</td>\n",
       "    </tr>\n",
       "    <tr>\n",
       "      <th>4</th>\n",
       "      <td>4</td>\n",
       "      <td>21220</td>\n",
       "      <td>93</td>\n",
       "      <td>North Carolina</td>\n",
       "      <td>Raeford</td>\n",
       "      <td>260525</td>\n",
       "      <td>35.037647</td>\n",
       "      <td>-79.353421</td>\n",
       "      <td>5348</td>\n",
       "      <td>3141</td>\n",
       "      <td>2207</td>\n",
       "      <td>802.0</td>\n",
       "      <td>1041.0</td>\n",
       "      <td>0.61479</td>\n",
       "      <td>0.49577</td>\n",
       "      <td>0.07038</td>\n",
       "      <td>0.12846</td>\n",
       "      <td>37.47714</td>\n",
       "      <td>0.81386</td>\n",
       "    </tr>\n",
       "  </tbody>\n",
       "</table>\n",
       "</div>"
      ],
      "text/plain": [
       "   Unnamed: 0  Unnamed: 0.1  COUNTYID           state         city     UID  \\\n",
       "0           0         25827        81        New York     Elmhurst  269390   \n",
       "1           1          7304         3        Delaware   Wilmington  234249   \n",
       "2           2         15008        29       Louisiana      Vidalia  248842   \n",
       "3           3         38696         3   West Virginia  Martinsburg  293731   \n",
       "4           4         21220        93  North Carolina      Raeford  260525   \n",
       "\n",
       "   longitude        lng  num_population  male_num  female_num  rent_median  \\\n",
       "0  40.731128 -73.883353            4980      2575        2405       1498.0   \n",
       "1  39.752706 -75.529007            3076      1494        1582       1076.0   \n",
       "2  31.572841 -91.435492            4474      2040        2434        543.0   \n",
       "3  39.451434 -77.978764            5909      2794        3115        766.0   \n",
       "4  35.037647 -79.353421            5348      3141        2207        802.0   \n",
       "\n",
       "   mortgage     debt  married  separated  divorced       age  edu_degree  \n",
       "0    2446.0  0.48038  0.56122    0.01020   0.06173  37.47423     0.74821  \n",
       "1    1131.0  0.82879  0.27226    0.01642   0.09594  33.74497     0.83474  \n",
       "2     925.0  0.37132  0.57276    0.03358   0.04851  36.56166     0.82226  \n",
       "3    1177.0  0.65087  0.44439    0.06826   0.10883  34.50951     0.79494  \n",
       "4    1041.0  0.61479  0.49577    0.07038   0.12846  37.47714     0.81386  "
      ]
     },
     "execution_count": 6,
     "metadata": {},
     "output_type": "execute_result"
    }
   ],
   "source": [
    "df.head()"
   ]
  },
  {
   "cell_type": "code",
   "execution_count": 3,
   "metadata": {},
   "outputs": [
    {
     "data": {
      "text/plain": [
       "(20020, 19)"
      ]
     },
     "execution_count": 3,
     "metadata": {},
     "output_type": "execute_result"
    }
   ],
   "source": [
    "df.shape"
   ]
  },
  {
   "cell_type": "code",
   "execution_count": 4,
   "metadata": {},
   "outputs": [
    {
     "data": {
      "text/plain": [
       "Index(['Unnamed: 0', 'Unnamed: 0.1', 'COUNTYID', 'state', 'city', 'UID',\n",
       "       'longitude', 'lng', 'num_population', 'male_num', 'female_num',\n",
       "       'rent_median', 'mortgage', 'debt', 'married', 'separated', 'divorced',\n",
       "       'age', 'edu_degree'],\n",
       "      dtype='object')"
      ]
     },
     "execution_count": 4,
     "metadata": {},
     "output_type": "execute_result"
    }
   ],
   "source": [
    "df.columns"
   ]
  },
  {
   "cell_type": "code",
   "execution_count": 5,
   "metadata": {},
   "outputs": [
    {
     "data": {
      "text/plain": [
       "20020"
      ]
     },
     "execution_count": 5,
     "metadata": {},
     "output_type": "execute_result"
    }
   ],
   "source": [
    "#basically i am trying to load the data and trying to find if i can choose any column to make an index to check \n",
    "#if there are any duplicates\n",
    "#lets see if the number of rows have teh number of cities with no NA values\n",
    "nonmiss_cities = df['city'].count()\n",
    "nonmiss_cities\n",
    "# no and cities seems to be as equal with the row"
   ]
  },
  {
   "cell_type": "code",
   "execution_count": 7,
   "metadata": {},
   "outputs": [
    {
     "data": {
      "text/plain": [
       "5901"
      ]
     },
     "execution_count": 7,
     "metadata": {},
     "output_type": "execute_result"
    }
   ],
   "source": [
    "# lets check the unique city \n",
    "len(set(df.city))"
   ]
  },
  {
   "cell_type": "code",
   "execution_count": 8,
   "metadata": {},
   "outputs": [
    {
     "data": {
      "text/plain": [
       "5901"
      ]
     },
     "execution_count": 8,
     "metadata": {},
     "output_type": "execute_result"
    }
   ],
   "source": [
    "unique_city = len(df.city.unique())\n",
    "unique_city"
   ]
  },
  {
   "cell_type": "code",
   "execution_count": 9,
   "metadata": {},
   "outputs": [
    {
     "data": {
      "text/plain": [
       "14119"
      ]
     },
     "execution_count": 9,
     "metadata": {},
     "output_type": "execute_result"
    }
   ],
   "source": [
    "#duplicates \n",
    "z = nonmiss_cities - unique_city\n",
    "z"
   ]
  },
  {
   "cell_type": "code",
   "execution_count": null,
   "metadata": {},
   "outputs": [],
   "source": []
  }
 ],
 "metadata": {
  "kernelspec": {
   "display_name": "Python 3",
   "language": "python",
   "name": "python3"
  },
  "language_info": {
   "codemirror_mode": {
    "name": "ipython",
    "version": 3
   },
   "file_extension": ".py",
   "mimetype": "text/x-python",
   "name": "python",
   "nbconvert_exporter": "python",
   "pygments_lexer": "ipython3",
   "version": "3.7.1"
  }
 },
 "nbformat": 4,
 "nbformat_minor": 2
}
