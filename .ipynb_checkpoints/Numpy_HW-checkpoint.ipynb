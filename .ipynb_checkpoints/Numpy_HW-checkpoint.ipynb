{
 "cells": [
  {
   "cell_type": "markdown",
   "metadata": {},
   "source": [
    "First Run ‘import Numpy as np’, then finish the following questions:\n",
    "\n",
    "Q1) Create a Numpy Array ‘X’ that contains the sequential number from 1 to 100.\n",
    "\n",
    "\n",
    "Then calculate the statistics and solve the following questions\n",
    "\n",
    "a) Mean value of elements in ‘X’\n",
    "\n",
    "b) Summed value of elements in ‘X’\n",
    "\n",
    "c) Number of elements in ‘X’\n",
    "\n",
    "d) Create a new Numpy Array ‘Y’, with each element of ‘Y’ being the square root of element at the same\n",
    "array index.\n",
    "\n",
    "e) Create a new Numpy Array ‘Z’, with each element being the difference between two consecutive\n",
    "elements in Array ‘X’. For example,\n",
    "\n",
    "Z[0] =X[1] - X[0]\n",
    "\n",
    "f) X+X/2"
   ]
  },
  {
   "cell_type": "code",
   "execution_count": 1,
   "metadata": {},
   "outputs": [
    {
     "data": {
      "text/plain": [
       "array([[  1,   2,   3,   4,   5,   6,   7,   8,   9,  10,  11,  12,  13,\n",
       "         14,  15,  16,  17,  18,  19,  20,  21,  22,  23,  24,  25,  26,\n",
       "         27,  28,  29,  30,  31,  32,  33,  34,  35,  36,  37,  38,  39,\n",
       "         40,  41,  42,  43,  44,  45,  46,  47,  48,  49,  50,  51,  52,\n",
       "         53,  54,  55,  56,  57,  58,  59,  60,  61,  62,  63,  64,  65,\n",
       "         66,  67,  68,  69,  70,  71,  72,  73,  74,  75,  76,  77,  78,\n",
       "         79,  80,  81,  82,  83,  84,  85,  86,  87,  88,  89,  90,  91,\n",
       "         92,  93,  94,  95,  96,  97,  98,  99, 100]])"
      ]
     },
     "execution_count": 1,
     "metadata": {},
     "output_type": "execute_result"
    }
   ],
   "source": [
    "import numpy as np\n",
    "X = np.array([range(1,101)])\n",
    "X"
   ]
  },
  {
   "cell_type": "code",
   "execution_count": 3,
   "metadata": {},
   "outputs": [
    {
     "data": {
      "text/plain": [
       "(50.5, 5050, 100)"
      ]
     },
     "execution_count": 3,
     "metadata": {},
     "output_type": "execute_result"
    }
   ],
   "source": [
    "np.mean(X), np.sum(X), X.size"
   ]
  },
  {
   "cell_type": "code",
   "execution_count": 4,
   "metadata": {},
   "outputs": [
    {
     "data": {
      "text/plain": [
       "[array([ 1.        ,  1.41421356,  1.73205081,  2.        ,  2.23606798,\n",
       "         2.44948974,  2.64575131,  2.82842712,  3.        ,  3.16227766,\n",
       "         3.31662479,  3.46410162,  3.60555128,  3.74165739,  3.87298335,\n",
       "         4.        ,  4.12310563,  4.24264069,  4.35889894,  4.47213595,\n",
       "         4.58257569,  4.69041576,  4.79583152,  4.89897949,  5.        ,\n",
       "         5.09901951,  5.19615242,  5.29150262,  5.38516481,  5.47722558,\n",
       "         5.56776436,  5.65685425,  5.74456265,  5.83095189,  5.91607978,\n",
       "         6.        ,  6.08276253,  6.164414  ,  6.244998  ,  6.32455532,\n",
       "         6.40312424,  6.4807407 ,  6.55743852,  6.63324958,  6.70820393,\n",
       "         6.78232998,  6.8556546 ,  6.92820323,  7.        ,  7.07106781,\n",
       "         7.14142843,  7.21110255,  7.28010989,  7.34846923,  7.41619849,\n",
       "         7.48331477,  7.54983444,  7.61577311,  7.68114575,  7.74596669,\n",
       "         7.81024968,  7.87400787,  7.93725393,  8.        ,  8.06225775,\n",
       "         8.1240384 ,  8.18535277,  8.24621125,  8.30662386,  8.36660027,\n",
       "         8.42614977,  8.48528137,  8.54400375,  8.60232527,  8.66025404,\n",
       "         8.71779789,  8.77496439,  8.83176087,  8.88819442,  8.94427191,\n",
       "         9.        ,  9.05538514,  9.11043358,  9.16515139,  9.21954446,\n",
       "         9.2736185 ,  9.32737905,  9.38083152,  9.43398113,  9.48683298,\n",
       "         9.53939201,  9.59166305,  9.64365076,  9.69535971,  9.74679434,\n",
       "         9.79795897,  9.8488578 ,  9.89949494,  9.94987437, 10.        ])]"
      ]
     },
     "execution_count": 4,
     "metadata": {},
     "output_type": "execute_result"
    }
   ],
   "source": [
    "Y = [i**(1/2) for i in X]\n",
    "Y"
   ]
  },
  {
   "cell_type": "code",
   "execution_count": 6,
   "metadata": {},
   "outputs": [
    {
     "data": {
      "text/plain": [
       "array([[1, 1, 1, 1, 1, 1, 1, 1, 1, 1, 1, 1, 1, 1, 1, 1, 1, 1, 1, 1, 1, 1,\n",
       "        1, 1, 1, 1, 1, 1, 1, 1, 1, 1, 1, 1, 1, 1, 1, 1, 1, 1, 1, 1, 1, 1,\n",
       "        1, 1, 1, 1, 1, 1, 1, 1, 1, 1, 1, 1, 1, 1, 1, 1, 1, 1, 1, 1, 1, 1,\n",
       "        1, 1, 1, 1, 1, 1, 1, 1, 1, 1, 1, 1, 1, 1, 1, 1, 1, 1, 1, 1, 1, 1,\n",
       "        1, 1, 1, 1, 1, 1, 1, 1, 1, 1, 1]])"
      ]
     },
     "execution_count": 6,
     "metadata": {},
     "output_type": "execute_result"
    }
   ],
   "source": [
    "Z = np.diff(X)\n",
    "Z"
   ]
  },
  {
   "cell_type": "code",
   "execution_count": 7,
   "metadata": {},
   "outputs": [
    {
     "data": {
      "text/plain": [
       "array([[  1.5,   3. ,   4.5,   6. ,   7.5,   9. ,  10.5,  12. ,  13.5,\n",
       "         15. ,  16.5,  18. ,  19.5,  21. ,  22.5,  24. ,  25.5,  27. ,\n",
       "         28.5,  30. ,  31.5,  33. ,  34.5,  36. ,  37.5,  39. ,  40.5,\n",
       "         42. ,  43.5,  45. ,  46.5,  48. ,  49.5,  51. ,  52.5,  54. ,\n",
       "         55.5,  57. ,  58.5,  60. ,  61.5,  63. ,  64.5,  66. ,  67.5,\n",
       "         69. ,  70.5,  72. ,  73.5,  75. ,  76.5,  78. ,  79.5,  81. ,\n",
       "         82.5,  84. ,  85.5,  87. ,  88.5,  90. ,  91.5,  93. ,  94.5,\n",
       "         96. ,  97.5,  99. , 100.5, 102. , 103.5, 105. , 106.5, 108. ,\n",
       "        109.5, 111. , 112.5, 114. , 115.5, 117. , 118.5, 120. , 121.5,\n",
       "        123. , 124.5, 126. , 127.5, 129. , 130.5, 132. , 133.5, 135. ,\n",
       "        136.5, 138. , 139.5, 141. , 142.5, 144. , 145.5, 147. , 148.5,\n",
       "        150. ]])"
      ]
     },
     "execution_count": 7,
     "metadata": {},
     "output_type": "execute_result"
    }
   ],
   "source": [
    "Z2 = X + X/2\n",
    "Z2"
   ]
  },
  {
   "cell_type": "code",
   "execution_count": null,
   "metadata": {},
   "outputs": [],
   "source": []
  },
  {
   "cell_type": "markdown",
   "metadata": {},
   "source": [
    "Q2) Create a tuple T= (3, 4, 2, 6, np.NaN, 7), then solve the following questions:\n",
    "\n",
    "\n",
    "a) Create a Boolean NP Array ‘X’ that contains TRUE if the element in ‘T’ is nonzero, otherwise the value\n",
    "is FALSE (using 'dtype=np.bool ')\n",
    "\n",
    "\n",
    "b) Create a float NP Array ‘Y’ from the tuple ‘T’ (using 'dtype = np.float ')\n",
    "\n",
    "\n",
    "c) Return a Boolean Numpy Array ‘Z’ that contains TRUE if the element in ‘T’ is missing, otherwise the\n",
    "value is FALSE\n",
    "\n",
    "\n",
    "d) Calculate the total number of missing values in the tuple ‘Y’ based on the NP array ‘Z’ created in c).\n",
    "\n",
    "\n",
    "e) Sort the NP Array ‘Y’ in ascending order\n",
    "\n",
    "\n",
    "f) Return the data type of the NP Array ‘Y’"
   ]
  },
  {
   "cell_type": "code",
   "execution_count": 8,
   "metadata": {},
   "outputs": [
    {
     "data": {
      "text/plain": [
       "(3, 4, 2, 6, nan, 7)"
      ]
     },
     "execution_count": 8,
     "metadata": {},
     "output_type": "execute_result"
    }
   ],
   "source": [
    "T = (3, 4, 2, 6, np.NaN, 7)\n",
    "T"
   ]
  },
  {
   "cell_type": "code",
   "execution_count": 20,
   "metadata": {},
   "outputs": [
    {
     "data": {
      "text/plain": [
       "array([ True,  True,  True,  True,  True,  True])"
      ]
     },
     "execution_count": 20,
     "metadata": {},
     "output_type": "execute_result"
    }
   ],
   "source": [
    "X = np.array([i != 0 for i in T])\n",
    "X"
   ]
  },
  {
   "cell_type": "code",
   "execution_count": 23,
   "metadata": {},
   "outputs": [
    {
     "data": {
      "text/plain": [
       "array([ 3.,  4.,  2.,  6., nan,  7.])"
      ]
     },
     "execution_count": 23,
     "metadata": {},
     "output_type": "execute_result"
    }
   ],
   "source": [
    "Y = np.array(T, dtype=float)\n",
    "Y"
   ]
  },
  {
   "cell_type": "code",
   "execution_count": 24,
   "metadata": {},
   "outputs": [
    {
     "data": {
      "text/plain": [
       "array([False, False, False, False,  True, False])"
      ]
     },
     "execution_count": 24,
     "metadata": {},
     "output_type": "execute_result"
    }
   ],
   "source": [
    "T = np.array(T)\n",
    "Z = np.isnan(T)\n",
    "Z"
   ]
  },
  {
   "cell_type": "code",
   "execution_count": 25,
   "metadata": {},
   "outputs": [
    {
     "data": {
      "text/plain": [
       "1"
      ]
     },
     "execution_count": 25,
     "metadata": {},
     "output_type": "execute_result"
    }
   ],
   "source": [
    "np.sum(Z)"
   ]
  },
  {
   "cell_type": "code",
   "execution_count": 26,
   "metadata": {},
   "outputs": [
    {
     "data": {
      "text/plain": [
       "array([ 2.,  3.,  4.,  6.,  7., nan])"
      ]
     },
     "execution_count": 26,
     "metadata": {},
     "output_type": "execute_result"
    }
   ],
   "source": [
    "np.sort(Y)"
   ]
  },
  {
   "cell_type": "code",
   "execution_count": 29,
   "metadata": {},
   "outputs": [
    {
     "data": {
      "text/plain": [
       "dtype('float64')"
      ]
     },
     "execution_count": 29,
     "metadata": {},
     "output_type": "execute_result"
    }
   ],
   "source": [
    "Y.dtype"
   ]
  },
  {
   "cell_type": "code",
   "execution_count": null,
   "metadata": {},
   "outputs": [],
   "source": []
  },
  {
   "cell_type": "markdown",
   "metadata": {},
   "source": [
    "Q3) Create the following list or tuple objects (run python codes) first:\n",
    "\n",
    "(1) A = (1, 3, 5, 9, 11, 18) (2) B = list(range (1, 7)) (3) C = [7] * 6\n",
    "\n",
    "Solve the following questions:\n",
    "\n",
    "a) Create a multidimensional (row=3, column=6) Numpy Array ‘M’ using above data objects.\n",
    "\n",
    "b) Return the dimension and shape of the Numpy Array ‘M’.\n",
    "\n",
    "c) Get a Numpy Array ‘T’ by transposing ‘M’.\n",
    "\n",
    "d) Create an identical Numpy Array ‘G’ to ‘M’.\n",
    "\n",
    "e) Return the total number of elements in ‘M’."
   ]
  },
  {
   "cell_type": "code",
   "execution_count": 31,
   "metadata": {},
   "outputs": [
    {
     "data": {
      "text/plain": [
       "((1, 3, 5, 9, 11, 18), [1, 2, 3, 4, 5, 6], [7, 7, 7, 7, 7, 7])"
      ]
     },
     "execution_count": 31,
     "metadata": {},
     "output_type": "execute_result"
    }
   ],
   "source": [
    "A = (1, 3, 5, 9, 11, 18) \n",
    "B = list(range (1, 7))\n",
    "C = [7] * 6\n",
    "A, B, C"
   ]
  },
  {
   "cell_type": "code",
   "execution_count": 35,
   "metadata": {},
   "outputs": [
    {
     "data": {
      "text/plain": [
       "array([[ 1,  3,  5,  9, 11, 18],\n",
       "       [ 1,  2,  3,  4,  5,  6],\n",
       "       [ 7,  7,  7,  7,  7,  7]])"
      ]
     },
     "execution_count": 35,
     "metadata": {},
     "output_type": "execute_result"
    }
   ],
   "source": [
    "M = np.vstack((A, B, C))\n",
    "M"
   ]
  },
  {
   "cell_type": "code",
   "execution_count": 36,
   "metadata": {},
   "outputs": [
    {
     "data": {
      "text/plain": [
       "(2, (3, 6))"
      ]
     },
     "execution_count": 36,
     "metadata": {},
     "output_type": "execute_result"
    }
   ],
   "source": [
    "M.ndim, M.shape"
   ]
  },
  {
   "cell_type": "code",
   "execution_count": 37,
   "metadata": {},
   "outputs": [
    {
     "data": {
      "text/plain": [
       "array([[ 1,  1,  7],\n",
       "       [ 3,  2,  7],\n",
       "       [ 5,  3,  7],\n",
       "       [ 9,  4,  7],\n",
       "       [11,  5,  7],\n",
       "       [18,  6,  7]])"
      ]
     },
     "execution_count": 37,
     "metadata": {},
     "output_type": "execute_result"
    }
   ],
   "source": [
    "T = M.T\n",
    "T"
   ]
  },
  {
   "cell_type": "code",
   "execution_count": 39,
   "metadata": {},
   "outputs": [
    {
     "data": {
      "text/plain": [
       "array([[ 1,  3,  5,  9, 11, 18],\n",
       "       [ 1,  2,  3,  4,  5,  6],\n",
       "       [ 7,  7,  7,  7,  7,  7]])"
      ]
     },
     "execution_count": 39,
     "metadata": {},
     "output_type": "execute_result"
    }
   ],
   "source": [
    "G = M.copy()\n",
    "G\n"
   ]
  },
  {
   "cell_type": "code",
   "execution_count": 41,
   "metadata": {},
   "outputs": [
    {
     "data": {
      "text/plain": [
       "18"
      ]
     },
     "execution_count": 41,
     "metadata": {},
     "output_type": "execute_result"
    }
   ],
   "source": [
    "M.size"
   ]
  },
  {
   "cell_type": "code",
   "execution_count": null,
   "metadata": {},
   "outputs": [],
   "source": []
  },
  {
   "cell_type": "markdown",
   "metadata": {},
   "source": [
    "Q4) Given the Python list [0, 1, 2, 3, 4], use some NP functions to generate the following np arrays\n",
    "respectively:\n",
    "\n",
    "\n",
    "1) np.array([0 0 0 1 1 1 2 2 2 3 3 3 4 4 4])\n",
    "\n",
    "\n",
    "2) np.array([0 1 2 3 4 0 1 2 3 4 0 1 2 3 4])"
   ]
  },
  {
   "cell_type": "code",
   "execution_count": 52,
   "metadata": {},
   "outputs": [
    {
     "data": {
      "text/plain": [
       "array([0, 0, 0, 1, 1, 1, 2, 2, 2, 3, 3, 3, 4, 4, 4])"
      ]
     },
     "execution_count": 52,
     "metadata": {},
     "output_type": "execute_result"
    }
   ],
   "source": [
    "X =np.array([range(5)])\n",
    "X.repeat(3)"
   ]
  },
  {
   "cell_type": "code",
   "execution_count": 53,
   "metadata": {},
   "outputs": [
    {
     "data": {
      "text/plain": [
       "array([0, 1, 2, 3, 4, 0, 1, 2, 3, 4, 0, 1, 2, 3, 4])"
      ]
     },
     "execution_count": 53,
     "metadata": {},
     "output_type": "execute_result"
    }
   ],
   "source": [
    "X.repeat(3, axis=0).flatten()"
   ]
  },
  {
   "cell_type": "code",
   "execution_count": 54,
   "metadata": {},
   "outputs": [
    {
     "data": {
      "text/plain": [
       "array([[0, 1, 2, 3, 4, 0, 1, 2, 3, 4, 0, 1, 2, 3, 4]])"
      ]
     },
     "execution_count": 54,
     "metadata": {},
     "output_type": "execute_result"
    }
   ],
   "source": [
    "np.tile(X,3)"
   ]
  },
  {
   "cell_type": "code",
   "execution_count": null,
   "metadata": {},
   "outputs": [],
   "source": []
  },
  {
   "cell_type": "markdown",
   "metadata": {},
   "source": [
    "Q5) First produce a two dim np array:\n",
    "[[ 1 2 3 4 5 6 7 8 9 10] [10 9 8 7 6 5 4 3 2 1]]\n",
    "\n",
    "Then use the NP array's repeat() function to generate the following arrays:\n",
    "\n",
    "1) [[ 1 1 2 2 3 3 4 4 5 5 6 6 7 7 8 8 9 9 10 10] [10 10 9 9 8 8 7 7 6 6 5 5 4 4 3 3 2 2 1 1]]\n",
    "\n",
    "2) [[ 1 2 3 4 5 6 7 8 9 10]\n",
    " [ 1 2 3 4 5 6 7 8 9 10]\n",
    " [10 9 8 7 6 5 4 3 2 1]\n",
    " [10 9 8 7 6 5 4 3 2 1]]"
   ]
  },
  {
   "cell_type": "code",
   "execution_count": 66,
   "metadata": {},
   "outputs": [
    {
     "data": {
      "text/plain": [
       "(array([[ 1,  2,  3,  4,  5,  6,  7,  8,  9, 10],\n",
       "        [10,  9,  8,  7,  6,  5,  4,  3,  2,  1]]), 2)"
      ]
     },
     "execution_count": 66,
     "metadata": {},
     "output_type": "execute_result"
    }
   ],
   "source": [
    "X = np.array([range(1,11), range(10,0,-1)])\n",
    "X, X.ndim"
   ]
  },
  {
   "cell_type": "code",
   "execution_count": 69,
   "metadata": {},
   "outputs": [
    {
     "data": {
      "text/plain": [
       "array([[ 1,  1,  2,  2,  3,  3,  4,  4,  5,  5,  6,  6,  7,  7,  8,  8,\n",
       "         9,  9, 10, 10],\n",
       "       [10, 10,  9,  9,  8,  8,  7,  7,  6,  6,  5,  5,  4,  4,  3,  3,\n",
       "         2,  2,  1,  1]])"
      ]
     },
     "execution_count": 69,
     "metadata": {},
     "output_type": "execute_result"
    }
   ],
   "source": [
    "np.repeat(X, 2, axis=1)"
   ]
  },
  {
   "cell_type": "code",
   "execution_count": 70,
   "metadata": {},
   "outputs": [
    {
     "data": {
      "text/plain": [
       "array([[ 1,  2,  3,  4,  5,  6,  7,  8,  9, 10],\n",
       "       [ 1,  2,  3,  4,  5,  6,  7,  8,  9, 10],\n",
       "       [10,  9,  8,  7,  6,  5,  4,  3,  2,  1],\n",
       "       [10,  9,  8,  7,  6,  5,  4,  3,  2,  1]])"
      ]
     },
     "execution_count": 70,
     "metadata": {},
     "output_type": "execute_result"
    }
   ],
   "source": [
    "np.repeat(X, 2, axis=0)"
   ]
  },
  {
   "cell_type": "markdown",
   "metadata": {},
   "source": [
    "Q6) Use the Numpy functions: zeros(), ones() and a python list [True, False, True] to\n",
    "    \n",
    "a) Create 3 Numpy arrays\n",
    "\n",
    "b) Merge them into a one dim NP array like:\n",
    "[0. 0. 0. 1. 1. 1. 1. 1. 1. 0. 1.]\n",
    "\n",
    "c) Shuffle the NP array using the shuffle() function\n",
    "\n",
    "d) Use the np's certain functions to calculate the % of ones, and # of zeros in the shuffled array"
   ]
  },
  {
   "cell_type": "code",
   "execution_count": 97,
   "metadata": {},
   "outputs": [
    {
     "data": {
      "text/plain": [
       "array([0., 0., 0., 1., 1., 1., 1., 1., 1., 0., 1.])"
      ]
     },
     "execution_count": 97,
     "metadata": {},
     "output_type": "execute_result"
    }
   ],
   "source": [
    "X = np.array([np.zeros(3), np.ones(3), [True, False, True]])\n",
    "x1 = np.zeros(3)\n",
    "x2 = np.ones(5)\n",
    "x3 = [True, False, True]\n",
    "X = np.concatenate((x1,x2,x3),axis=0)\n",
    "X"
   ]
  },
  {
   "cell_type": "code",
   "execution_count": 98,
   "metadata": {},
   "outputs": [
    {
     "name": "stdout",
     "output_type": "stream",
     "text": [
      "[0. 1. 1. 1. 0. 1. 1. 1. 1. 0. 0.]\n"
     ]
    }
   ],
   "source": [
    "np.random.shuffle(X)\n",
    "print(X)"
   ]
  },
  {
   "cell_type": "code",
   "execution_count": 99,
   "metadata": {},
   "outputs": [
    {
     "data": {
      "text/plain": [
       "63.63636363636363"
      ]
     },
     "execution_count": 99,
     "metadata": {},
     "output_type": "execute_result"
    }
   ],
   "source": [
    "100* list(X).count(1)/X.size"
   ]
  },
  {
   "cell_type": "code",
   "execution_count": 103,
   "metadata": {},
   "outputs": [
    {
     "data": {
      "text/plain": [
       "63.63636363636363"
      ]
     },
     "execution_count": 103,
     "metadata": {},
     "output_type": "execute_result"
    }
   ],
   "source": [
    "X.sum()/X.size *100"
   ]
  },
  {
   "cell_type": "code",
   "execution_count": 105,
   "metadata": {},
   "outputs": [
    {
     "data": {
      "text/plain": [
       "4.0"
      ]
     },
     "execution_count": 105,
     "metadata": {},
     "output_type": "execute_result"
    }
   ],
   "source": [
    "X.size - X.sum()"
   ]
  },
  {
   "cell_type": "code",
   "execution_count": null,
   "metadata": {},
   "outputs": [],
   "source": []
  },
  {
   "cell_type": "markdown",
   "metadata": {},
   "source": [
    "Q7) Use the list L = [3, 6, 0, 2, 0, 2, 1, 0] to define a NP array 'v'. \n",
    "\n",
    "Then use a NP's function to return the\n",
    "indices of non-zero items and save these indices into a NP array. Then use\n",
    "\n",
    "1) The array slicing method to extract non-zero values in the np array ‘v’, what is the shape of the\n",
    "resulting array?\n",
    "\n",
    "2) The take() function to extract those non-zero values in the np array ‘v’, what is the shape of the\n",
    "resulting array?"
   ]
  },
  {
   "cell_type": "code",
   "execution_count": 107,
   "metadata": {},
   "outputs": [
    {
     "data": {
      "text/plain": [
       "array([3, 6, 0, 2, 0, 2, 1, 0])"
      ]
     },
     "execution_count": 107,
     "metadata": {},
     "output_type": "execute_result"
    }
   ],
   "source": [
    "L = [3, 6, 0, 2, 0, 2, 1, 0] \n",
    "v = np.array(L)\n",
    "v"
   ]
  },
  {
   "cell_type": "code",
   "execution_count": 108,
   "metadata": {},
   "outputs": [
    {
     "data": {
      "text/plain": [
       "(array([0, 1, 3, 5, 6]),)"
      ]
     },
     "execution_count": 108,
     "metadata": {},
     "output_type": "execute_result"
    }
   ],
   "source": [
    "non_zero_ind = np.nonzero(v)\n",
    "non_zero_ind"
   ]
  },
  {
   "cell_type": "code",
   "execution_count": 111,
   "metadata": {},
   "outputs": [
    {
     "data": {
      "text/plain": [
       "(array([3, 6, 2, 2, 1]), (5,))"
      ]
     },
     "execution_count": 111,
     "metadata": {},
     "output_type": "execute_result"
    }
   ],
   "source": [
    "v[non_zero_ind], v[non_zero_ind].shape"
   ]
  },
  {
   "cell_type": "code",
   "execution_count": 113,
   "metadata": {},
   "outputs": [
    {
     "data": {
      "text/plain": [
       "(array([[3, 6, 2, 2, 1]]), (1, 5))"
      ]
     },
     "execution_count": 113,
     "metadata": {},
     "output_type": "execute_result"
    }
   ],
   "source": [
    "np.take(v, non_zero_ind), np.take(v, non_zero_ind).shape"
   ]
  }
 ],
 "metadata": {
  "kernelspec": {
   "display_name": "Python 3",
   "language": "python",
   "name": "python3"
  },
  "language_info": {
   "codemirror_mode": {
    "name": "ipython",
    "version": 3
   },
   "file_extension": ".py",
   "mimetype": "text/x-python",
   "name": "python",
   "nbconvert_exporter": "python",
   "pygments_lexer": "ipython3",
   "version": "3.7.1"
  }
 },
 "nbformat": 4,
 "nbformat_minor": 2
}
