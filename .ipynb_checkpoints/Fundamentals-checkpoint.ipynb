{
 "cells": [
  {
   "cell_type": "markdown",
   "metadata": {},
   "source": [
    "Q2) List the Collection Data Types in Python. Write Python code to solve the\n",
    "following questions:"
   ]
  },
  {
   "cell_type": "markdown",
   "metadata": {},
   "source": [
    "a) Place the numbers 79, 88, 99, ‘John’, ’Mary’, ’David’ into a tuple – ‘T’ and list – ‘L’ respectively, and print the contents and data type of two objects. In addition, state the difference (by usage) between tuple and list."
   ]
  },
  {
   "cell_type": "code",
   "execution_count": 4,
   "metadata": {},
   "outputs": [
    {
     "name": "stdout",
     "output_type": "stream",
     "text": [
      "T ==  (79, 88, 99, 'John', 'Mary', 'David') and its data type ==  <class 'tuple'>\n",
      "L ==  [79, 88, 99, 'John', 'Mary', 'David'] and its data type ==  <class 'list'>\n"
     ]
    }
   ],
   "source": [
    "T = (79, 88, 99, 'John', 'Mary', 'David')\n",
    "L = list(T)\n",
    "print(\"T == \", T , \"and its data type == \", type(T))\n",
    "print(\"L == \", L , \"and its data type == \", type(L))"
   ]
  },
  {
   "cell_type": "markdown",
   "metadata": {},
   "source": [
    "b) Return the length of the list ‘L’ and print the result. What does L[1:3] stand for?"
   ]
  },
  {
   "cell_type": "code",
   "execution_count": 5,
   "metadata": {},
   "outputs": [
    {
     "name": "stdout",
     "output_type": "stream",
     "text": [
      "6\n",
      "[88, 99]\n"
     ]
    }
   ],
   "source": [
    "print(len(T))\n",
    "print(L[1:3]) #should print  88 and 99"
   ]
  },
  {
   "cell_type": "markdown",
   "metadata": {},
   "source": [
    "c) Create a sub-list ‘SL’ containing only numeric elements from the tuple ‘T, and\n",
    "calculate and print the maximum value of those numbers."
   ]
  },
  {
   "cell_type": "code",
   "execution_count": 19,
   "metadata": {},
   "outputs": [
    {
     "data": {
      "text/plain": [
       "[79, 88, 99]"
      ]
     },
     "execution_count": 19,
     "metadata": {},
     "output_type": "execute_result"
    }
   ],
   "source": [
    "SL = [i for i in T if isinstance(i,(int,float))]\n",
    "SL"
   ]
  },
  {
   "cell_type": "code",
   "execution_count": 20,
   "metadata": {},
   "outputs": [
    {
     "name": "stdout",
     "output_type": "stream",
     "text": [
      "99\n"
     ]
    }
   ],
   "source": [
    "print(max(SL))"
   ]
  },
  {
   "cell_type": "markdown",
   "metadata": {},
   "source": [
    "d) Create a list ‘SLS’ by sorting (descending order) the elements in the list ‘SL’."
   ]
  },
  {
   "cell_type": "code",
   "execution_count": 21,
   "metadata": {},
   "outputs": [
    {
     "data": {
      "text/plain": [
       "[99, 88, 79]"
      ]
     },
     "execution_count": 21,
     "metadata": {},
     "output_type": "execute_result"
    }
   ],
   "source": [
    "SLS = sorted(SL, reverse=True)\n",
    "SLS"
   ]
  },
  {
   "cell_type": "markdown",
   "metadata": {},
   "source": [
    "e) Write Python codes to create the following list\n",
    "[“John’s mark is 79”, “David’s mark is 99”, “Mary’s mark is 88”]"
   ]
  },
  {
   "cell_type": "code",
   "execution_count": 53,
   "metadata": {},
   "outputs": [
    {
     "data": {
      "text/plain": [
       "[\"John's mark is 79\", \"David's mark is 99\", \"Mary's mark is 88\"]"
      ]
     },
     "execution_count": 53,
     "metadata": {},
     "output_type": "execute_result"
    }
   ],
   "source": [
    "L = [ \"John's mark is 79\", \"David's mark is 99\", \"Mary's mark is 88\"]\n",
    "L"
   ]
  },
  {
   "cell_type": "markdown",
   "metadata": {},
   "source": [
    "f) Perform the following operations on the list object ‘L’\n",
    "(1) Change the value from 99 to 90 and from ‘David’ to ‘Minko’."
   ]
  },
  {
   "cell_type": "code",
   "execution_count": 54,
   "metadata": {},
   "outputs": [
    {
     "data": {
      "text/plain": [
       "[\"John's mark is 79\", \"Minko's mark is 90\", \"Mary's mark is 88\"]"
      ]
     },
     "execution_count": 54,
     "metadata": {},
     "output_type": "execute_result"
    }
   ],
   "source": [
    "L[1] = L[1].replace('David', 'Minko')\n",
    "L[1] = L[1].replace('99', '90')\n",
    "L"
   ]
  },
  {
   "cell_type": "markdown",
   "metadata": {},
   "source": [
    "(2) Delete the element 79 and ‘John’.\n"
   ]
  },
  {
   "cell_type": "code",
   "execution_count": 55,
   "metadata": {},
   "outputs": [
    {
     "data": {
      "text/plain": [
       "[\"'s mark is \", \"Minko's mark is 90\", \"Mary's mark is 88\"]"
      ]
     },
     "execution_count": 55,
     "metadata": {},
     "output_type": "execute_result"
    }
   ],
   "source": [
    "L[0] = L[0].replace('79', '')\n",
    "L[0] = L[0].replace('John', '')\n",
    "L"
   ]
  },
  {
   "cell_type": "markdown",
   "metadata": {},
   "source": [
    "\n",
    "(3) Insert a new element 92 at the first position and ‘Lucy’ at the fourth position in\n",
    "the list after the operation in (2).\n"
   ]
  },
  {
   "cell_type": "code",
   "execution_count": 56,
   "metadata": {},
   "outputs": [
    {
     "data": {
      "text/plain": [
       "['92', \"'s mark is \", \"Minko's mark is 90\", \"Mary's mark is 88\", 'Lucy']"
      ]
     },
     "execution_count": 56,
     "metadata": {},
     "output_type": "execute_result"
    }
   ],
   "source": [
    "L.insert(0,'92')\n",
    "L.append('Lucy')\n",
    "L"
   ]
  },
  {
   "cell_type": "markdown",
   "metadata": {},
   "source": [
    "(4) Show (print and state) the difference between L.insert (2, [77, 78]) and\n",
    "L.extend(2, [77, 78])."
   ]
  },
  {
   "cell_type": "code",
   "execution_count": 59,
   "metadata": {},
   "outputs": [
    {
     "name": "stdout",
     "output_type": "stream",
     "text": [
      "['92', \"'s mark is \", [77, 78], \"Minko's mark is 90\", \"Mary's mark is 88\", 'Lucy']\n"
     ]
    }
   ],
   "source": [
    "L_insert = L[:]\n",
    "L_insert.insert(2, [77, 78])\n",
    "print(L_insert)"
   ]
  },
  {
   "cell_type": "code",
   "execution_count": 61,
   "metadata": {},
   "outputs": [
    {
     "data": {
      "text/plain": [
       "['92',\n",
       " \"'s mark is \",\n",
       " \"Minko's mark is 90\",\n",
       " \"Mary's mark is 88\",\n",
       " 'Lucy',\n",
       " 2,\n",
       " [77, 78]]"
      ]
     },
     "execution_count": 61,
     "metadata": {},
     "output_type": "execute_result"
    }
   ],
   "source": [
    "L_extend = L[:]\n",
    "L_extend.extend((2, [77, 78]))\n",
    "L_extend"
   ]
  },
  {
   "cell_type": "markdown",
   "metadata": {},
   "source": [
    "(5) Can we perform the same operations on the tuple ‘T’? Why?\n",
    "Ans --> No becasue tuple are immutable"
   ]
  },
  {
   "cell_type": "markdown",
   "metadata": {},
   "source": [
    "g) What is the difference (in usage) between Y=L.copy() and Z=L? Please counter\n",
    "an example.\n",
    "Ans --> Copies the list with copy function, Z=L copies the refrences"
   ]
  },
  {
   "cell_type": "code",
   "execution_count": 2,
   "metadata": {},
   "outputs": [
    {
     "name": "stdout",
     "output_type": "stream",
     "text": [
      "\n"
     ]
    }
   ],
   "source": [
    "print()"
   ]
  },
  {
   "cell_type": "markdown",
   "metadata": {},
   "source": [
    "Q3) Create a list ‘X’ including the following numbers 1, 2, 3, .., 10\n",
    "a) Using Python code to calculate the ‘sum’ of these sequential numbers in ‘X’. "
   ]
  },
  {
   "cell_type": "code",
   "execution_count": 2,
   "metadata": {},
   "outputs": [
    {
     "name": "stdout",
     "output_type": "stream",
     "text": [
      "55\n"
     ]
    }
   ],
   "source": [
    "X = [i for i in range(1,11)]\n",
    "print(sum(X))"
   ]
  },
  {
   "cell_type": "markdown",
   "metadata": {},
   "source": [
    "b) Convert the tuple in a) to a string object by CHAR-concatenating of all numeric\n",
    "elements."
   ]
  },
  {
   "cell_type": "code",
   "execution_count": 7,
   "metadata": {},
   "outputs": [
    {
     "data": {
      "text/plain": [
       "'12345678910'"
      ]
     },
     "execution_count": 7,
     "metadata": {},
     "output_type": "execute_result"
    }
   ],
   "source": [
    "s =\"\"\n",
    "concat = [str(i) for i in range(1,11)]\n",
    "y = s.join(concat)\n",
    "y"
   ]
  },
  {
   "cell_type": "markdown",
   "metadata": {},
   "source": [
    "c) Use the List function ‘zip()’ to pair list, i.e. create a new list object ‘P’ in the\n",
    "following form"
   ]
  },
  {
   "cell_type": "code",
   "execution_count": 15,
   "metadata": {},
   "outputs": [
    {
     "name": "stdout",
     "output_type": "stream",
     "text": [
      "[('a', 1), ('b', 2), ('c', 3), ('d', 4), ('e', 5), ('f', 6), ('g', 7), ('h', 8), ('i', 9), ('j', 10)]\n"
     ]
    }
   ],
   "source": [
    "abc = \"abcdefghij\"\n",
    "str_list = [i for i in abc]\n",
    "str_list\n",
    "P = list(zip(str_list, X))\n",
    "print(P)"
   ]
  },
  {
   "cell_type": "markdown",
   "metadata": {},
   "source": [
    "d) Use List Comprehension method to create a list Y= (10, 20,…, 100). Then pair X\n",
    "and Y to create a new list ‘Z’. "
   ]
  },
  {
   "cell_type": "code",
   "execution_count": 20,
   "metadata": {},
   "outputs": [
    {
     "data": {
      "text/plain": [
       "[(1, 10),\n",
       " (2, 20),\n",
       " (3, 30),\n",
       " (4, 40),\n",
       " (5, 50),\n",
       " (6, 60),\n",
       " (7, 70),\n",
       " (8, 80),\n",
       " (9, 90),\n",
       " (10, 100)]"
      ]
     },
     "execution_count": 20,
     "metadata": {},
     "output_type": "execute_result"
    }
   ],
   "source": [
    "Y = [i for i in range(10,101,10)]\n",
    "Z = list(zip(X,Y))\n",
    "Z"
   ]
  },
  {
   "cell_type": "markdown",
   "metadata": {},
   "source": [
    "Q4) Split the following string (separated by the semicolon ‘:’ ) into a new List\n",
    "‘200:is:a:large:number’, then concatenate item in list to a string variable\n",
    "separated by ‘-‘ (using join() function). "
   ]
  },
  {
   "cell_type": "code",
   "execution_count": 26,
   "metadata": {},
   "outputs": [
    {
     "data": {
      "text/plain": [
       "'200-is-a-large-number'"
      ]
     },
     "execution_count": 26,
     "metadata": {},
     "output_type": "execute_result"
    }
   ],
   "source": [
    "s = \"200;is;a;large;number\"\n",
    "s_new = s.replace(\";\",\":\")\n",
    "s_new = s_new.split(\":\")\n",
    "s_new = \"-\".join(s_new)\n",
    "s_new"
   ]
  },
  {
   "cell_type": "markdown",
   "metadata": {},
   "source": [
    "Q5) Create a dictionary object ‘D’ using the key:value -> word:count. It contains\n",
    "the following elements:\n",
    "Word Count\n",
    "Give 3\n",
    "Receive 5\n",
    "Random 2\n",
    "Good 1\n",
    "a) Print the dictionary ‘D’ and its data type."
   ]
  },
  {
   "cell_type": "code",
   "execution_count": 50,
   "metadata": {},
   "outputs": [
    {
     "name": "stdout",
     "output_type": "stream",
     "text": [
      "{'Give': 3, 'Receive': 5, 'Random': 2, 'Good': 1} <class 'dict'>\n"
     ]
    }
   ],
   "source": [
    "D = {'Give':3, 'Receive':5, 'Random':2, 'Good':1}\n",
    "print(D, type(D))"
   ]
  },
  {
   "cell_type": "markdown",
   "metadata": {},
   "source": [
    "b) Change the second item’s value to 5 (from 7).\n"
   ]
  },
  {
   "cell_type": "code",
   "execution_count": 43,
   "metadata": {},
   "outputs": [
    {
     "data": {
      "text/plain": [
       "{'Give': 3, 'Receive': 7, 'Random': 2, 'Good': 1}"
      ]
     },
     "execution_count": 43,
     "metadata": {},
     "output_type": "execute_result"
    }
   ],
   "source": [
    "D['Receive'] = 7\n",
    "D"
   ]
  },
  {
   "cell_type": "markdown",
   "metadata": {},
   "source": [
    "c) Create a list ‘key’ containing the keys of the Dictionary ‘D’, and a list ‘value’\n",
    "containing the values for each key.\n"
   ]
  },
  {
   "cell_type": "code",
   "execution_count": 44,
   "metadata": {},
   "outputs": [
    {
     "name": "stdout",
     "output_type": "stream",
     "text": [
      "['Give', 'Receive', 'Random', 'Good'] [3, 7, 2, 1]\n"
     ]
    }
   ],
   "source": [
    "list_key = list(D.keys())\n",
    "list_value = list(D.values())\n",
    "print(list_key, list_value)"
   ]
  },
  {
   "cell_type": "markdown",
   "metadata": {},
   "source": [
    "d) Copy ‘D’ to get a new dictionary ‘D1’ and delete the third item from ‘D1’. "
   ]
  },
  {
   "cell_type": "code",
   "execution_count": 51,
   "metadata": {},
   "outputs": [
    {
     "data": {
      "text/plain": [
       "{'Give': 3, 'Receive': 5, 'Good': 1}"
      ]
     },
     "execution_count": 51,
     "metadata": {},
     "output_type": "execute_result"
    }
   ],
   "source": [
    "D1 = D.copy()\n",
    "D1.pop('Random')\n",
    "D1"
   ]
  },
  {
   "cell_type": "markdown",
   "metadata": {},
   "source": [
    "Q6) Write Python codes (use Python control flow) to count the frequency of each\n",
    "word in the following string ‘reading is not difficult for you; the difficult part is to\n",
    "understand your reading’. "
   ]
  },
  {
   "cell_type": "code",
   "execution_count": 2,
   "metadata": {},
   "outputs": [
    {
     "data": {
      "text/plain": [
       "[('is', 2),\n",
       " ('difficult', 2),\n",
       " ('the', 1),\n",
       " ('reading', 2),\n",
       " ('for', 1),\n",
       " ('understand', 1),\n",
       " ('you;', 1),\n",
       " ('part', 1),\n",
       " ('your', 1),\n",
       " ('to', 1),\n",
       " ('not', 1)]"
      ]
     },
     "execution_count": 2,
     "metadata": {},
     "output_type": "execute_result"
    }
   ],
   "source": [
    "s = 'reading is not difficult for you; the difficult part is to understand your reading'\n",
    "s_list = s.split(' ')\n",
    "s_unique = set(s_list)\n",
    "#print(s_unique)\n",
    "x = [(i,s_list.count(i)) for i in s_unique]\n",
    "x"
   ]
  },
  {
   "cell_type": "code",
   "execution_count": 3,
   "metadata": {},
   "outputs": [
    {
     "data": {
      "text/plain": [
       "Counter({'reading': 2,\n",
       "         'is': 2,\n",
       "         'not': 1,\n",
       "         'difficult': 2,\n",
       "         'for': 1,\n",
       "         'you;': 1,\n",
       "         'the': 1,\n",
       "         'part': 1,\n",
       "         'to': 1,\n",
       "         'understand': 1,\n",
       "         'your': 1})"
      ]
     },
     "execution_count": 3,
     "metadata": {},
     "output_type": "execute_result"
    }
   ],
   "source": [
    "## easier solution\n",
    "from collections import Counter\n",
    "x = Counter(s_list)\n",
    "x"
   ]
  },
  {
   "cell_type": "code",
   "execution_count": null,
   "metadata": {},
   "outputs": [],
   "source": []
  },
  {
   "cell_type": "code",
   "execution_count": null,
   "metadata": {},
   "outputs": [],
   "source": []
  },
  {
   "cell_type": "code",
   "execution_count": null,
   "metadata": {},
   "outputs": [],
   "source": []
  },
  {
   "cell_type": "code",
   "execution_count": null,
   "metadata": {},
   "outputs": [],
   "source": []
  },
  {
   "cell_type": "code",
   "execution_count": null,
   "metadata": {},
   "outputs": [],
   "source": []
  }
 ],
 "metadata": {
  "kernelspec": {
   "display_name": "Python 3",
   "language": "python",
   "name": "python3"
  },
  "language_info": {
   "codemirror_mode": {
    "name": "ipython",
    "version": 3
   },
   "file_extension": ".py",
   "mimetype": "text/x-python",
   "name": "python",
   "nbconvert_exporter": "python",
   "pygments_lexer": "ipython3",
   "version": "3.7.1"
  }
 },
 "nbformat": 4,
 "nbformat_minor": 2
}
